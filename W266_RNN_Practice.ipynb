{
  "nbformat": 4,
  "nbformat_minor": 0,
  "metadata": {
    "colab": {
      "provenance": [],
      "gpuType": "T4",
      "authorship_tag": "ABX9TyO6/Y98zIiaACyGfTYuIVO9",
      "include_colab_link": true
    },
    "kernelspec": {
      "name": "python3",
      "display_name": "Python 3"
    },
    "language_info": {
      "name": "python"
    },
    "accelerator": "GPU",
    "widgets": {
      "application/vnd.jupyter.widget-state+json": {
        "169d3f1ba6424a849fd0b2aa2b7bde16": {
          "model_module": "@jupyter-widgets/controls",
          "model_name": "HBoxModel",
          "model_module_version": "1.5.0",
          "state": {
            "_dom_classes": [],
            "_model_module": "@jupyter-widgets/controls",
            "_model_module_version": "1.5.0",
            "_model_name": "HBoxModel",
            "_view_count": null,
            "_view_module": "@jupyter-widgets/controls",
            "_view_module_version": "1.5.0",
            "_view_name": "HBoxView",
            "box_style": "",
            "children": [
              "IPY_MODEL_34e755722dfd43f6b7f16e826e86357d",
              "IPY_MODEL_e3366ffcb78544ad9d02d8b5297ec14e",
              "IPY_MODEL_3a8725d2110d44debc96d49b06e78cf9"
            ],
            "layout": "IPY_MODEL_9b18c89a03744593bc1de28e34f15174"
          }
        },
        "34e755722dfd43f6b7f16e826e86357d": {
          "model_module": "@jupyter-widgets/controls",
          "model_name": "HTMLModel",
          "model_module_version": "1.5.0",
          "state": {
            "_dom_classes": [],
            "_model_module": "@jupyter-widgets/controls",
            "_model_module_version": "1.5.0",
            "_model_name": "HTMLModel",
            "_view_count": null,
            "_view_module": "@jupyter-widgets/controls",
            "_view_module_version": "1.5.0",
            "_view_name": "HTMLView",
            "description": "",
            "description_tooltip": null,
            "layout": "IPY_MODEL_ec79e2fdfac84e7787ff9d564e332204",
            "placeholder": "​",
            "style": "IPY_MODEL_1a2b397677e9424abd6020a16ca505ce",
            "value": "Dl Completed...: 100%"
          }
        },
        "e3366ffcb78544ad9d02d8b5297ec14e": {
          "model_module": "@jupyter-widgets/controls",
          "model_name": "FloatProgressModel",
          "model_module_version": "1.5.0",
          "state": {
            "_dom_classes": [],
            "_model_module": "@jupyter-widgets/controls",
            "_model_module_version": "1.5.0",
            "_model_name": "FloatProgressModel",
            "_view_count": null,
            "_view_module": "@jupyter-widgets/controls",
            "_view_module_version": "1.5.0",
            "_view_name": "ProgressView",
            "bar_style": "success",
            "description": "",
            "description_tooltip": null,
            "layout": "IPY_MODEL_e539240287f146d7a79f4f865537b977",
            "max": 1,
            "min": 0,
            "orientation": "horizontal",
            "style": "IPY_MODEL_ef7fb32cbbf04258a716810f3b214e2d",
            "value": 1
          }
        },
        "3a8725d2110d44debc96d49b06e78cf9": {
          "model_module": "@jupyter-widgets/controls",
          "model_name": "HTMLModel",
          "model_module_version": "1.5.0",
          "state": {
            "_dom_classes": [],
            "_model_module": "@jupyter-widgets/controls",
            "_model_module_version": "1.5.0",
            "_model_name": "HTMLModel",
            "_view_count": null,
            "_view_module": "@jupyter-widgets/controls",
            "_view_module_version": "1.5.0",
            "_view_name": "HTMLView",
            "description": "",
            "description_tooltip": null,
            "layout": "IPY_MODEL_795b151cc5b94e88819335de849b1384",
            "placeholder": "​",
            "style": "IPY_MODEL_7f0f12b4bb034fea99234d2dcb281688",
            "value": " 1/1 [00:02&lt;00:00,  2.99s/ url]"
          }
        },
        "9b18c89a03744593bc1de28e34f15174": {
          "model_module": "@jupyter-widgets/base",
          "model_name": "LayoutModel",
          "model_module_version": "1.2.0",
          "state": {
            "_model_module": "@jupyter-widgets/base",
            "_model_module_version": "1.2.0",
            "_model_name": "LayoutModel",
            "_view_count": null,
            "_view_module": "@jupyter-widgets/base",
            "_view_module_version": "1.2.0",
            "_view_name": "LayoutView",
            "align_content": null,
            "align_items": null,
            "align_self": null,
            "border": null,
            "bottom": null,
            "display": null,
            "flex": null,
            "flex_flow": null,
            "grid_area": null,
            "grid_auto_columns": null,
            "grid_auto_flow": null,
            "grid_auto_rows": null,
            "grid_column": null,
            "grid_gap": null,
            "grid_row": null,
            "grid_template_areas": null,
            "grid_template_columns": null,
            "grid_template_rows": null,
            "height": null,
            "justify_content": null,
            "justify_items": null,
            "left": null,
            "margin": null,
            "max_height": null,
            "max_width": null,
            "min_height": null,
            "min_width": null,
            "object_fit": null,
            "object_position": null,
            "order": null,
            "overflow": null,
            "overflow_x": null,
            "overflow_y": null,
            "padding": null,
            "right": null,
            "top": null,
            "visibility": null,
            "width": null
          }
        },
        "ec79e2fdfac84e7787ff9d564e332204": {
          "model_module": "@jupyter-widgets/base",
          "model_name": "LayoutModel",
          "model_module_version": "1.2.0",
          "state": {
            "_model_module": "@jupyter-widgets/base",
            "_model_module_version": "1.2.0",
            "_model_name": "LayoutModel",
            "_view_count": null,
            "_view_module": "@jupyter-widgets/base",
            "_view_module_version": "1.2.0",
            "_view_name": "LayoutView",
            "align_content": null,
            "align_items": null,
            "align_self": null,
            "border": null,
            "bottom": null,
            "display": null,
            "flex": null,
            "flex_flow": null,
            "grid_area": null,
            "grid_auto_columns": null,
            "grid_auto_flow": null,
            "grid_auto_rows": null,
            "grid_column": null,
            "grid_gap": null,
            "grid_row": null,
            "grid_template_areas": null,
            "grid_template_columns": null,
            "grid_template_rows": null,
            "height": null,
            "justify_content": null,
            "justify_items": null,
            "left": null,
            "margin": null,
            "max_height": null,
            "max_width": null,
            "min_height": null,
            "min_width": null,
            "object_fit": null,
            "object_position": null,
            "order": null,
            "overflow": null,
            "overflow_x": null,
            "overflow_y": null,
            "padding": null,
            "right": null,
            "top": null,
            "visibility": null,
            "width": null
          }
        },
        "1a2b397677e9424abd6020a16ca505ce": {
          "model_module": "@jupyter-widgets/controls",
          "model_name": "DescriptionStyleModel",
          "model_module_version": "1.5.0",
          "state": {
            "_model_module": "@jupyter-widgets/controls",
            "_model_module_version": "1.5.0",
            "_model_name": "DescriptionStyleModel",
            "_view_count": null,
            "_view_module": "@jupyter-widgets/base",
            "_view_module_version": "1.2.0",
            "_view_name": "StyleView",
            "description_width": ""
          }
        },
        "e539240287f146d7a79f4f865537b977": {
          "model_module": "@jupyter-widgets/base",
          "model_name": "LayoutModel",
          "model_module_version": "1.2.0",
          "state": {
            "_model_module": "@jupyter-widgets/base",
            "_model_module_version": "1.2.0",
            "_model_name": "LayoutModel",
            "_view_count": null,
            "_view_module": "@jupyter-widgets/base",
            "_view_module_version": "1.2.0",
            "_view_name": "LayoutView",
            "align_content": null,
            "align_items": null,
            "align_self": null,
            "border": null,
            "bottom": null,
            "display": null,
            "flex": null,
            "flex_flow": null,
            "grid_area": null,
            "grid_auto_columns": null,
            "grid_auto_flow": null,
            "grid_auto_rows": null,
            "grid_column": null,
            "grid_gap": null,
            "grid_row": null,
            "grid_template_areas": null,
            "grid_template_columns": null,
            "grid_template_rows": null,
            "height": null,
            "justify_content": null,
            "justify_items": null,
            "left": null,
            "margin": null,
            "max_height": null,
            "max_width": null,
            "min_height": null,
            "min_width": null,
            "object_fit": null,
            "object_position": null,
            "order": null,
            "overflow": null,
            "overflow_x": null,
            "overflow_y": null,
            "padding": null,
            "right": null,
            "top": null,
            "visibility": null,
            "width": "20px"
          }
        },
        "ef7fb32cbbf04258a716810f3b214e2d": {
          "model_module": "@jupyter-widgets/controls",
          "model_name": "ProgressStyleModel",
          "model_module_version": "1.5.0",
          "state": {
            "_model_module": "@jupyter-widgets/controls",
            "_model_module_version": "1.5.0",
            "_model_name": "ProgressStyleModel",
            "_view_count": null,
            "_view_module": "@jupyter-widgets/base",
            "_view_module_version": "1.2.0",
            "_view_name": "StyleView",
            "bar_color": null,
            "description_width": ""
          }
        },
        "795b151cc5b94e88819335de849b1384": {
          "model_module": "@jupyter-widgets/base",
          "model_name": "LayoutModel",
          "model_module_version": "1.2.0",
          "state": {
            "_model_module": "@jupyter-widgets/base",
            "_model_module_version": "1.2.0",
            "_model_name": "LayoutModel",
            "_view_count": null,
            "_view_module": "@jupyter-widgets/base",
            "_view_module_version": "1.2.0",
            "_view_name": "LayoutView",
            "align_content": null,
            "align_items": null,
            "align_self": null,
            "border": null,
            "bottom": null,
            "display": null,
            "flex": null,
            "flex_flow": null,
            "grid_area": null,
            "grid_auto_columns": null,
            "grid_auto_flow": null,
            "grid_auto_rows": null,
            "grid_column": null,
            "grid_gap": null,
            "grid_row": null,
            "grid_template_areas": null,
            "grid_template_columns": null,
            "grid_template_rows": null,
            "height": null,
            "justify_content": null,
            "justify_items": null,
            "left": null,
            "margin": null,
            "max_height": null,
            "max_width": null,
            "min_height": null,
            "min_width": null,
            "object_fit": null,
            "object_position": null,
            "order": null,
            "overflow": null,
            "overflow_x": null,
            "overflow_y": null,
            "padding": null,
            "right": null,
            "top": null,
            "visibility": null,
            "width": null
          }
        },
        "7f0f12b4bb034fea99234d2dcb281688": {
          "model_module": "@jupyter-widgets/controls",
          "model_name": "DescriptionStyleModel",
          "model_module_version": "1.5.0",
          "state": {
            "_model_module": "@jupyter-widgets/controls",
            "_model_module_version": "1.5.0",
            "_model_name": "DescriptionStyleModel",
            "_view_count": null,
            "_view_module": "@jupyter-widgets/base",
            "_view_module_version": "1.2.0",
            "_view_name": "StyleView",
            "description_width": ""
          }
        },
        "c1617be297e44b20ad05c9366087d85a": {
          "model_module": "@jupyter-widgets/controls",
          "model_name": "HBoxModel",
          "model_module_version": "1.5.0",
          "state": {
            "_dom_classes": [],
            "_model_module": "@jupyter-widgets/controls",
            "_model_module_version": "1.5.0",
            "_model_name": "HBoxModel",
            "_view_count": null,
            "_view_module": "@jupyter-widgets/controls",
            "_view_module_version": "1.5.0",
            "_view_name": "HBoxView",
            "box_style": "",
            "children": [
              "IPY_MODEL_a271e5b71d1545fe8116fcaa3e45f28b",
              "IPY_MODEL_1b53fb1d0d424166a919a29c99e37191",
              "IPY_MODEL_088bb061166848168bdc6ac4d487d301"
            ],
            "layout": "IPY_MODEL_53da5877f63542a892b66114e8271037"
          }
        },
        "a271e5b71d1545fe8116fcaa3e45f28b": {
          "model_module": "@jupyter-widgets/controls",
          "model_name": "HTMLModel",
          "model_module_version": "1.5.0",
          "state": {
            "_dom_classes": [],
            "_model_module": "@jupyter-widgets/controls",
            "_model_module_version": "1.5.0",
            "_model_name": "HTMLModel",
            "_view_count": null,
            "_view_module": "@jupyter-widgets/controls",
            "_view_module_version": "1.5.0",
            "_view_name": "HTMLView",
            "description": "",
            "description_tooltip": null,
            "layout": "IPY_MODEL_61ff67a250264b8ebbfd0e30586d6e23",
            "placeholder": "​",
            "style": "IPY_MODEL_49f15f80e4bc45779c822dc9cefa115a",
            "value": "Dl Size...: 100%"
          }
        },
        "1b53fb1d0d424166a919a29c99e37191": {
          "model_module": "@jupyter-widgets/controls",
          "model_name": "FloatProgressModel",
          "model_module_version": "1.5.0",
          "state": {
            "_dom_classes": [],
            "_model_module": "@jupyter-widgets/controls",
            "_model_module_version": "1.5.0",
            "_model_name": "FloatProgressModel",
            "_view_count": null,
            "_view_module": "@jupyter-widgets/controls",
            "_view_module_version": "1.5.0",
            "_view_name": "ProgressView",
            "bar_style": "success",
            "description": "",
            "description_tooltip": null,
            "layout": "IPY_MODEL_b91e0bf6a1184feaa521bc352660eb35",
            "max": 1,
            "min": 0,
            "orientation": "horizontal",
            "style": "IPY_MODEL_b4bb2fa0e46a495fa8923fc15b0de3e7",
            "value": 1
          }
        },
        "088bb061166848168bdc6ac4d487d301": {
          "model_module": "@jupyter-widgets/controls",
          "model_name": "HTMLModel",
          "model_module_version": "1.5.0",
          "state": {
            "_dom_classes": [],
            "_model_module": "@jupyter-widgets/controls",
            "_model_module_version": "1.5.0",
            "_model_name": "HTMLModel",
            "_view_count": null,
            "_view_module": "@jupyter-widgets/controls",
            "_view_module_version": "1.5.0",
            "_view_name": "HTMLView",
            "description": "",
            "description_tooltip": null,
            "layout": "IPY_MODEL_e7e8616aaf7b4c9bba469d22f372bc0e",
            "placeholder": "​",
            "style": "IPY_MODEL_2353a03227a64b70aa4063e410039a28",
            "value": " 80/80 [00:02&lt;00:00, 34.09 MiB/s]"
          }
        },
        "53da5877f63542a892b66114e8271037": {
          "model_module": "@jupyter-widgets/base",
          "model_name": "LayoutModel",
          "model_module_version": "1.2.0",
          "state": {
            "_model_module": "@jupyter-widgets/base",
            "_model_module_version": "1.2.0",
            "_model_name": "LayoutModel",
            "_view_count": null,
            "_view_module": "@jupyter-widgets/base",
            "_view_module_version": "1.2.0",
            "_view_name": "LayoutView",
            "align_content": null,
            "align_items": null,
            "align_self": null,
            "border": null,
            "bottom": null,
            "display": null,
            "flex": null,
            "flex_flow": null,
            "grid_area": null,
            "grid_auto_columns": null,
            "grid_auto_flow": null,
            "grid_auto_rows": null,
            "grid_column": null,
            "grid_gap": null,
            "grid_row": null,
            "grid_template_areas": null,
            "grid_template_columns": null,
            "grid_template_rows": null,
            "height": null,
            "justify_content": null,
            "justify_items": null,
            "left": null,
            "margin": null,
            "max_height": null,
            "max_width": null,
            "min_height": null,
            "min_width": null,
            "object_fit": null,
            "object_position": null,
            "order": null,
            "overflow": null,
            "overflow_x": null,
            "overflow_y": null,
            "padding": null,
            "right": null,
            "top": null,
            "visibility": null,
            "width": null
          }
        },
        "61ff67a250264b8ebbfd0e30586d6e23": {
          "model_module": "@jupyter-widgets/base",
          "model_name": "LayoutModel",
          "model_module_version": "1.2.0",
          "state": {
            "_model_module": "@jupyter-widgets/base",
            "_model_module_version": "1.2.0",
            "_model_name": "LayoutModel",
            "_view_count": null,
            "_view_module": "@jupyter-widgets/base",
            "_view_module_version": "1.2.0",
            "_view_name": "LayoutView",
            "align_content": null,
            "align_items": null,
            "align_self": null,
            "border": null,
            "bottom": null,
            "display": null,
            "flex": null,
            "flex_flow": null,
            "grid_area": null,
            "grid_auto_columns": null,
            "grid_auto_flow": null,
            "grid_auto_rows": null,
            "grid_column": null,
            "grid_gap": null,
            "grid_row": null,
            "grid_template_areas": null,
            "grid_template_columns": null,
            "grid_template_rows": null,
            "height": null,
            "justify_content": null,
            "justify_items": null,
            "left": null,
            "margin": null,
            "max_height": null,
            "max_width": null,
            "min_height": null,
            "min_width": null,
            "object_fit": null,
            "object_position": null,
            "order": null,
            "overflow": null,
            "overflow_x": null,
            "overflow_y": null,
            "padding": null,
            "right": null,
            "top": null,
            "visibility": null,
            "width": null
          }
        },
        "49f15f80e4bc45779c822dc9cefa115a": {
          "model_module": "@jupyter-widgets/controls",
          "model_name": "DescriptionStyleModel",
          "model_module_version": "1.5.0",
          "state": {
            "_model_module": "@jupyter-widgets/controls",
            "_model_module_version": "1.5.0",
            "_model_name": "DescriptionStyleModel",
            "_view_count": null,
            "_view_module": "@jupyter-widgets/base",
            "_view_module_version": "1.2.0",
            "_view_name": "StyleView",
            "description_width": ""
          }
        },
        "b91e0bf6a1184feaa521bc352660eb35": {
          "model_module": "@jupyter-widgets/base",
          "model_name": "LayoutModel",
          "model_module_version": "1.2.0",
          "state": {
            "_model_module": "@jupyter-widgets/base",
            "_model_module_version": "1.2.0",
            "_model_name": "LayoutModel",
            "_view_count": null,
            "_view_module": "@jupyter-widgets/base",
            "_view_module_version": "1.2.0",
            "_view_name": "LayoutView",
            "align_content": null,
            "align_items": null,
            "align_self": null,
            "border": null,
            "bottom": null,
            "display": null,
            "flex": null,
            "flex_flow": null,
            "grid_area": null,
            "grid_auto_columns": null,
            "grid_auto_flow": null,
            "grid_auto_rows": null,
            "grid_column": null,
            "grid_gap": null,
            "grid_row": null,
            "grid_template_areas": null,
            "grid_template_columns": null,
            "grid_template_rows": null,
            "height": null,
            "justify_content": null,
            "justify_items": null,
            "left": null,
            "margin": null,
            "max_height": null,
            "max_width": null,
            "min_height": null,
            "min_width": null,
            "object_fit": null,
            "object_position": null,
            "order": null,
            "overflow": null,
            "overflow_x": null,
            "overflow_y": null,
            "padding": null,
            "right": null,
            "top": null,
            "visibility": null,
            "width": "20px"
          }
        },
        "b4bb2fa0e46a495fa8923fc15b0de3e7": {
          "model_module": "@jupyter-widgets/controls",
          "model_name": "ProgressStyleModel",
          "model_module_version": "1.5.0",
          "state": {
            "_model_module": "@jupyter-widgets/controls",
            "_model_module_version": "1.5.0",
            "_model_name": "ProgressStyleModel",
            "_view_count": null,
            "_view_module": "@jupyter-widgets/base",
            "_view_module_version": "1.2.0",
            "_view_name": "StyleView",
            "bar_color": null,
            "description_width": ""
          }
        },
        "e7e8616aaf7b4c9bba469d22f372bc0e": {
          "model_module": "@jupyter-widgets/base",
          "model_name": "LayoutModel",
          "model_module_version": "1.2.0",
          "state": {
            "_model_module": "@jupyter-widgets/base",
            "_model_module_version": "1.2.0",
            "_model_name": "LayoutModel",
            "_view_count": null,
            "_view_module": "@jupyter-widgets/base",
            "_view_module_version": "1.2.0",
            "_view_name": "LayoutView",
            "align_content": null,
            "align_items": null,
            "align_self": null,
            "border": null,
            "bottom": null,
            "display": null,
            "flex": null,
            "flex_flow": null,
            "grid_area": null,
            "grid_auto_columns": null,
            "grid_auto_flow": null,
            "grid_auto_rows": null,
            "grid_column": null,
            "grid_gap": null,
            "grid_row": null,
            "grid_template_areas": null,
            "grid_template_columns": null,
            "grid_template_rows": null,
            "height": null,
            "justify_content": null,
            "justify_items": null,
            "left": null,
            "margin": null,
            "max_height": null,
            "max_width": null,
            "min_height": null,
            "min_width": null,
            "object_fit": null,
            "object_position": null,
            "order": null,
            "overflow": null,
            "overflow_x": null,
            "overflow_y": null,
            "padding": null,
            "right": null,
            "top": null,
            "visibility": null,
            "width": null
          }
        },
        "2353a03227a64b70aa4063e410039a28": {
          "model_module": "@jupyter-widgets/controls",
          "model_name": "DescriptionStyleModel",
          "model_module_version": "1.5.0",
          "state": {
            "_model_module": "@jupyter-widgets/controls",
            "_model_module_version": "1.5.0",
            "_model_name": "DescriptionStyleModel",
            "_view_count": null,
            "_view_module": "@jupyter-widgets/base",
            "_view_module_version": "1.2.0",
            "_view_name": "StyleView",
            "description_width": ""
          }
        },
        "bf55fa14d7b44fa99217c2ba8e68eb7b": {
          "model_module": "@jupyter-widgets/controls",
          "model_name": "HBoxModel",
          "model_module_version": "1.5.0",
          "state": {
            "_dom_classes": [],
            "_model_module": "@jupyter-widgets/controls",
            "_model_module_version": "1.5.0",
            "_model_name": "HBoxModel",
            "_view_count": null,
            "_view_module": "@jupyter-widgets/controls",
            "_view_module_version": "1.5.0",
            "_view_name": "HBoxView",
            "box_style": "",
            "children": [
              "IPY_MODEL_fd4d855116954a0eb07f74c90dad9def",
              "IPY_MODEL_2c90e24e297a4bd388645be26a28cfa1",
              "IPY_MODEL_ef300b748628445a9552ebf07a65454b"
            ],
            "layout": "IPY_MODEL_a1e9f70e5da54d9fb4ee1ca2e0d391f7"
          }
        },
        "fd4d855116954a0eb07f74c90dad9def": {
          "model_module": "@jupyter-widgets/controls",
          "model_name": "HTMLModel",
          "model_module_version": "1.5.0",
          "state": {
            "_dom_classes": [],
            "_model_module": "@jupyter-widgets/controls",
            "_model_module_version": "1.5.0",
            "_model_name": "HTMLModel",
            "_view_count": null,
            "_view_module": "@jupyter-widgets/controls",
            "_view_module_version": "1.5.0",
            "_view_name": "HTMLView",
            "description": "",
            "description_tooltip": null,
            "layout": "IPY_MODEL_45184b9325c544038258e98f3d320e7f",
            "placeholder": "​",
            "style": "IPY_MODEL_c7904b92e2434828ad9337a17ddbba95",
            "value": "Generating splits...: 100%"
          }
        },
        "2c90e24e297a4bd388645be26a28cfa1": {
          "model_module": "@jupyter-widgets/controls",
          "model_name": "FloatProgressModel",
          "model_module_version": "1.5.0",
          "state": {
            "_dom_classes": [],
            "_model_module": "@jupyter-widgets/controls",
            "_model_module_version": "1.5.0",
            "_model_name": "FloatProgressModel",
            "_view_count": null,
            "_view_module": "@jupyter-widgets/controls",
            "_view_module_version": "1.5.0",
            "_view_name": "ProgressView",
            "bar_style": "",
            "description": "",
            "description_tooltip": null,
            "layout": "IPY_MODEL_5e02272fbd2349a4879d083211972a9e",
            "max": 3,
            "min": 0,
            "orientation": "horizontal",
            "style": "IPY_MODEL_c4539ba0d17249b5819966e3c0cef1f6",
            "value": 3
          }
        },
        "ef300b748628445a9552ebf07a65454b": {
          "model_module": "@jupyter-widgets/controls",
          "model_name": "HTMLModel",
          "model_module_version": "1.5.0",
          "state": {
            "_dom_classes": [],
            "_model_module": "@jupyter-widgets/controls",
            "_model_module_version": "1.5.0",
            "_model_name": "HTMLModel",
            "_view_count": null,
            "_view_module": "@jupyter-widgets/controls",
            "_view_module_version": "1.5.0",
            "_view_name": "HTMLView",
            "description": "",
            "description_tooltip": null,
            "layout": "IPY_MODEL_80be9c5b9f564eb089b75ba48e8139bd",
            "placeholder": "​",
            "style": "IPY_MODEL_39c64766c1a44d41b05f576105f099cb",
            "value": " 3/3 [00:37&lt;00:00, 12.79s/ splits]"
          }
        },
        "a1e9f70e5da54d9fb4ee1ca2e0d391f7": {
          "model_module": "@jupyter-widgets/base",
          "model_name": "LayoutModel",
          "model_module_version": "1.2.0",
          "state": {
            "_model_module": "@jupyter-widgets/base",
            "_model_module_version": "1.2.0",
            "_model_name": "LayoutModel",
            "_view_count": null,
            "_view_module": "@jupyter-widgets/base",
            "_view_module_version": "1.2.0",
            "_view_name": "LayoutView",
            "align_content": null,
            "align_items": null,
            "align_self": null,
            "border": null,
            "bottom": null,
            "display": null,
            "flex": null,
            "flex_flow": null,
            "grid_area": null,
            "grid_auto_columns": null,
            "grid_auto_flow": null,
            "grid_auto_rows": null,
            "grid_column": null,
            "grid_gap": null,
            "grid_row": null,
            "grid_template_areas": null,
            "grid_template_columns": null,
            "grid_template_rows": null,
            "height": null,
            "justify_content": null,
            "justify_items": null,
            "left": null,
            "margin": null,
            "max_height": null,
            "max_width": null,
            "min_height": null,
            "min_width": null,
            "object_fit": null,
            "object_position": null,
            "order": null,
            "overflow": null,
            "overflow_x": null,
            "overflow_y": null,
            "padding": null,
            "right": null,
            "top": null,
            "visibility": "hidden",
            "width": null
          }
        },
        "45184b9325c544038258e98f3d320e7f": {
          "model_module": "@jupyter-widgets/base",
          "model_name": "LayoutModel",
          "model_module_version": "1.2.0",
          "state": {
            "_model_module": "@jupyter-widgets/base",
            "_model_module_version": "1.2.0",
            "_model_name": "LayoutModel",
            "_view_count": null,
            "_view_module": "@jupyter-widgets/base",
            "_view_module_version": "1.2.0",
            "_view_name": "LayoutView",
            "align_content": null,
            "align_items": null,
            "align_self": null,
            "border": null,
            "bottom": null,
            "display": null,
            "flex": null,
            "flex_flow": null,
            "grid_area": null,
            "grid_auto_columns": null,
            "grid_auto_flow": null,
            "grid_auto_rows": null,
            "grid_column": null,
            "grid_gap": null,
            "grid_row": null,
            "grid_template_areas": null,
            "grid_template_columns": null,
            "grid_template_rows": null,
            "height": null,
            "justify_content": null,
            "justify_items": null,
            "left": null,
            "margin": null,
            "max_height": null,
            "max_width": null,
            "min_height": null,
            "min_width": null,
            "object_fit": null,
            "object_position": null,
            "order": null,
            "overflow": null,
            "overflow_x": null,
            "overflow_y": null,
            "padding": null,
            "right": null,
            "top": null,
            "visibility": null,
            "width": null
          }
        },
        "c7904b92e2434828ad9337a17ddbba95": {
          "model_module": "@jupyter-widgets/controls",
          "model_name": "DescriptionStyleModel",
          "model_module_version": "1.5.0",
          "state": {
            "_model_module": "@jupyter-widgets/controls",
            "_model_module_version": "1.5.0",
            "_model_name": "DescriptionStyleModel",
            "_view_count": null,
            "_view_module": "@jupyter-widgets/base",
            "_view_module_version": "1.2.0",
            "_view_name": "StyleView",
            "description_width": ""
          }
        },
        "5e02272fbd2349a4879d083211972a9e": {
          "model_module": "@jupyter-widgets/base",
          "model_name": "LayoutModel",
          "model_module_version": "1.2.0",
          "state": {
            "_model_module": "@jupyter-widgets/base",
            "_model_module_version": "1.2.0",
            "_model_name": "LayoutModel",
            "_view_count": null,
            "_view_module": "@jupyter-widgets/base",
            "_view_module_version": "1.2.0",
            "_view_name": "LayoutView",
            "align_content": null,
            "align_items": null,
            "align_self": null,
            "border": null,
            "bottom": null,
            "display": null,
            "flex": null,
            "flex_flow": null,
            "grid_area": null,
            "grid_auto_columns": null,
            "grid_auto_flow": null,
            "grid_auto_rows": null,
            "grid_column": null,
            "grid_gap": null,
            "grid_row": null,
            "grid_template_areas": null,
            "grid_template_columns": null,
            "grid_template_rows": null,
            "height": null,
            "justify_content": null,
            "justify_items": null,
            "left": null,
            "margin": null,
            "max_height": null,
            "max_width": null,
            "min_height": null,
            "min_width": null,
            "object_fit": null,
            "object_position": null,
            "order": null,
            "overflow": null,
            "overflow_x": null,
            "overflow_y": null,
            "padding": null,
            "right": null,
            "top": null,
            "visibility": null,
            "width": null
          }
        },
        "c4539ba0d17249b5819966e3c0cef1f6": {
          "model_module": "@jupyter-widgets/controls",
          "model_name": "ProgressStyleModel",
          "model_module_version": "1.5.0",
          "state": {
            "_model_module": "@jupyter-widgets/controls",
            "_model_module_version": "1.5.0",
            "_model_name": "ProgressStyleModel",
            "_view_count": null,
            "_view_module": "@jupyter-widgets/base",
            "_view_module_version": "1.2.0",
            "_view_name": "StyleView",
            "bar_color": null,
            "description_width": ""
          }
        },
        "80be9c5b9f564eb089b75ba48e8139bd": {
          "model_module": "@jupyter-widgets/base",
          "model_name": "LayoutModel",
          "model_module_version": "1.2.0",
          "state": {
            "_model_module": "@jupyter-widgets/base",
            "_model_module_version": "1.2.0",
            "_model_name": "LayoutModel",
            "_view_count": null,
            "_view_module": "@jupyter-widgets/base",
            "_view_module_version": "1.2.0",
            "_view_name": "LayoutView",
            "align_content": null,
            "align_items": null,
            "align_self": null,
            "border": null,
            "bottom": null,
            "display": null,
            "flex": null,
            "flex_flow": null,
            "grid_area": null,
            "grid_auto_columns": null,
            "grid_auto_flow": null,
            "grid_auto_rows": null,
            "grid_column": null,
            "grid_gap": null,
            "grid_row": null,
            "grid_template_areas": null,
            "grid_template_columns": null,
            "grid_template_rows": null,
            "height": null,
            "justify_content": null,
            "justify_items": null,
            "left": null,
            "margin": null,
            "max_height": null,
            "max_width": null,
            "min_height": null,
            "min_width": null,
            "object_fit": null,
            "object_position": null,
            "order": null,
            "overflow": null,
            "overflow_x": null,
            "overflow_y": null,
            "padding": null,
            "right": null,
            "top": null,
            "visibility": null,
            "width": null
          }
        },
        "39c64766c1a44d41b05f576105f099cb": {
          "model_module": "@jupyter-widgets/controls",
          "model_name": "DescriptionStyleModel",
          "model_module_version": "1.5.0",
          "state": {
            "_model_module": "@jupyter-widgets/controls",
            "_model_module_version": "1.5.0",
            "_model_name": "DescriptionStyleModel",
            "_view_count": null,
            "_view_module": "@jupyter-widgets/base",
            "_view_module_version": "1.2.0",
            "_view_name": "StyleView",
            "description_width": ""
          }
        },
        "4d79ef2471254ccb87ff62956130e246": {
          "model_module": "@jupyter-widgets/controls",
          "model_name": "HBoxModel",
          "model_module_version": "1.5.0",
          "state": {
            "_dom_classes": [],
            "_model_module": "@jupyter-widgets/controls",
            "_model_module_version": "1.5.0",
            "_model_name": "HBoxModel",
            "_view_count": null,
            "_view_module": "@jupyter-widgets/controls",
            "_view_module_version": "1.5.0",
            "_view_name": "HBoxView",
            "box_style": "",
            "children": [
              "IPY_MODEL_68e47ef2fb384781af3a277b1a9e1203",
              "IPY_MODEL_1187b82fdff54dcabc0f20cddd5956f1",
              "IPY_MODEL_d33c5b0e1a5c4159999a4e373d1ec788"
            ],
            "layout": "IPY_MODEL_454b47a7a8f9451da079d175f55ec118"
          }
        },
        "68e47ef2fb384781af3a277b1a9e1203": {
          "model_module": "@jupyter-widgets/controls",
          "model_name": "HTMLModel",
          "model_module_version": "1.5.0",
          "state": {
            "_dom_classes": [],
            "_model_module": "@jupyter-widgets/controls",
            "_model_module_version": "1.5.0",
            "_model_name": "HTMLModel",
            "_view_count": null,
            "_view_module": "@jupyter-widgets/controls",
            "_view_module_version": "1.5.0",
            "_view_name": "HTMLView",
            "description": "",
            "description_tooltip": null,
            "layout": "IPY_MODEL_5b9760628cef4942addb2e8cca4eea47",
            "placeholder": "​",
            "style": "IPY_MODEL_bf2f6a34e297458aa7a6e2701f4db1d2",
            "value": "Generating train examples...: 100%"
          }
        },
        "1187b82fdff54dcabc0f20cddd5956f1": {
          "model_module": "@jupyter-widgets/controls",
          "model_name": "FloatProgressModel",
          "model_module_version": "1.5.0",
          "state": {
            "_dom_classes": [],
            "_model_module": "@jupyter-widgets/controls",
            "_model_module_version": "1.5.0",
            "_model_name": "FloatProgressModel",
            "_view_count": null,
            "_view_module": "@jupyter-widgets/controls",
            "_view_module_version": "1.5.0",
            "_view_name": "ProgressView",
            "bar_style": "",
            "description": "",
            "description_tooltip": null,
            "layout": "IPY_MODEL_ae024f03a7514c038e19649e081cee8f",
            "max": 25000,
            "min": 0,
            "orientation": "horizontal",
            "style": "IPY_MODEL_0411c97983ff450c856380288c8900c4",
            "value": 25000
          }
        },
        "d33c5b0e1a5c4159999a4e373d1ec788": {
          "model_module": "@jupyter-widgets/controls",
          "model_name": "HTMLModel",
          "model_module_version": "1.5.0",
          "state": {
            "_dom_classes": [],
            "_model_module": "@jupyter-widgets/controls",
            "_model_module_version": "1.5.0",
            "_model_name": "HTMLModel",
            "_view_count": null,
            "_view_module": "@jupyter-widgets/controls",
            "_view_module_version": "1.5.0",
            "_view_name": "HTMLView",
            "description": "",
            "description_tooltip": null,
            "layout": "IPY_MODEL_3d09d5c1d72c4cabade6e806ebf2d98c",
            "placeholder": "​",
            "style": "IPY_MODEL_4ce5cf4dbbe642be8f871c8f6e8e6a2a",
            "value": " 24902/25000 [00:08&lt;00:00, 4852.09 examples/s]"
          }
        },
        "454b47a7a8f9451da079d175f55ec118": {
          "model_module": "@jupyter-widgets/base",
          "model_name": "LayoutModel",
          "model_module_version": "1.2.0",
          "state": {
            "_model_module": "@jupyter-widgets/base",
            "_model_module_version": "1.2.0",
            "_model_name": "LayoutModel",
            "_view_count": null,
            "_view_module": "@jupyter-widgets/base",
            "_view_module_version": "1.2.0",
            "_view_name": "LayoutView",
            "align_content": null,
            "align_items": null,
            "align_self": null,
            "border": null,
            "bottom": null,
            "display": null,
            "flex": null,
            "flex_flow": null,
            "grid_area": null,
            "grid_auto_columns": null,
            "grid_auto_flow": null,
            "grid_auto_rows": null,
            "grid_column": null,
            "grid_gap": null,
            "grid_row": null,
            "grid_template_areas": null,
            "grid_template_columns": null,
            "grid_template_rows": null,
            "height": null,
            "justify_content": null,
            "justify_items": null,
            "left": null,
            "margin": null,
            "max_height": null,
            "max_width": null,
            "min_height": null,
            "min_width": null,
            "object_fit": null,
            "object_position": null,
            "order": null,
            "overflow": null,
            "overflow_x": null,
            "overflow_y": null,
            "padding": null,
            "right": null,
            "top": null,
            "visibility": "hidden",
            "width": null
          }
        },
        "5b9760628cef4942addb2e8cca4eea47": {
          "model_module": "@jupyter-widgets/base",
          "model_name": "LayoutModel",
          "model_module_version": "1.2.0",
          "state": {
            "_model_module": "@jupyter-widgets/base",
            "_model_module_version": "1.2.0",
            "_model_name": "LayoutModel",
            "_view_count": null,
            "_view_module": "@jupyter-widgets/base",
            "_view_module_version": "1.2.0",
            "_view_name": "LayoutView",
            "align_content": null,
            "align_items": null,
            "align_self": null,
            "border": null,
            "bottom": null,
            "display": null,
            "flex": null,
            "flex_flow": null,
            "grid_area": null,
            "grid_auto_columns": null,
            "grid_auto_flow": null,
            "grid_auto_rows": null,
            "grid_column": null,
            "grid_gap": null,
            "grid_row": null,
            "grid_template_areas": null,
            "grid_template_columns": null,
            "grid_template_rows": null,
            "height": null,
            "justify_content": null,
            "justify_items": null,
            "left": null,
            "margin": null,
            "max_height": null,
            "max_width": null,
            "min_height": null,
            "min_width": null,
            "object_fit": null,
            "object_position": null,
            "order": null,
            "overflow": null,
            "overflow_x": null,
            "overflow_y": null,
            "padding": null,
            "right": null,
            "top": null,
            "visibility": null,
            "width": null
          }
        },
        "bf2f6a34e297458aa7a6e2701f4db1d2": {
          "model_module": "@jupyter-widgets/controls",
          "model_name": "DescriptionStyleModel",
          "model_module_version": "1.5.0",
          "state": {
            "_model_module": "@jupyter-widgets/controls",
            "_model_module_version": "1.5.0",
            "_model_name": "DescriptionStyleModel",
            "_view_count": null,
            "_view_module": "@jupyter-widgets/base",
            "_view_module_version": "1.2.0",
            "_view_name": "StyleView",
            "description_width": ""
          }
        },
        "ae024f03a7514c038e19649e081cee8f": {
          "model_module": "@jupyter-widgets/base",
          "model_name": "LayoutModel",
          "model_module_version": "1.2.0",
          "state": {
            "_model_module": "@jupyter-widgets/base",
            "_model_module_version": "1.2.0",
            "_model_name": "LayoutModel",
            "_view_count": null,
            "_view_module": "@jupyter-widgets/base",
            "_view_module_version": "1.2.0",
            "_view_name": "LayoutView",
            "align_content": null,
            "align_items": null,
            "align_self": null,
            "border": null,
            "bottom": null,
            "display": null,
            "flex": null,
            "flex_flow": null,
            "grid_area": null,
            "grid_auto_columns": null,
            "grid_auto_flow": null,
            "grid_auto_rows": null,
            "grid_column": null,
            "grid_gap": null,
            "grid_row": null,
            "grid_template_areas": null,
            "grid_template_columns": null,
            "grid_template_rows": null,
            "height": null,
            "justify_content": null,
            "justify_items": null,
            "left": null,
            "margin": null,
            "max_height": null,
            "max_width": null,
            "min_height": null,
            "min_width": null,
            "object_fit": null,
            "object_position": null,
            "order": null,
            "overflow": null,
            "overflow_x": null,
            "overflow_y": null,
            "padding": null,
            "right": null,
            "top": null,
            "visibility": null,
            "width": null
          }
        },
        "0411c97983ff450c856380288c8900c4": {
          "model_module": "@jupyter-widgets/controls",
          "model_name": "ProgressStyleModel",
          "model_module_version": "1.5.0",
          "state": {
            "_model_module": "@jupyter-widgets/controls",
            "_model_module_version": "1.5.0",
            "_model_name": "ProgressStyleModel",
            "_view_count": null,
            "_view_module": "@jupyter-widgets/base",
            "_view_module_version": "1.2.0",
            "_view_name": "StyleView",
            "bar_color": null,
            "description_width": ""
          }
        },
        "3d09d5c1d72c4cabade6e806ebf2d98c": {
          "model_module": "@jupyter-widgets/base",
          "model_name": "LayoutModel",
          "model_module_version": "1.2.0",
          "state": {
            "_model_module": "@jupyter-widgets/base",
            "_model_module_version": "1.2.0",
            "_model_name": "LayoutModel",
            "_view_count": null,
            "_view_module": "@jupyter-widgets/base",
            "_view_module_version": "1.2.0",
            "_view_name": "LayoutView",
            "align_content": null,
            "align_items": null,
            "align_self": null,
            "border": null,
            "bottom": null,
            "display": null,
            "flex": null,
            "flex_flow": null,
            "grid_area": null,
            "grid_auto_columns": null,
            "grid_auto_flow": null,
            "grid_auto_rows": null,
            "grid_column": null,
            "grid_gap": null,
            "grid_row": null,
            "grid_template_areas": null,
            "grid_template_columns": null,
            "grid_template_rows": null,
            "height": null,
            "justify_content": null,
            "justify_items": null,
            "left": null,
            "margin": null,
            "max_height": null,
            "max_width": null,
            "min_height": null,
            "min_width": null,
            "object_fit": null,
            "object_position": null,
            "order": null,
            "overflow": null,
            "overflow_x": null,
            "overflow_y": null,
            "padding": null,
            "right": null,
            "top": null,
            "visibility": null,
            "width": null
          }
        },
        "4ce5cf4dbbe642be8f871c8f6e8e6a2a": {
          "model_module": "@jupyter-widgets/controls",
          "model_name": "DescriptionStyleModel",
          "model_module_version": "1.5.0",
          "state": {
            "_model_module": "@jupyter-widgets/controls",
            "_model_module_version": "1.5.0",
            "_model_name": "DescriptionStyleModel",
            "_view_count": null,
            "_view_module": "@jupyter-widgets/base",
            "_view_module_version": "1.2.0",
            "_view_name": "StyleView",
            "description_width": ""
          }
        },
        "5e5450e4a3204946b4462058aeae531d": {
          "model_module": "@jupyter-widgets/controls",
          "model_name": "HBoxModel",
          "model_module_version": "1.5.0",
          "state": {
            "_dom_classes": [],
            "_model_module": "@jupyter-widgets/controls",
            "_model_module_version": "1.5.0",
            "_model_name": "HBoxModel",
            "_view_count": null,
            "_view_module": "@jupyter-widgets/controls",
            "_view_module_version": "1.5.0",
            "_view_name": "HBoxView",
            "box_style": "",
            "children": [
              "IPY_MODEL_98729fd9263b40118c5a797eb547cfd6",
              "IPY_MODEL_987f905a0323421f9d5223e97e40eb75",
              "IPY_MODEL_933f96a73c2a4d66925922e5ff9b40e3"
            ],
            "layout": "IPY_MODEL_3927ed278d734c81995b65ea0aad768a"
          }
        },
        "98729fd9263b40118c5a797eb547cfd6": {
          "model_module": "@jupyter-widgets/controls",
          "model_name": "HTMLModel",
          "model_module_version": "1.5.0",
          "state": {
            "_dom_classes": [],
            "_model_module": "@jupyter-widgets/controls",
            "_model_module_version": "1.5.0",
            "_model_name": "HTMLModel",
            "_view_count": null,
            "_view_module": "@jupyter-widgets/controls",
            "_view_module_version": "1.5.0",
            "_view_name": "HTMLView",
            "description": "",
            "description_tooltip": null,
            "layout": "IPY_MODEL_72899394196c46318d465dc22e6a7c84",
            "placeholder": "​",
            "style": "IPY_MODEL_e0710c6b8e954e3183f0fe6a7ecb0d80",
            "value": "Shuffling /root/tensorflow_datasets/imdb_reviews/plain_text/1.0.0.incomplete2CFO7V/imdb_reviews-train.tfrecord*...:  45%"
          }
        },
        "987f905a0323421f9d5223e97e40eb75": {
          "model_module": "@jupyter-widgets/controls",
          "model_name": "FloatProgressModel",
          "model_module_version": "1.5.0",
          "state": {
            "_dom_classes": [],
            "_model_module": "@jupyter-widgets/controls",
            "_model_module_version": "1.5.0",
            "_model_name": "FloatProgressModel",
            "_view_count": null,
            "_view_module": "@jupyter-widgets/controls",
            "_view_module_version": "1.5.0",
            "_view_name": "ProgressView",
            "bar_style": "",
            "description": "",
            "description_tooltip": null,
            "layout": "IPY_MODEL_0b214e8776c049f5ad1b1fbf8496840b",
            "max": 25000,
            "min": 0,
            "orientation": "horizontal",
            "style": "IPY_MODEL_e3e6087b6de44a6abfcdff85f8f05458",
            "value": 25000
          }
        },
        "933f96a73c2a4d66925922e5ff9b40e3": {
          "model_module": "@jupyter-widgets/controls",
          "model_name": "HTMLModel",
          "model_module_version": "1.5.0",
          "state": {
            "_dom_classes": [],
            "_model_module": "@jupyter-widgets/controls",
            "_model_module_version": "1.5.0",
            "_model_name": "HTMLModel",
            "_view_count": null,
            "_view_module": "@jupyter-widgets/controls",
            "_view_module_version": "1.5.0",
            "_view_name": "HTMLView",
            "description": "",
            "description_tooltip": null,
            "layout": "IPY_MODEL_21b95835e4f1498e8c3663fc89c65ed0",
            "placeholder": "​",
            "style": "IPY_MODEL_7e3114f74ed54d529b6f2ae664a52c36",
            "value": " 11136/25000 [00:00&lt;00:00, 111337.28 examples/s]"
          }
        },
        "3927ed278d734c81995b65ea0aad768a": {
          "model_module": "@jupyter-widgets/base",
          "model_name": "LayoutModel",
          "model_module_version": "1.2.0",
          "state": {
            "_model_module": "@jupyter-widgets/base",
            "_model_module_version": "1.2.0",
            "_model_name": "LayoutModel",
            "_view_count": null,
            "_view_module": "@jupyter-widgets/base",
            "_view_module_version": "1.2.0",
            "_view_name": "LayoutView",
            "align_content": null,
            "align_items": null,
            "align_self": null,
            "border": null,
            "bottom": null,
            "display": null,
            "flex": null,
            "flex_flow": null,
            "grid_area": null,
            "grid_auto_columns": null,
            "grid_auto_flow": null,
            "grid_auto_rows": null,
            "grid_column": null,
            "grid_gap": null,
            "grid_row": null,
            "grid_template_areas": null,
            "grid_template_columns": null,
            "grid_template_rows": null,
            "height": null,
            "justify_content": null,
            "justify_items": null,
            "left": null,
            "margin": null,
            "max_height": null,
            "max_width": null,
            "min_height": null,
            "min_width": null,
            "object_fit": null,
            "object_position": null,
            "order": null,
            "overflow": null,
            "overflow_x": null,
            "overflow_y": null,
            "padding": null,
            "right": null,
            "top": null,
            "visibility": "hidden",
            "width": null
          }
        },
        "72899394196c46318d465dc22e6a7c84": {
          "model_module": "@jupyter-widgets/base",
          "model_name": "LayoutModel",
          "model_module_version": "1.2.0",
          "state": {
            "_model_module": "@jupyter-widgets/base",
            "_model_module_version": "1.2.0",
            "_model_name": "LayoutModel",
            "_view_count": null,
            "_view_module": "@jupyter-widgets/base",
            "_view_module_version": "1.2.0",
            "_view_name": "LayoutView",
            "align_content": null,
            "align_items": null,
            "align_self": null,
            "border": null,
            "bottom": null,
            "display": null,
            "flex": null,
            "flex_flow": null,
            "grid_area": null,
            "grid_auto_columns": null,
            "grid_auto_flow": null,
            "grid_auto_rows": null,
            "grid_column": null,
            "grid_gap": null,
            "grid_row": null,
            "grid_template_areas": null,
            "grid_template_columns": null,
            "grid_template_rows": null,
            "height": null,
            "justify_content": null,
            "justify_items": null,
            "left": null,
            "margin": null,
            "max_height": null,
            "max_width": null,
            "min_height": null,
            "min_width": null,
            "object_fit": null,
            "object_position": null,
            "order": null,
            "overflow": null,
            "overflow_x": null,
            "overflow_y": null,
            "padding": null,
            "right": null,
            "top": null,
            "visibility": null,
            "width": null
          }
        },
        "e0710c6b8e954e3183f0fe6a7ecb0d80": {
          "model_module": "@jupyter-widgets/controls",
          "model_name": "DescriptionStyleModel",
          "model_module_version": "1.5.0",
          "state": {
            "_model_module": "@jupyter-widgets/controls",
            "_model_module_version": "1.5.0",
            "_model_name": "DescriptionStyleModel",
            "_view_count": null,
            "_view_module": "@jupyter-widgets/base",
            "_view_module_version": "1.2.0",
            "_view_name": "StyleView",
            "description_width": ""
          }
        },
        "0b214e8776c049f5ad1b1fbf8496840b": {
          "model_module": "@jupyter-widgets/base",
          "model_name": "LayoutModel",
          "model_module_version": "1.2.0",
          "state": {
            "_model_module": "@jupyter-widgets/base",
            "_model_module_version": "1.2.0",
            "_model_name": "LayoutModel",
            "_view_count": null,
            "_view_module": "@jupyter-widgets/base",
            "_view_module_version": "1.2.0",
            "_view_name": "LayoutView",
            "align_content": null,
            "align_items": null,
            "align_self": null,
            "border": null,
            "bottom": null,
            "display": null,
            "flex": null,
            "flex_flow": null,
            "grid_area": null,
            "grid_auto_columns": null,
            "grid_auto_flow": null,
            "grid_auto_rows": null,
            "grid_column": null,
            "grid_gap": null,
            "grid_row": null,
            "grid_template_areas": null,
            "grid_template_columns": null,
            "grid_template_rows": null,
            "height": null,
            "justify_content": null,
            "justify_items": null,
            "left": null,
            "margin": null,
            "max_height": null,
            "max_width": null,
            "min_height": null,
            "min_width": null,
            "object_fit": null,
            "object_position": null,
            "order": null,
            "overflow": null,
            "overflow_x": null,
            "overflow_y": null,
            "padding": null,
            "right": null,
            "top": null,
            "visibility": null,
            "width": null
          }
        },
        "e3e6087b6de44a6abfcdff85f8f05458": {
          "model_module": "@jupyter-widgets/controls",
          "model_name": "ProgressStyleModel",
          "model_module_version": "1.5.0",
          "state": {
            "_model_module": "@jupyter-widgets/controls",
            "_model_module_version": "1.5.0",
            "_model_name": "ProgressStyleModel",
            "_view_count": null,
            "_view_module": "@jupyter-widgets/base",
            "_view_module_version": "1.2.0",
            "_view_name": "StyleView",
            "bar_color": null,
            "description_width": ""
          }
        },
        "21b95835e4f1498e8c3663fc89c65ed0": {
          "model_module": "@jupyter-widgets/base",
          "model_name": "LayoutModel",
          "model_module_version": "1.2.0",
          "state": {
            "_model_module": "@jupyter-widgets/base",
            "_model_module_version": "1.2.0",
            "_model_name": "LayoutModel",
            "_view_count": null,
            "_view_module": "@jupyter-widgets/base",
            "_view_module_version": "1.2.0",
            "_view_name": "LayoutView",
            "align_content": null,
            "align_items": null,
            "align_self": null,
            "border": null,
            "bottom": null,
            "display": null,
            "flex": null,
            "flex_flow": null,
            "grid_area": null,
            "grid_auto_columns": null,
            "grid_auto_flow": null,
            "grid_auto_rows": null,
            "grid_column": null,
            "grid_gap": null,
            "grid_row": null,
            "grid_template_areas": null,
            "grid_template_columns": null,
            "grid_template_rows": null,
            "height": null,
            "justify_content": null,
            "justify_items": null,
            "left": null,
            "margin": null,
            "max_height": null,
            "max_width": null,
            "min_height": null,
            "min_width": null,
            "object_fit": null,
            "object_position": null,
            "order": null,
            "overflow": null,
            "overflow_x": null,
            "overflow_y": null,
            "padding": null,
            "right": null,
            "top": null,
            "visibility": null,
            "width": null
          }
        },
        "7e3114f74ed54d529b6f2ae664a52c36": {
          "model_module": "@jupyter-widgets/controls",
          "model_name": "DescriptionStyleModel",
          "model_module_version": "1.5.0",
          "state": {
            "_model_module": "@jupyter-widgets/controls",
            "_model_module_version": "1.5.0",
            "_model_name": "DescriptionStyleModel",
            "_view_count": null,
            "_view_module": "@jupyter-widgets/base",
            "_view_module_version": "1.2.0",
            "_view_name": "StyleView",
            "description_width": ""
          }
        },
        "ad77e84d36274f4fb768ad4106531a28": {
          "model_module": "@jupyter-widgets/controls",
          "model_name": "HBoxModel",
          "model_module_version": "1.5.0",
          "state": {
            "_dom_classes": [],
            "_model_module": "@jupyter-widgets/controls",
            "_model_module_version": "1.5.0",
            "_model_name": "HBoxModel",
            "_view_count": null,
            "_view_module": "@jupyter-widgets/controls",
            "_view_module_version": "1.5.0",
            "_view_name": "HBoxView",
            "box_style": "",
            "children": [
              "IPY_MODEL_0004ff3e24984795b1fbb5027d4fdf1c",
              "IPY_MODEL_39fbe9ff8b8f4b70afe7f1138ca4419f",
              "IPY_MODEL_0936b36e4ba745e1addcc35a5dcfa3e4"
            ],
            "layout": "IPY_MODEL_80ad6e9cf7e348cea4020fffba01c073"
          }
        },
        "0004ff3e24984795b1fbb5027d4fdf1c": {
          "model_module": "@jupyter-widgets/controls",
          "model_name": "HTMLModel",
          "model_module_version": "1.5.0",
          "state": {
            "_dom_classes": [],
            "_model_module": "@jupyter-widgets/controls",
            "_model_module_version": "1.5.0",
            "_model_name": "HTMLModel",
            "_view_count": null,
            "_view_module": "@jupyter-widgets/controls",
            "_view_module_version": "1.5.0",
            "_view_name": "HTMLView",
            "description": "",
            "description_tooltip": null,
            "layout": "IPY_MODEL_30dfb30024644b568da1a5eee3427246",
            "placeholder": "​",
            "style": "IPY_MODEL_4cad3e6b80ec4a428d1e696cb8f917df",
            "value": "Generating test examples...: 100%"
          }
        },
        "39fbe9ff8b8f4b70afe7f1138ca4419f": {
          "model_module": "@jupyter-widgets/controls",
          "model_name": "FloatProgressModel",
          "model_module_version": "1.5.0",
          "state": {
            "_dom_classes": [],
            "_model_module": "@jupyter-widgets/controls",
            "_model_module_version": "1.5.0",
            "_model_name": "FloatProgressModel",
            "_view_count": null,
            "_view_module": "@jupyter-widgets/controls",
            "_view_module_version": "1.5.0",
            "_view_name": "ProgressView",
            "bar_style": "",
            "description": "",
            "description_tooltip": null,
            "layout": "IPY_MODEL_333e2a0a31fb4762aae75e6b3b645761",
            "max": 25000,
            "min": 0,
            "orientation": "horizontal",
            "style": "IPY_MODEL_588e301bde334ba48110be0120300144",
            "value": 25000
          }
        },
        "0936b36e4ba745e1addcc35a5dcfa3e4": {
          "model_module": "@jupyter-widgets/controls",
          "model_name": "HTMLModel",
          "model_module_version": "1.5.0",
          "state": {
            "_dom_classes": [],
            "_model_module": "@jupyter-widgets/controls",
            "_model_module_version": "1.5.0",
            "_model_name": "HTMLModel",
            "_view_count": null,
            "_view_module": "@jupyter-widgets/controls",
            "_view_module_version": "1.5.0",
            "_view_name": "HTMLView",
            "description": "",
            "description_tooltip": null,
            "layout": "IPY_MODEL_d31af74b67c14b6da632edb42e322d24",
            "placeholder": "​",
            "style": "IPY_MODEL_f479c723bd7c4518aa41c3225bcd5fec",
            "value": " 24929/25000 [00:05&lt;00:00, 5314.11 examples/s]"
          }
        },
        "80ad6e9cf7e348cea4020fffba01c073": {
          "model_module": "@jupyter-widgets/base",
          "model_name": "LayoutModel",
          "model_module_version": "1.2.0",
          "state": {
            "_model_module": "@jupyter-widgets/base",
            "_model_module_version": "1.2.0",
            "_model_name": "LayoutModel",
            "_view_count": null,
            "_view_module": "@jupyter-widgets/base",
            "_view_module_version": "1.2.0",
            "_view_name": "LayoutView",
            "align_content": null,
            "align_items": null,
            "align_self": null,
            "border": null,
            "bottom": null,
            "display": null,
            "flex": null,
            "flex_flow": null,
            "grid_area": null,
            "grid_auto_columns": null,
            "grid_auto_flow": null,
            "grid_auto_rows": null,
            "grid_column": null,
            "grid_gap": null,
            "grid_row": null,
            "grid_template_areas": null,
            "grid_template_columns": null,
            "grid_template_rows": null,
            "height": null,
            "justify_content": null,
            "justify_items": null,
            "left": null,
            "margin": null,
            "max_height": null,
            "max_width": null,
            "min_height": null,
            "min_width": null,
            "object_fit": null,
            "object_position": null,
            "order": null,
            "overflow": null,
            "overflow_x": null,
            "overflow_y": null,
            "padding": null,
            "right": null,
            "top": null,
            "visibility": "hidden",
            "width": null
          }
        },
        "30dfb30024644b568da1a5eee3427246": {
          "model_module": "@jupyter-widgets/base",
          "model_name": "LayoutModel",
          "model_module_version": "1.2.0",
          "state": {
            "_model_module": "@jupyter-widgets/base",
            "_model_module_version": "1.2.0",
            "_model_name": "LayoutModel",
            "_view_count": null,
            "_view_module": "@jupyter-widgets/base",
            "_view_module_version": "1.2.0",
            "_view_name": "LayoutView",
            "align_content": null,
            "align_items": null,
            "align_self": null,
            "border": null,
            "bottom": null,
            "display": null,
            "flex": null,
            "flex_flow": null,
            "grid_area": null,
            "grid_auto_columns": null,
            "grid_auto_flow": null,
            "grid_auto_rows": null,
            "grid_column": null,
            "grid_gap": null,
            "grid_row": null,
            "grid_template_areas": null,
            "grid_template_columns": null,
            "grid_template_rows": null,
            "height": null,
            "justify_content": null,
            "justify_items": null,
            "left": null,
            "margin": null,
            "max_height": null,
            "max_width": null,
            "min_height": null,
            "min_width": null,
            "object_fit": null,
            "object_position": null,
            "order": null,
            "overflow": null,
            "overflow_x": null,
            "overflow_y": null,
            "padding": null,
            "right": null,
            "top": null,
            "visibility": null,
            "width": null
          }
        },
        "4cad3e6b80ec4a428d1e696cb8f917df": {
          "model_module": "@jupyter-widgets/controls",
          "model_name": "DescriptionStyleModel",
          "model_module_version": "1.5.0",
          "state": {
            "_model_module": "@jupyter-widgets/controls",
            "_model_module_version": "1.5.0",
            "_model_name": "DescriptionStyleModel",
            "_view_count": null,
            "_view_module": "@jupyter-widgets/base",
            "_view_module_version": "1.2.0",
            "_view_name": "StyleView",
            "description_width": ""
          }
        },
        "333e2a0a31fb4762aae75e6b3b645761": {
          "model_module": "@jupyter-widgets/base",
          "model_name": "LayoutModel",
          "model_module_version": "1.2.0",
          "state": {
            "_model_module": "@jupyter-widgets/base",
            "_model_module_version": "1.2.0",
            "_model_name": "LayoutModel",
            "_view_count": null,
            "_view_module": "@jupyter-widgets/base",
            "_view_module_version": "1.2.0",
            "_view_name": "LayoutView",
            "align_content": null,
            "align_items": null,
            "align_self": null,
            "border": null,
            "bottom": null,
            "display": null,
            "flex": null,
            "flex_flow": null,
            "grid_area": null,
            "grid_auto_columns": null,
            "grid_auto_flow": null,
            "grid_auto_rows": null,
            "grid_column": null,
            "grid_gap": null,
            "grid_row": null,
            "grid_template_areas": null,
            "grid_template_columns": null,
            "grid_template_rows": null,
            "height": null,
            "justify_content": null,
            "justify_items": null,
            "left": null,
            "margin": null,
            "max_height": null,
            "max_width": null,
            "min_height": null,
            "min_width": null,
            "object_fit": null,
            "object_position": null,
            "order": null,
            "overflow": null,
            "overflow_x": null,
            "overflow_y": null,
            "padding": null,
            "right": null,
            "top": null,
            "visibility": null,
            "width": null
          }
        },
        "588e301bde334ba48110be0120300144": {
          "model_module": "@jupyter-widgets/controls",
          "model_name": "ProgressStyleModel",
          "model_module_version": "1.5.0",
          "state": {
            "_model_module": "@jupyter-widgets/controls",
            "_model_module_version": "1.5.0",
            "_model_name": "ProgressStyleModel",
            "_view_count": null,
            "_view_module": "@jupyter-widgets/base",
            "_view_module_version": "1.2.0",
            "_view_name": "StyleView",
            "bar_color": null,
            "description_width": ""
          }
        },
        "d31af74b67c14b6da632edb42e322d24": {
          "model_module": "@jupyter-widgets/base",
          "model_name": "LayoutModel",
          "model_module_version": "1.2.0",
          "state": {
            "_model_module": "@jupyter-widgets/base",
            "_model_module_version": "1.2.0",
            "_model_name": "LayoutModel",
            "_view_count": null,
            "_view_module": "@jupyter-widgets/base",
            "_view_module_version": "1.2.0",
            "_view_name": "LayoutView",
            "align_content": null,
            "align_items": null,
            "align_self": null,
            "border": null,
            "bottom": null,
            "display": null,
            "flex": null,
            "flex_flow": null,
            "grid_area": null,
            "grid_auto_columns": null,
            "grid_auto_flow": null,
            "grid_auto_rows": null,
            "grid_column": null,
            "grid_gap": null,
            "grid_row": null,
            "grid_template_areas": null,
            "grid_template_columns": null,
            "grid_template_rows": null,
            "height": null,
            "justify_content": null,
            "justify_items": null,
            "left": null,
            "margin": null,
            "max_height": null,
            "max_width": null,
            "min_height": null,
            "min_width": null,
            "object_fit": null,
            "object_position": null,
            "order": null,
            "overflow": null,
            "overflow_x": null,
            "overflow_y": null,
            "padding": null,
            "right": null,
            "top": null,
            "visibility": null,
            "width": null
          }
        },
        "f479c723bd7c4518aa41c3225bcd5fec": {
          "model_module": "@jupyter-widgets/controls",
          "model_name": "DescriptionStyleModel",
          "model_module_version": "1.5.0",
          "state": {
            "_model_module": "@jupyter-widgets/controls",
            "_model_module_version": "1.5.0",
            "_model_name": "DescriptionStyleModel",
            "_view_count": null,
            "_view_module": "@jupyter-widgets/base",
            "_view_module_version": "1.2.0",
            "_view_name": "StyleView",
            "description_width": ""
          }
        },
        "47b38c869cb34b078e18aa8799a9a30e": {
          "model_module": "@jupyter-widgets/controls",
          "model_name": "HBoxModel",
          "model_module_version": "1.5.0",
          "state": {
            "_dom_classes": [],
            "_model_module": "@jupyter-widgets/controls",
            "_model_module_version": "1.5.0",
            "_model_name": "HBoxModel",
            "_view_count": null,
            "_view_module": "@jupyter-widgets/controls",
            "_view_module_version": "1.5.0",
            "_view_name": "HBoxView",
            "box_style": "",
            "children": [
              "IPY_MODEL_cc91f93f7c004559aaf5e1c12c34234d",
              "IPY_MODEL_1085acb8d6b448efb191bca86be2f05f",
              "IPY_MODEL_657de7ec5c9348c3b51dea1573ebc560"
            ],
            "layout": "IPY_MODEL_3cba9388b23f4d8a866a7b1076e795a3"
          }
        },
        "cc91f93f7c004559aaf5e1c12c34234d": {
          "model_module": "@jupyter-widgets/controls",
          "model_name": "HTMLModel",
          "model_module_version": "1.5.0",
          "state": {
            "_dom_classes": [],
            "_model_module": "@jupyter-widgets/controls",
            "_model_module_version": "1.5.0",
            "_model_name": "HTMLModel",
            "_view_count": null,
            "_view_module": "@jupyter-widgets/controls",
            "_view_module_version": "1.5.0",
            "_view_name": "HTMLView",
            "description": "",
            "description_tooltip": null,
            "layout": "IPY_MODEL_c51de8f17ed1495fa1467391a49b8678",
            "placeholder": "​",
            "style": "IPY_MODEL_4768f4cabdda4f30824b6df3c7b7dc3a",
            "value": "Shuffling /root/tensorflow_datasets/imdb_reviews/plain_text/1.0.0.incomplete2CFO7V/imdb_reviews-test.tfrecord*...:  69%"
          }
        },
        "1085acb8d6b448efb191bca86be2f05f": {
          "model_module": "@jupyter-widgets/controls",
          "model_name": "FloatProgressModel",
          "model_module_version": "1.5.0",
          "state": {
            "_dom_classes": [],
            "_model_module": "@jupyter-widgets/controls",
            "_model_module_version": "1.5.0",
            "_model_name": "FloatProgressModel",
            "_view_count": null,
            "_view_module": "@jupyter-widgets/controls",
            "_view_module_version": "1.5.0",
            "_view_name": "ProgressView",
            "bar_style": "",
            "description": "",
            "description_tooltip": null,
            "layout": "IPY_MODEL_27b66aac4179479780f849291c642b69",
            "max": 25000,
            "min": 0,
            "orientation": "horizontal",
            "style": "IPY_MODEL_60ae9c96c199438dad4c59e64451da82",
            "value": 25000
          }
        },
        "657de7ec5c9348c3b51dea1573ebc560": {
          "model_module": "@jupyter-widgets/controls",
          "model_name": "HTMLModel",
          "model_module_version": "1.5.0",
          "state": {
            "_dom_classes": [],
            "_model_module": "@jupyter-widgets/controls",
            "_model_module_version": "1.5.0",
            "_model_name": "HTMLModel",
            "_view_count": null,
            "_view_module": "@jupyter-widgets/controls",
            "_view_module_version": "1.5.0",
            "_view_name": "HTMLView",
            "description": "",
            "description_tooltip": null,
            "layout": "IPY_MODEL_51ae99071ca34f5d8b3588dcbeb06797",
            "placeholder": "​",
            "style": "IPY_MODEL_e9e4f95721f84d7c9ff7431b290e5a6e",
            "value": " 17335/25000 [00:00&lt;00:00, 173326.20 examples/s]"
          }
        },
        "3cba9388b23f4d8a866a7b1076e795a3": {
          "model_module": "@jupyter-widgets/base",
          "model_name": "LayoutModel",
          "model_module_version": "1.2.0",
          "state": {
            "_model_module": "@jupyter-widgets/base",
            "_model_module_version": "1.2.0",
            "_model_name": "LayoutModel",
            "_view_count": null,
            "_view_module": "@jupyter-widgets/base",
            "_view_module_version": "1.2.0",
            "_view_name": "LayoutView",
            "align_content": null,
            "align_items": null,
            "align_self": null,
            "border": null,
            "bottom": null,
            "display": null,
            "flex": null,
            "flex_flow": null,
            "grid_area": null,
            "grid_auto_columns": null,
            "grid_auto_flow": null,
            "grid_auto_rows": null,
            "grid_column": null,
            "grid_gap": null,
            "grid_row": null,
            "grid_template_areas": null,
            "grid_template_columns": null,
            "grid_template_rows": null,
            "height": null,
            "justify_content": null,
            "justify_items": null,
            "left": null,
            "margin": null,
            "max_height": null,
            "max_width": null,
            "min_height": null,
            "min_width": null,
            "object_fit": null,
            "object_position": null,
            "order": null,
            "overflow": null,
            "overflow_x": null,
            "overflow_y": null,
            "padding": null,
            "right": null,
            "top": null,
            "visibility": "hidden",
            "width": null
          }
        },
        "c51de8f17ed1495fa1467391a49b8678": {
          "model_module": "@jupyter-widgets/base",
          "model_name": "LayoutModel",
          "model_module_version": "1.2.0",
          "state": {
            "_model_module": "@jupyter-widgets/base",
            "_model_module_version": "1.2.0",
            "_model_name": "LayoutModel",
            "_view_count": null,
            "_view_module": "@jupyter-widgets/base",
            "_view_module_version": "1.2.0",
            "_view_name": "LayoutView",
            "align_content": null,
            "align_items": null,
            "align_self": null,
            "border": null,
            "bottom": null,
            "display": null,
            "flex": null,
            "flex_flow": null,
            "grid_area": null,
            "grid_auto_columns": null,
            "grid_auto_flow": null,
            "grid_auto_rows": null,
            "grid_column": null,
            "grid_gap": null,
            "grid_row": null,
            "grid_template_areas": null,
            "grid_template_columns": null,
            "grid_template_rows": null,
            "height": null,
            "justify_content": null,
            "justify_items": null,
            "left": null,
            "margin": null,
            "max_height": null,
            "max_width": null,
            "min_height": null,
            "min_width": null,
            "object_fit": null,
            "object_position": null,
            "order": null,
            "overflow": null,
            "overflow_x": null,
            "overflow_y": null,
            "padding": null,
            "right": null,
            "top": null,
            "visibility": null,
            "width": null
          }
        },
        "4768f4cabdda4f30824b6df3c7b7dc3a": {
          "model_module": "@jupyter-widgets/controls",
          "model_name": "DescriptionStyleModel",
          "model_module_version": "1.5.0",
          "state": {
            "_model_module": "@jupyter-widgets/controls",
            "_model_module_version": "1.5.0",
            "_model_name": "DescriptionStyleModel",
            "_view_count": null,
            "_view_module": "@jupyter-widgets/base",
            "_view_module_version": "1.2.0",
            "_view_name": "StyleView",
            "description_width": ""
          }
        },
        "27b66aac4179479780f849291c642b69": {
          "model_module": "@jupyter-widgets/base",
          "model_name": "LayoutModel",
          "model_module_version": "1.2.0",
          "state": {
            "_model_module": "@jupyter-widgets/base",
            "_model_module_version": "1.2.0",
            "_model_name": "LayoutModel",
            "_view_count": null,
            "_view_module": "@jupyter-widgets/base",
            "_view_module_version": "1.2.0",
            "_view_name": "LayoutView",
            "align_content": null,
            "align_items": null,
            "align_self": null,
            "border": null,
            "bottom": null,
            "display": null,
            "flex": null,
            "flex_flow": null,
            "grid_area": null,
            "grid_auto_columns": null,
            "grid_auto_flow": null,
            "grid_auto_rows": null,
            "grid_column": null,
            "grid_gap": null,
            "grid_row": null,
            "grid_template_areas": null,
            "grid_template_columns": null,
            "grid_template_rows": null,
            "height": null,
            "justify_content": null,
            "justify_items": null,
            "left": null,
            "margin": null,
            "max_height": null,
            "max_width": null,
            "min_height": null,
            "min_width": null,
            "object_fit": null,
            "object_position": null,
            "order": null,
            "overflow": null,
            "overflow_x": null,
            "overflow_y": null,
            "padding": null,
            "right": null,
            "top": null,
            "visibility": null,
            "width": null
          }
        },
        "60ae9c96c199438dad4c59e64451da82": {
          "model_module": "@jupyter-widgets/controls",
          "model_name": "ProgressStyleModel",
          "model_module_version": "1.5.0",
          "state": {
            "_model_module": "@jupyter-widgets/controls",
            "_model_module_version": "1.5.0",
            "_model_name": "ProgressStyleModel",
            "_view_count": null,
            "_view_module": "@jupyter-widgets/base",
            "_view_module_version": "1.2.0",
            "_view_name": "StyleView",
            "bar_color": null,
            "description_width": ""
          }
        },
        "51ae99071ca34f5d8b3588dcbeb06797": {
          "model_module": "@jupyter-widgets/base",
          "model_name": "LayoutModel",
          "model_module_version": "1.2.0",
          "state": {
            "_model_module": "@jupyter-widgets/base",
            "_model_module_version": "1.2.0",
            "_model_name": "LayoutModel",
            "_view_count": null,
            "_view_module": "@jupyter-widgets/base",
            "_view_module_version": "1.2.0",
            "_view_name": "LayoutView",
            "align_content": null,
            "align_items": null,
            "align_self": null,
            "border": null,
            "bottom": null,
            "display": null,
            "flex": null,
            "flex_flow": null,
            "grid_area": null,
            "grid_auto_columns": null,
            "grid_auto_flow": null,
            "grid_auto_rows": null,
            "grid_column": null,
            "grid_gap": null,
            "grid_row": null,
            "grid_template_areas": null,
            "grid_template_columns": null,
            "grid_template_rows": null,
            "height": null,
            "justify_content": null,
            "justify_items": null,
            "left": null,
            "margin": null,
            "max_height": null,
            "max_width": null,
            "min_height": null,
            "min_width": null,
            "object_fit": null,
            "object_position": null,
            "order": null,
            "overflow": null,
            "overflow_x": null,
            "overflow_y": null,
            "padding": null,
            "right": null,
            "top": null,
            "visibility": null,
            "width": null
          }
        },
        "e9e4f95721f84d7c9ff7431b290e5a6e": {
          "model_module": "@jupyter-widgets/controls",
          "model_name": "DescriptionStyleModel",
          "model_module_version": "1.5.0",
          "state": {
            "_model_module": "@jupyter-widgets/controls",
            "_model_module_version": "1.5.0",
            "_model_name": "DescriptionStyleModel",
            "_view_count": null,
            "_view_module": "@jupyter-widgets/base",
            "_view_module_version": "1.2.0",
            "_view_name": "StyleView",
            "description_width": ""
          }
        },
        "7c7b1a13737e4a9f8bc4eccd8d9c4421": {
          "model_module": "@jupyter-widgets/controls",
          "model_name": "HBoxModel",
          "model_module_version": "1.5.0",
          "state": {
            "_dom_classes": [],
            "_model_module": "@jupyter-widgets/controls",
            "_model_module_version": "1.5.0",
            "_model_name": "HBoxModel",
            "_view_count": null,
            "_view_module": "@jupyter-widgets/controls",
            "_view_module_version": "1.5.0",
            "_view_name": "HBoxView",
            "box_style": "",
            "children": [
              "IPY_MODEL_a44dbcafb5f14ed3b843ec8e484d5cef",
              "IPY_MODEL_8538cc7786774fd5a956c9711491f5d5",
              "IPY_MODEL_e70655aeae354ac19f5ed516c169249a"
            ],
            "layout": "IPY_MODEL_4fa2f1c08850440e83dcd6a9e889c31b"
          }
        },
        "a44dbcafb5f14ed3b843ec8e484d5cef": {
          "model_module": "@jupyter-widgets/controls",
          "model_name": "HTMLModel",
          "model_module_version": "1.5.0",
          "state": {
            "_dom_classes": [],
            "_model_module": "@jupyter-widgets/controls",
            "_model_module_version": "1.5.0",
            "_model_name": "HTMLModel",
            "_view_count": null,
            "_view_module": "@jupyter-widgets/controls",
            "_view_module_version": "1.5.0",
            "_view_name": "HTMLView",
            "description": "",
            "description_tooltip": null,
            "layout": "IPY_MODEL_a41da842386a4afeadc7bf2f1e5dfb19",
            "placeholder": "​",
            "style": "IPY_MODEL_892bc3a17a71450c9b5f33bd1acc6d93",
            "value": "Generating unsupervised examples...: 100%"
          }
        },
        "8538cc7786774fd5a956c9711491f5d5": {
          "model_module": "@jupyter-widgets/controls",
          "model_name": "FloatProgressModel",
          "model_module_version": "1.5.0",
          "state": {
            "_dom_classes": [],
            "_model_module": "@jupyter-widgets/controls",
            "_model_module_version": "1.5.0",
            "_model_name": "FloatProgressModel",
            "_view_count": null,
            "_view_module": "@jupyter-widgets/controls",
            "_view_module_version": "1.5.0",
            "_view_name": "ProgressView",
            "bar_style": "",
            "description": "",
            "description_tooltip": null,
            "layout": "IPY_MODEL_8a7f15ea825246e381e47634f481c5a2",
            "max": 50000,
            "min": 0,
            "orientation": "horizontal",
            "style": "IPY_MODEL_21120b8ea25e4c1da15fb3c8088bfab1",
            "value": 50000
          }
        },
        "e70655aeae354ac19f5ed516c169249a": {
          "model_module": "@jupyter-widgets/controls",
          "model_name": "HTMLModel",
          "model_module_version": "1.5.0",
          "state": {
            "_dom_classes": [],
            "_model_module": "@jupyter-widgets/controls",
            "_model_module_version": "1.5.0",
            "_model_name": "HTMLModel",
            "_view_count": null,
            "_view_module": "@jupyter-widgets/controls",
            "_view_module_version": "1.5.0",
            "_view_name": "HTMLView",
            "description": "",
            "description_tooltip": null,
            "layout": "IPY_MODEL_df2ed50aec44444c8385b6e4dfa0c113",
            "placeholder": "​",
            "style": "IPY_MODEL_8c797e054c1c476db3b416e3d70e1bf7",
            "value": " 49799/50000 [00:14&lt;00:00, 3712.34 examples/s]"
          }
        },
        "4fa2f1c08850440e83dcd6a9e889c31b": {
          "model_module": "@jupyter-widgets/base",
          "model_name": "LayoutModel",
          "model_module_version": "1.2.0",
          "state": {
            "_model_module": "@jupyter-widgets/base",
            "_model_module_version": "1.2.0",
            "_model_name": "LayoutModel",
            "_view_count": null,
            "_view_module": "@jupyter-widgets/base",
            "_view_module_version": "1.2.0",
            "_view_name": "LayoutView",
            "align_content": null,
            "align_items": null,
            "align_self": null,
            "border": null,
            "bottom": null,
            "display": null,
            "flex": null,
            "flex_flow": null,
            "grid_area": null,
            "grid_auto_columns": null,
            "grid_auto_flow": null,
            "grid_auto_rows": null,
            "grid_column": null,
            "grid_gap": null,
            "grid_row": null,
            "grid_template_areas": null,
            "grid_template_columns": null,
            "grid_template_rows": null,
            "height": null,
            "justify_content": null,
            "justify_items": null,
            "left": null,
            "margin": null,
            "max_height": null,
            "max_width": null,
            "min_height": null,
            "min_width": null,
            "object_fit": null,
            "object_position": null,
            "order": null,
            "overflow": null,
            "overflow_x": null,
            "overflow_y": null,
            "padding": null,
            "right": null,
            "top": null,
            "visibility": "hidden",
            "width": null
          }
        },
        "a41da842386a4afeadc7bf2f1e5dfb19": {
          "model_module": "@jupyter-widgets/base",
          "model_name": "LayoutModel",
          "model_module_version": "1.2.0",
          "state": {
            "_model_module": "@jupyter-widgets/base",
            "_model_module_version": "1.2.0",
            "_model_name": "LayoutModel",
            "_view_count": null,
            "_view_module": "@jupyter-widgets/base",
            "_view_module_version": "1.2.0",
            "_view_name": "LayoutView",
            "align_content": null,
            "align_items": null,
            "align_self": null,
            "border": null,
            "bottom": null,
            "display": null,
            "flex": null,
            "flex_flow": null,
            "grid_area": null,
            "grid_auto_columns": null,
            "grid_auto_flow": null,
            "grid_auto_rows": null,
            "grid_column": null,
            "grid_gap": null,
            "grid_row": null,
            "grid_template_areas": null,
            "grid_template_columns": null,
            "grid_template_rows": null,
            "height": null,
            "justify_content": null,
            "justify_items": null,
            "left": null,
            "margin": null,
            "max_height": null,
            "max_width": null,
            "min_height": null,
            "min_width": null,
            "object_fit": null,
            "object_position": null,
            "order": null,
            "overflow": null,
            "overflow_x": null,
            "overflow_y": null,
            "padding": null,
            "right": null,
            "top": null,
            "visibility": null,
            "width": null
          }
        },
        "892bc3a17a71450c9b5f33bd1acc6d93": {
          "model_module": "@jupyter-widgets/controls",
          "model_name": "DescriptionStyleModel",
          "model_module_version": "1.5.0",
          "state": {
            "_model_module": "@jupyter-widgets/controls",
            "_model_module_version": "1.5.0",
            "_model_name": "DescriptionStyleModel",
            "_view_count": null,
            "_view_module": "@jupyter-widgets/base",
            "_view_module_version": "1.2.0",
            "_view_name": "StyleView",
            "description_width": ""
          }
        },
        "8a7f15ea825246e381e47634f481c5a2": {
          "model_module": "@jupyter-widgets/base",
          "model_name": "LayoutModel",
          "model_module_version": "1.2.0",
          "state": {
            "_model_module": "@jupyter-widgets/base",
            "_model_module_version": "1.2.0",
            "_model_name": "LayoutModel",
            "_view_count": null,
            "_view_module": "@jupyter-widgets/base",
            "_view_module_version": "1.2.0",
            "_view_name": "LayoutView",
            "align_content": null,
            "align_items": null,
            "align_self": null,
            "border": null,
            "bottom": null,
            "display": null,
            "flex": null,
            "flex_flow": null,
            "grid_area": null,
            "grid_auto_columns": null,
            "grid_auto_flow": null,
            "grid_auto_rows": null,
            "grid_column": null,
            "grid_gap": null,
            "grid_row": null,
            "grid_template_areas": null,
            "grid_template_columns": null,
            "grid_template_rows": null,
            "height": null,
            "justify_content": null,
            "justify_items": null,
            "left": null,
            "margin": null,
            "max_height": null,
            "max_width": null,
            "min_height": null,
            "min_width": null,
            "object_fit": null,
            "object_position": null,
            "order": null,
            "overflow": null,
            "overflow_x": null,
            "overflow_y": null,
            "padding": null,
            "right": null,
            "top": null,
            "visibility": null,
            "width": null
          }
        },
        "21120b8ea25e4c1da15fb3c8088bfab1": {
          "model_module": "@jupyter-widgets/controls",
          "model_name": "ProgressStyleModel",
          "model_module_version": "1.5.0",
          "state": {
            "_model_module": "@jupyter-widgets/controls",
            "_model_module_version": "1.5.0",
            "_model_name": "ProgressStyleModel",
            "_view_count": null,
            "_view_module": "@jupyter-widgets/base",
            "_view_module_version": "1.2.0",
            "_view_name": "StyleView",
            "bar_color": null,
            "description_width": ""
          }
        },
        "df2ed50aec44444c8385b6e4dfa0c113": {
          "model_module": "@jupyter-widgets/base",
          "model_name": "LayoutModel",
          "model_module_version": "1.2.0",
          "state": {
            "_model_module": "@jupyter-widgets/base",
            "_model_module_version": "1.2.0",
            "_model_name": "LayoutModel",
            "_view_count": null,
            "_view_module": "@jupyter-widgets/base",
            "_view_module_version": "1.2.0",
            "_view_name": "LayoutView",
            "align_content": null,
            "align_items": null,
            "align_self": null,
            "border": null,
            "bottom": null,
            "display": null,
            "flex": null,
            "flex_flow": null,
            "grid_area": null,
            "grid_auto_columns": null,
            "grid_auto_flow": null,
            "grid_auto_rows": null,
            "grid_column": null,
            "grid_gap": null,
            "grid_row": null,
            "grid_template_areas": null,
            "grid_template_columns": null,
            "grid_template_rows": null,
            "height": null,
            "justify_content": null,
            "justify_items": null,
            "left": null,
            "margin": null,
            "max_height": null,
            "max_width": null,
            "min_height": null,
            "min_width": null,
            "object_fit": null,
            "object_position": null,
            "order": null,
            "overflow": null,
            "overflow_x": null,
            "overflow_y": null,
            "padding": null,
            "right": null,
            "top": null,
            "visibility": null,
            "width": null
          }
        },
        "8c797e054c1c476db3b416e3d70e1bf7": {
          "model_module": "@jupyter-widgets/controls",
          "model_name": "DescriptionStyleModel",
          "model_module_version": "1.5.0",
          "state": {
            "_model_module": "@jupyter-widgets/controls",
            "_model_module_version": "1.5.0",
            "_model_name": "DescriptionStyleModel",
            "_view_count": null,
            "_view_module": "@jupyter-widgets/base",
            "_view_module_version": "1.2.0",
            "_view_name": "StyleView",
            "description_width": ""
          }
        },
        "8212f69c5d68493d9cd7dd56fbab2089": {
          "model_module": "@jupyter-widgets/controls",
          "model_name": "HBoxModel",
          "model_module_version": "1.5.0",
          "state": {
            "_dom_classes": [],
            "_model_module": "@jupyter-widgets/controls",
            "_model_module_version": "1.5.0",
            "_model_name": "HBoxModel",
            "_view_count": null,
            "_view_module": "@jupyter-widgets/controls",
            "_view_module_version": "1.5.0",
            "_view_name": "HBoxView",
            "box_style": "",
            "children": [
              "IPY_MODEL_e690d6e6f891487f9d0203e6a9be6ca6",
              "IPY_MODEL_c2bebc56541f42a99c87a318295cc9bb",
              "IPY_MODEL_87101a0100f441b88c8b296c61a01835"
            ],
            "layout": "IPY_MODEL_f306ae0257e043228f86393aafb98547"
          }
        },
        "e690d6e6f891487f9d0203e6a9be6ca6": {
          "model_module": "@jupyter-widgets/controls",
          "model_name": "HTMLModel",
          "model_module_version": "1.5.0",
          "state": {
            "_dom_classes": [],
            "_model_module": "@jupyter-widgets/controls",
            "_model_module_version": "1.5.0",
            "_model_name": "HTMLModel",
            "_view_count": null,
            "_view_module": "@jupyter-widgets/controls",
            "_view_module_version": "1.5.0",
            "_view_name": "HTMLView",
            "description": "",
            "description_tooltip": null,
            "layout": "IPY_MODEL_dab8c856de164d70a3624e8fa3f6d4bf",
            "placeholder": "​",
            "style": "IPY_MODEL_f307279b6b894ca39805f95bebfa0438",
            "value": "Shuffling /root/tensorflow_datasets/imdb_reviews/plain_text/1.0.0.incomplete2CFO7V/imdb_reviews-unsupervised.tfrecord*...:  80%"
          }
        },
        "c2bebc56541f42a99c87a318295cc9bb": {
          "model_module": "@jupyter-widgets/controls",
          "model_name": "FloatProgressModel",
          "model_module_version": "1.5.0",
          "state": {
            "_dom_classes": [],
            "_model_module": "@jupyter-widgets/controls",
            "_model_module_version": "1.5.0",
            "_model_name": "FloatProgressModel",
            "_view_count": null,
            "_view_module": "@jupyter-widgets/controls",
            "_view_module_version": "1.5.0",
            "_view_name": "ProgressView",
            "bar_style": "",
            "description": "",
            "description_tooltip": null,
            "layout": "IPY_MODEL_c5998fe056c94ba79adff1cad86c74a5",
            "max": 50000,
            "min": 0,
            "orientation": "horizontal",
            "style": "IPY_MODEL_aa408f46e8fb4d0b80e97cae840c7860",
            "value": 50000
          }
        },
        "87101a0100f441b88c8b296c61a01835": {
          "model_module": "@jupyter-widgets/controls",
          "model_name": "HTMLModel",
          "model_module_version": "1.5.0",
          "state": {
            "_dom_classes": [],
            "_model_module": "@jupyter-widgets/controls",
            "_model_module_version": "1.5.0",
            "_model_name": "HTMLModel",
            "_view_count": null,
            "_view_module": "@jupyter-widgets/controls",
            "_view_module_version": "1.5.0",
            "_view_name": "HTMLView",
            "description": "",
            "description_tooltip": null,
            "layout": "IPY_MODEL_536066dbb97f43d4ad5e0e6136a25abf",
            "placeholder": "​",
            "style": "IPY_MODEL_3aaef980b13d4176883a78d10c7075b4",
            "value": " 40152/50000 [00:00&lt;00:00, 151740.44 examples/s]"
          }
        },
        "f306ae0257e043228f86393aafb98547": {
          "model_module": "@jupyter-widgets/base",
          "model_name": "LayoutModel",
          "model_module_version": "1.2.0",
          "state": {
            "_model_module": "@jupyter-widgets/base",
            "_model_module_version": "1.2.0",
            "_model_name": "LayoutModel",
            "_view_count": null,
            "_view_module": "@jupyter-widgets/base",
            "_view_module_version": "1.2.0",
            "_view_name": "LayoutView",
            "align_content": null,
            "align_items": null,
            "align_self": null,
            "border": null,
            "bottom": null,
            "display": null,
            "flex": null,
            "flex_flow": null,
            "grid_area": null,
            "grid_auto_columns": null,
            "grid_auto_flow": null,
            "grid_auto_rows": null,
            "grid_column": null,
            "grid_gap": null,
            "grid_row": null,
            "grid_template_areas": null,
            "grid_template_columns": null,
            "grid_template_rows": null,
            "height": null,
            "justify_content": null,
            "justify_items": null,
            "left": null,
            "margin": null,
            "max_height": null,
            "max_width": null,
            "min_height": null,
            "min_width": null,
            "object_fit": null,
            "object_position": null,
            "order": null,
            "overflow": null,
            "overflow_x": null,
            "overflow_y": null,
            "padding": null,
            "right": null,
            "top": null,
            "visibility": "hidden",
            "width": null
          }
        },
        "dab8c856de164d70a3624e8fa3f6d4bf": {
          "model_module": "@jupyter-widgets/base",
          "model_name": "LayoutModel",
          "model_module_version": "1.2.0",
          "state": {
            "_model_module": "@jupyter-widgets/base",
            "_model_module_version": "1.2.0",
            "_model_name": "LayoutModel",
            "_view_count": null,
            "_view_module": "@jupyter-widgets/base",
            "_view_module_version": "1.2.0",
            "_view_name": "LayoutView",
            "align_content": null,
            "align_items": null,
            "align_self": null,
            "border": null,
            "bottom": null,
            "display": null,
            "flex": null,
            "flex_flow": null,
            "grid_area": null,
            "grid_auto_columns": null,
            "grid_auto_flow": null,
            "grid_auto_rows": null,
            "grid_column": null,
            "grid_gap": null,
            "grid_row": null,
            "grid_template_areas": null,
            "grid_template_columns": null,
            "grid_template_rows": null,
            "height": null,
            "justify_content": null,
            "justify_items": null,
            "left": null,
            "margin": null,
            "max_height": null,
            "max_width": null,
            "min_height": null,
            "min_width": null,
            "object_fit": null,
            "object_position": null,
            "order": null,
            "overflow": null,
            "overflow_x": null,
            "overflow_y": null,
            "padding": null,
            "right": null,
            "top": null,
            "visibility": null,
            "width": null
          }
        },
        "f307279b6b894ca39805f95bebfa0438": {
          "model_module": "@jupyter-widgets/controls",
          "model_name": "DescriptionStyleModel",
          "model_module_version": "1.5.0",
          "state": {
            "_model_module": "@jupyter-widgets/controls",
            "_model_module_version": "1.5.0",
            "_model_name": "DescriptionStyleModel",
            "_view_count": null,
            "_view_module": "@jupyter-widgets/base",
            "_view_module_version": "1.2.0",
            "_view_name": "StyleView",
            "description_width": ""
          }
        },
        "c5998fe056c94ba79adff1cad86c74a5": {
          "model_module": "@jupyter-widgets/base",
          "model_name": "LayoutModel",
          "model_module_version": "1.2.0",
          "state": {
            "_model_module": "@jupyter-widgets/base",
            "_model_module_version": "1.2.0",
            "_model_name": "LayoutModel",
            "_view_count": null,
            "_view_module": "@jupyter-widgets/base",
            "_view_module_version": "1.2.0",
            "_view_name": "LayoutView",
            "align_content": null,
            "align_items": null,
            "align_self": null,
            "border": null,
            "bottom": null,
            "display": null,
            "flex": null,
            "flex_flow": null,
            "grid_area": null,
            "grid_auto_columns": null,
            "grid_auto_flow": null,
            "grid_auto_rows": null,
            "grid_column": null,
            "grid_gap": null,
            "grid_row": null,
            "grid_template_areas": null,
            "grid_template_columns": null,
            "grid_template_rows": null,
            "height": null,
            "justify_content": null,
            "justify_items": null,
            "left": null,
            "margin": null,
            "max_height": null,
            "max_width": null,
            "min_height": null,
            "min_width": null,
            "object_fit": null,
            "object_position": null,
            "order": null,
            "overflow": null,
            "overflow_x": null,
            "overflow_y": null,
            "padding": null,
            "right": null,
            "top": null,
            "visibility": null,
            "width": null
          }
        },
        "aa408f46e8fb4d0b80e97cae840c7860": {
          "model_module": "@jupyter-widgets/controls",
          "model_name": "ProgressStyleModel",
          "model_module_version": "1.5.0",
          "state": {
            "_model_module": "@jupyter-widgets/controls",
            "_model_module_version": "1.5.0",
            "_model_name": "ProgressStyleModel",
            "_view_count": null,
            "_view_module": "@jupyter-widgets/base",
            "_view_module_version": "1.2.0",
            "_view_name": "StyleView",
            "bar_color": null,
            "description_width": ""
          }
        },
        "536066dbb97f43d4ad5e0e6136a25abf": {
          "model_module": "@jupyter-widgets/base",
          "model_name": "LayoutModel",
          "model_module_version": "1.2.0",
          "state": {
            "_model_module": "@jupyter-widgets/base",
            "_model_module_version": "1.2.0",
            "_model_name": "LayoutModel",
            "_view_count": null,
            "_view_module": "@jupyter-widgets/base",
            "_view_module_version": "1.2.0",
            "_view_name": "LayoutView",
            "align_content": null,
            "align_items": null,
            "align_self": null,
            "border": null,
            "bottom": null,
            "display": null,
            "flex": null,
            "flex_flow": null,
            "grid_area": null,
            "grid_auto_columns": null,
            "grid_auto_flow": null,
            "grid_auto_rows": null,
            "grid_column": null,
            "grid_gap": null,
            "grid_row": null,
            "grid_template_areas": null,
            "grid_template_columns": null,
            "grid_template_rows": null,
            "height": null,
            "justify_content": null,
            "justify_items": null,
            "left": null,
            "margin": null,
            "max_height": null,
            "max_width": null,
            "min_height": null,
            "min_width": null,
            "object_fit": null,
            "object_position": null,
            "order": null,
            "overflow": null,
            "overflow_x": null,
            "overflow_y": null,
            "padding": null,
            "right": null,
            "top": null,
            "visibility": null,
            "width": null
          }
        },
        "3aaef980b13d4176883a78d10c7075b4": {
          "model_module": "@jupyter-widgets/controls",
          "model_name": "DescriptionStyleModel",
          "model_module_version": "1.5.0",
          "state": {
            "_model_module": "@jupyter-widgets/controls",
            "_model_module_version": "1.5.0",
            "_model_name": "DescriptionStyleModel",
            "_view_count": null,
            "_view_module": "@jupyter-widgets/base",
            "_view_module_version": "1.2.0",
            "_view_name": "StyleView",
            "description_width": ""
          }
        }
      }
    }
  },
  "cells": [
    {
      "cell_type": "markdown",
      "metadata": {
        "id": "view-in-github",
        "colab_type": "text"
      },
      "source": [
        "<a href=\"https://colab.research.google.com/github/aranjan-berkeley/nebula/blob/main/W266_RNN_Practice.ipynb\" target=\"_parent\"><img src=\"https://colab.research.google.com/assets/colab-badge.svg\" alt=\"Open In Colab\"/></a>"
      ]
    },
    {
      "cell_type": "markdown",
      "source": [
        "# Here we are practicing use of RNN. Reference material is from\n",
        "\n",
        "# lesson_3_DAN_CNN_RNN_Word2Vec_Embeddings_Classifier_plus_Attention\n",
        "\n",
        "<a id = 'returnToTop'></a>\n",
        "\n",
        "**Description:** Text classification on the IMDB movie dataset using i) Deep Averaging Networks, and ii) Convolutions Neural Nets (CNN) and pre-trained Word2Vec word embeddings.<br>\n",
        "\n",
        "Section 1 deals with setup and prerequisites, can does not deserve a lot of discussion.\n",
        "Data acquisition and preparation are handled in section 2, and section 3 looks at DANs and CNNs and now RNNs.\n",
        "\n",
        "\n",
        "\n",
        "\n",
        "## Notebook Contents\n",
        "  * 1. [Setup](#setup)\n",
        "  * 2. [Creation of the Dataset](#creationOfDataset)  \n",
        "  * 3. [Modeling](#modeling)\n",
        "    * 3.1 [Averaging Network](#averagingNetwork)\n",
        "    * 3.2 [Deep Averaging Network (DAN)](#modelDAN)\n",
        "    * 3.3 [Convolutional Neural Net (CNN)](#modelCNN)\n",
        "    * 3.4 [Recurrent Neural Net (RNN)](#modelRNN)\n",
        "       * 3.4.2 [Class Exercise](#classExercise)\n",
        "  * 4. [What about Attention](#modelAttention)\n",
        "  * 5. [Answers](#answers)"
      ],
      "metadata": {
        "id": "_UgxMiIxTkn6"
      }
    },
    {
      "cell_type": "markdown",
      "source": [
        "# Gensim\n",
        "\n",
        "Gensim is an open-source library for unsupervised topic modeling, document indexing, retrieval by similarity, and other natural language processing functionalities, using modern statistical machine learning.\n",
        "\n",
        "# *Topic Modeling:*\n",
        "\n",
        "https://en.wikipedia.org/wiki/File:Topic_model_scheme.webm\n",
        "\n",
        "\n",
        "In statistics and natural language processing, a topic model is a type of statistical model for discovering the abstract \"topics\" that occur in a collection of documents. Topic modeling is a frequently used text-mining tool for discovery of hidden semantic structures in a text body. Intuitively, given that a document is about a particular topic, one would expect particular words to appear in the document more or less frequently: \"dog\" and \"bone\" will appear more often in documents about dogs, \"cat\" and \"meow\" will appear in documents about cats, and \"the\" and \"is\" will appear approximately equally in both.\n",
        "\n",
        "# *Use of Gensim:*\n",
        "Gensim includes streamed parallelized implementations of fastText, word2vec and doc2vec algorithms, as well as latent semantic analysis (LSA, LSI, SVD), non-negative matrix factorization (NMF), latent Dirichlet allocation (LDA), tf-idf and random projections.\n",
        "\n",
        "Some of the novel online algorithms in Gensim were also published in the 2011 PhD dissertation Scalability of Semantic Analysis in Natural Language Processing of ***Radim Řehůřek***, the creator of Gensim.\n",
        "\n",
        "\n",
        "\n"
      ],
      "metadata": {
        "id": "RENEkP1yUKSL"
      }
    },
    {
      "cell_type": "code",
      "source": [
        "#Install Gensim\n",
        "!pip install gensim --quiet"
      ],
      "metadata": {
        "id": "g46Y3KAyT5rF"
      },
      "execution_count": 1,
      "outputs": []
    },
    {
      "cell_type": "markdown",
      "source": [
        "Tensorflow data sets contains a large corpus of datasets for machine learning that can be used for research and training.\n",
        "We will use imdb_review for text classification practice\n",
        "\n",
        "***corpus*** - noun: corpus; plural noun: corpuses; plural noun: corpora\n",
        "    1.a collection of written texts, especially the entire works of a particular author or a body of writing on a particular subject."
      ],
      "metadata": {
        "id": "qL7KhqGUWjlp"
      }
    },
    {
      "cell_type": "code",
      "source": [
        "#install tensorflow-datasets\n",
        "!pip install tensorflow-datasets --quiet"
      ],
      "metadata": {
        "id": "E_I2T-6GVWxh"
      },
      "execution_count": 2,
      "outputs": []
    },
    {
      "cell_type": "markdown",
      "source": [
        "# Tensorflow-text\n",
        "\n",
        "\n",
        "***Text processing tools for TensorFlow***\n",
        "\n",
        "TensorFlow provides two libraries for text and natural language processing: KerasNLP and TensorFlow Text. KerasNLP is a high-level natural language processing (NLP) library that includes modern transformer-based models as well as lower-level tokenization utilities. It's the recommended solution for most NLP use cases. Built on TensorFlow Text, KerasNLP abstracts low-level text processing operations into an API that's designed for ease of use. But if you prefer not to work with the Keras API, or you need access to the lower-level text processing ops, you can use TensorFlow Text directly.\n",
        "\n"
      ],
      "metadata": {
        "id": "ZjnfDb9QXG5g"
      }
    },
    {
      "cell_type": "code",
      "source": [
        "#install tensorflow-text\n",
        "!pip install -U tensorflow-text --quiet"
      ],
      "metadata": {
        "colab": {
          "base_uri": "https://localhost:8080/"
        },
        "id": "AShP-_GtXUCn",
        "outputId": "1698ee9d-1b85-44d5-b017-2324e4910b39"
      },
      "execution_count": 3,
      "outputs": [
        {
          "output_type": "stream",
          "name": "stdout",
          "text": [
            "\u001b[2K     \u001b[90m━━━━━━━━━━━━━━━━━━━━━━━━━━━━━━━━━━━━━━━━\u001b[0m \u001b[32m6.5/6.5 MB\u001b[0m \u001b[31m20.1 MB/s\u001b[0m eta \u001b[36m0:00:00\u001b[0m\n",
            "\u001b[?25h"
          ]
        }
      ]
    },
    {
      "cell_type": "markdown",
      "source": [
        "pydot:\n",
        "\n",
        "    is an interface to Graphviz\n",
        "    can parse and dump into the DOT language used by GraphViz,\n",
        "    is written in pure Python,\n",
        "\n",
        "and networkx can convert its graphs to pydot."
      ],
      "metadata": {
        "id": "Az194IqDYEpK"
      }
    },
    {
      "cell_type": "code",
      "source": [
        "!pip install pydot --quiet"
      ],
      "metadata": {
        "id": "EA-hGm7PYE6R"
      },
      "execution_count": 4,
      "outputs": []
    },
    {
      "cell_type": "markdown",
      "source": [
        "***************************************************************\n",
        "We are done with the installs.\n",
        "\n",
        "Now we are ready to do the imports\n",
        "**************************************************************"
      ],
      "metadata": {
        "id": "gqjqPBzXYiSu"
      }
    },
    {
      "cell_type": "code",
      "source": [
        "import numpy as np\n",
        "import tensorflow as tf\n",
        "from tensorflow import keras\n",
        "\n",
        "from tensorflow.keras.layers import Embedding, Input, Dense, Lambda\n",
        "from tensorflow.keras.models import Model\n",
        "import tensorflow.keras.backend as K\n",
        "import tensorflow_datasets as tfds\n",
        "import tensorflow_text as tf_text\n",
        "\n",
        "import sklearn as sk\n",
        "import os\n",
        "import nltk\n",
        "from nltk.data import find\n",
        "\n",
        "import matplotlib.pyplot as plt\n",
        "\n",
        "import re\n",
        "\n",
        "\n",
        "import gensim\n",
        "from gensim.models import Word2Vec\n",
        "from gensim.models import KeyedVectors\n",
        "from gensim.test.utils import datapath\n",
        "\n",
        "\n",
        "# for Amiya's practice\n",
        "from numpy.linalg import norm"
      ],
      "metadata": {
        "id": "gNXKp1nrYpbJ"
      },
      "execution_count": 5,
      "outputs": []
    },
    {
      "cell_type": "markdown",
      "source": [
        "Helper Function:\n",
        "\n",
        "4-window plot of loss and history comparing two models"
      ],
      "metadata": {
        "id": "K3hHnB2vZkUa"
      }
    },
    {
      "cell_type": "code",
      "source": [
        "# 4-window plot of loss and accuracy for two models, for comparison\n",
        "\n",
        "def make_plot(axs,\n",
        "              model_history1,\n",
        "              model_history2,\n",
        "              model_1_name='model 1',\n",
        "              model_2_name='model 2',\n",
        "              ):\n",
        "    box = dict(facecolor='yellow', pad=5, alpha=0.2)\n",
        "\n",
        "    for i, metric in enumerate(['loss', 'accuracy']):\n",
        "        y_lim_lower1 = np.min(model_history1.history[metric])\n",
        "        y_lim_lower2 = np.min(model_history2.history[metric])\n",
        "        y_lim_lower = min(y_lim_lower1, y_lim_lower2) * 0.9\n",
        "\n",
        "        y_lim_upper1 = np.max(model_history1.history[metric])\n",
        "        y_lim_upper2 = np.max(model_history2.history[metric])\n",
        "        y_lim_upper = max(y_lim_upper1, y_lim_upper2) * 1.1\n",
        "\n",
        "        for j, model_history in enumerate([model_history1, model_history2]):\n",
        "            model_name = [model_1_name, model_2_name][j]\n",
        "            ax1 = axs[i, j]\n",
        "            ax1.plot(model_history.history[metric])\n",
        "            ax1.plot(model_history.history['val_%s' % metric])\n",
        "            ax1.set_title('%s - %s' % (metric, model_name))\n",
        "            ax1.set_ylabel(metric, bbox=box)\n",
        "            ax1.set_ylim(y_lim_lower, y_lim_upper)"
      ],
      "metadata": {
        "id": "i1KEU3kkZkdl"
      },
      "execution_count": 6,
      "outputs": []
    },
    {
      "cell_type": "markdown",
      "source": [
        "Get word2vec model from nltk.\n",
        "NLTK includes a pre-trained model which is part of a model that is trained on 100 billion words from the Google News Dataset. The full model is from https://code.google.com/p/word2vec/ (about 3 GB)."
      ],
      "metadata": {
        "id": "P3cTmRNYZ4dA"
      }
    },
    {
      "cell_type": "code",
      "source": [
        "nltk.download('word2vec_sample')"
      ],
      "metadata": {
        "colab": {
          "base_uri": "https://localhost:8080/"
        },
        "id": "gddMJZ0HZ4pz",
        "outputId": "1679aa1b-3b60-4387-f1a3-d51980fabdb3"
      },
      "execution_count": 7,
      "outputs": [
        {
          "output_type": "stream",
          "name": "stderr",
          "text": [
            "[nltk_data] Downloading package word2vec_sample to /root/nltk_data...\n",
            "[nltk_data]   Unzipping models/word2vec_sample.zip.\n"
          ]
        },
        {
          "output_type": "execute_result",
          "data": {
            "text/plain": [
              "True"
            ]
          },
          "metadata": {},
          "execution_count": 7
        }
      ]
    },
    {
      "cell_type": "markdown",
      "source": [
        "nltk has also pruned the model to only include the most common words (~44k words).\n",
        "\n",
        "Let us load that model.\n"
      ],
      "metadata": {
        "id": "jFAKT3fZaInW"
      }
    },
    {
      "cell_type": "code",
      "source": [
        "word2vec_sample = str(find('models/word2vec_sample/pruned.word2vec.txt'))\n",
        "model = gensim.models.KeyedVectors.load_word2vec_format(word2vec_sample, binary=False)"
      ],
      "metadata": {
        "id": "q6yZrvpEaI33"
      },
      "execution_count": 8,
      "outputs": []
    },
    {
      "cell_type": "markdown",
      "source": [
        "How many words in the model?"
      ],
      "metadata": {
        "id": "xirdFbgVadvF"
      }
    },
    {
      "cell_type": "code",
      "source": [
        "len(model)"
      ],
      "metadata": {
        "colab": {
          "base_uri": "https://localhost:8080/"
        },
        "id": "6Ul_ezG9ae0k",
        "outputId": "90c60ee2-4d37-4dfe-f09a-aa9815360c4d"
      },
      "execution_count": 9,
      "outputs": [
        {
          "output_type": "execute_result",
          "data": {
            "text/plain": [
              "43981"
            ]
          },
          "metadata": {},
          "execution_count": 9
        }
      ]
    },
    {
      "cell_type": "markdown",
      "source": [
        "Each word is represented in the space of 300 dimensions:"
      ],
      "metadata": {
        "id": "xi_mY2XZb_g-"
      }
    },
    {
      "cell_type": "code",
      "source": [
        "len(model['university'])"
      ],
      "metadata": {
        "colab": {
          "base_uri": "https://localhost:8080/"
        },
        "id": "KkoQgi6Wb_of",
        "outputId": "4a303c99-6e68-4136-bb8a-1f566a387ee0"
      },
      "execution_count": 10,
      "outputs": [
        {
          "output_type": "execute_result",
          "data": {
            "text/plain": [
              "300"
            ]
          },
          "metadata": {},
          "execution_count": 10
        }
      ]
    },
    {
      "cell_type": "markdown",
      "source": [
        "How do the word vectors look like? As expected:"
      ],
      "metadata": {
        "id": "9bGCaEZ_anFN"
      }
    },
    {
      "cell_type": "code",
      "source": [
        "model['university']"
      ],
      "metadata": {
        "colab": {
          "base_uri": "https://localhost:8080/"
        },
        "id": "CW4ClKPbaof4",
        "outputId": "aa45d318-5337-41c5-88da-a9ff4b9071c3"
      },
      "execution_count": 11,
      "outputs": [
        {
          "output_type": "execute_result",
          "data": {
            "text/plain": [
              "array([-6.04623e-02, -4.63157e-02,  6.78263e-02,  1.14723e-01,\n",
              "        1.06972e-01, -3.41069e-02,  6.74387e-02, -4.88349e-02,\n",
              "       -1.23541e-02, -7.44151e-02,  4.84473e-02, -5.15480e-02,\n",
              "        1.26932e-02,  3.08125e-02, -8.64301e-02,  4.38448e-03,\n",
              "       -8.33294e-02, -3.04249e-02,  7.44151e-02, -5.30983e-02,\n",
              "       -3.10063e-03,  6.78263e-02,  1.91851e-02, -1.34441e-03,\n",
              "        1.92578e-03, -8.52673e-02, -5.89120e-02,  1.26932e-02,\n",
              "       -4.68970e-02,  2.67429e-02,  5.27107e-02, -3.54635e-02,\n",
              "       -2.28671e-02, -2.25765e-02,  3.21690e-02, -8.29419e-02,\n",
              "        2.30609e-02,  3.72076e-02, -2.53864e-02,  5.73617e-02,\n",
              "       -3.93392e-02,  2.06386e-02, -3.27504e-02,  1.53094e-02,\n",
              "       -2.51926e-02, -3.99206e-02,  1.24025e-02, -4.57343e-02,\n",
              "       -1.08522e-01,  1.27780e-03,  3.87579e-02, -7.79033e-02,\n",
              "        6.82139e-02,  2.55802e-02,  9.37941e-02,  1.09491e-02,\n",
              "       -1.08522e-01,  2.37392e-03,  2.83417e-03, -4.74784e-02,\n",
              "       -7.90661e-02, -5.27107e-02,  2.36423e-02, -2.82932e-02,\n",
              "       -2.26734e-02,  4.14225e-03,  8.81742e-03,  2.15106e-02,\n",
              "        3.05218e-03,  3.97268e-03, -1.68984e-01,  8.68176e-02,\n",
              "        6.82139e-02, -1.20925e-01, -4.41840e-02,  8.13915e-02,\n",
              "       -1.91851e-02,  3.72076e-02,  2.33516e-02,  2.30609e-02,\n",
              "       -8.18760e-03, -2.40299e-02,  3.00374e-02,  4.39902e-02,\n",
              "       -5.27107e-02, -3.39131e-02, -5.19356e-02,  7.01518e-02,\n",
              "       -3.02311e-02,  7.05393e-02, -7.05393e-02, -1.00770e-01,\n",
              "       -6.47257e-02, -8.33294e-02,  4.68970e-02,  3.48821e-03,\n",
              "        6.08499e-02,  2.01541e-02,  1.06100e-02, -7.13145e-02,\n",
              "       -4.68970e-02, -5.58113e-02, -8.91431e-02, -3.77889e-02,\n",
              "        1.79255e-02,  1.36622e-02, -7.48027e-02, -1.28385e-03,\n",
              "        8.87555e-02, -1.51156e-01, -1.27901e-01,  4.24399e-02,\n",
              "        1.09297e-01,  8.29419e-02,  6.47257e-02, -2.13168e-02,\n",
              "       -1.90883e-02, -8.48797e-02,  5.03852e-02,  1.43404e-01,\n",
              "       -8.21667e-02, -4.45716e-02,  3.35256e-02,  1.37590e-02,\n",
              "       -9.72823e-02, -8.25543e-02,  5.58113e-02, -1.85069e-02,\n",
              "        4.12771e-02, -2.00572e-02,  7.82909e-02, -1.51156e-02,\n",
              "       -6.43381e-02, -1.28870e-02,  4.14709e-02, -6.20126e-02,\n",
              "        2.71305e-02,  5.07728e-02, -6.27878e-02, -1.91851e-02,\n",
              "       -1.11623e-01, -8.02288e-02,  2.53864e-02,  7.01518e-02,\n",
              "       -2.71305e-03,  9.57320e-02,  3.62386e-02,  4.78660e-02,\n",
              "        1.67628e-02,  3.91455e-02,  1.04646e-01,  1.49218e-02,\n",
              "       -4.90287e-02,  3.60448e-02,  4.30212e-02, -4.24399e-02,\n",
              "        7.63530e-02, -6.62760e-02,  5.38734e-02,  9.38667e-04,\n",
              "        5.76523e-03,  2.84870e-02,  1.31777e-01,  5.46486e-02,\n",
              "        4.49591e-02, -4.96585e-04,  7.48027e-02,  2.56771e-03,\n",
              "       -2.84870e-02, -3.70138e-02,  2.01541e-02,  2.80995e-02,\n",
              "       -2.80995e-02, -3.75951e-02,  1.41466e-02,  5.59567e-03,\n",
              "        4.99977e-02,  4.67032e-02,  1.47280e-02,  7.94536e-02,\n",
              "       -1.67628e-02,  2.53864e-02, -2.33516e-02, -6.74387e-02,\n",
              "        2.75181e-02,  1.86038e-02, -3.95330e-02,  4.94163e-02,\n",
              "        9.92202e-02,  2.69367e-02,  2.65491e-02,  3.12485e-03,\n",
              "       -3.97268e-02,  7.24772e-02, -1.60458e-01, -9.83481e-03,\n",
              "        5.11604e-02, -2.04448e-02, -8.91431e-03,  1.85311e-03,\n",
              "       -5.58113e-02,  4.36026e-02,  7.36400e-02, -3.43007e-02,\n",
              "       -3.51243e-03, -5.03852e-02,  1.11623e-01, -1.12398e-01,\n",
              "       -3.85641e-02, -3.53666e-03,  1.05421e-01,  1.40043e-04,\n",
              "        1.03096e-01, -6.27878e-02, -1.17049e-01,  9.45692e-02,\n",
              "       -8.41046e-02,  5.77492e-02, -4.65094e-02,  1.03193e-02,\n",
              "       -7.17021e-02, -5.89120e-02,  1.81193e-02,  5.01430e-03,\n",
              "        1.18599e-01,  5.69741e-02,  5.91058e-03,  5.23231e-02,\n",
              "        7.17021e-03, -6.12859e-03,  7.17021e-02,  5.96871e-02,\n",
              "       -2.46112e-02,  2.10746e-03,  3.89517e-02, -8.64301e-02,\n",
              "        1.00770e-01,  1.09975e-02, -6.78263e-02,  5.23231e-02,\n",
              "        5.30983e-02, -4.99977e-02, -5.11604e-02, -2.45870e-03,\n",
              "       -1.80224e-02, -7.13145e-02, -6.97642e-02, -8.62363e-03,\n",
              "       -5.58113e-02,  2.66460e-04,  3.24597e-03,  5.65865e-02,\n",
              "        6.16250e-02,  7.67406e-02, -2.61616e-02, -8.79804e-02,\n",
              "       -7.60623e-03,  5.38734e-02, -4.59281e-02,  1.29839e-02,\n",
              "        7.28648e-02,  2.18982e-02, -8.72052e-02,  3.72076e-02,\n",
              "        4.96101e-02,  1.58907e-02, -5.59567e-03, -1.03871e-01,\n",
              "       -2.29640e-02, -2.71305e-02,  5.61989e-02, -7.28648e-02,\n",
              "        1.23056e-02,  1.71504e-02, -8.62363e-03, -6.78263e-02,\n",
              "        2.30609e-02, -1.12398e-01, -2.63554e-02, -6.78263e-03,\n",
              "       -1.70535e-02, -6.78263e-02,  8.17791e-02,  4.88349e-02,\n",
              "        4.59281e-02,  4.82536e-02,  3.66262e-02,  2.24796e-02,\n",
              "        7.67406e-02,  1.41466e-02, -6.24002e-02,  7.12176e-03,\n",
              "       -1.51156e-01,  4.68970e-02,  8.33294e-02,  1.33715e-02,\n",
              "       -2.77119e-02,  3.35256e-02,  3.75467e-03,  2.94560e-02],\n",
              "      dtype=float32)"
            ]
          },
          "metadata": {},
          "execution_count": 11
        }
      ]
    },
    {
      "cell_type": "markdown",
      "source": [
        "We can now build the embedding matrix and a vocabulary dictionary:"
      ],
      "metadata": {
        "id": "d7ioOD6VcKXY"
      }
    },
    {
      "cell_type": "code",
      "source": [
        "EMBEDDING_DIM = len(model['university'])      # we know... it's 300\n",
        "\n",
        "# initialize embedding matrix and word-to-id map:\n",
        "embedding_matrix = np.zeros((len(model) + 1, EMBEDDING_DIM))\n",
        "vocab_dict = {}\n",
        "\n",
        "# build the embedding matrix and the word-to-id map:\n",
        "for i, word in enumerate(model.index_to_key):\n",
        "    embedding_vector = model[word]\n",
        "\n",
        "    if embedding_vector is not None:\n",
        "        # words not found in embedding index will be all-zeros.\n",
        "        embedding_matrix[i] = embedding_vector\n",
        "        vocab_dict[word] = i\n",
        "\n",
        "# we can use the last index at the end of the vocab for unknown tokens\n",
        "vocab_dict['[UNK]'] = len(vocab_dict)"
      ],
      "metadata": {
        "id": "AmSF-XUecKqX"
      },
      "execution_count": 12,
      "outputs": []
    },
    {
      "cell_type": "markdown",
      "source": [
        "Let us explore our dictionary and embedding matrix for \"university\""
      ],
      "metadata": {
        "id": "EbaGY0lbdQ0G"
      }
    },
    {
      "cell_type": "code",
      "source": [
        "print(vocab_dict[\"university\"])\n",
        "A = embedding_matrix[vocab_dict[\"university\"]]\n",
        "print(A)\n",
        "print(vocab_dict[\"college\"])\n",
        "B = embedding_matrix[vocab_dict[\"college\"]]\n",
        "#print(B)\n",
        "C1 = embedding_matrix[vocab_dict[\"monkey\"]]\n",
        "#print(C1)\n",
        "C2 = embedding_matrix[vocab_dict[\"ape\"]]\n",
        "#print(C2)\n",
        "\n",
        "\n",
        "print(\"Cosine Similarity A and B:\", np.dot(A,B)/(norm(A)*norm(B)))\n",
        "print(\"Cosine Similarity A and C1:\", np.dot(A,C1)/(norm(A)*norm(C1)))\n",
        "print(\"Cosine Similarity C1 and C2:\", np.dot(C1,C2)/(norm(C1)*norm(C2)))\n",
        "\n"
      ],
      "metadata": {
        "colab": {
          "base_uri": "https://localhost:8080/"
        },
        "id": "u0CpRr_LdQ70",
        "outputId": "ceb240b1-af5d-417b-ca57-d574d9edcd07"
      },
      "execution_count": 13,
      "outputs": [
        {
          "output_type": "stream",
          "name": "stdout",
          "text": [
            "4970\n",
            "[-6.04622997e-02 -4.63156998e-02  6.78263009e-02  1.14722997e-01\n",
            "  1.06972001e-01 -3.41068991e-02  6.74386993e-02 -4.88349013e-02\n",
            " -1.23541001e-02 -7.44151026e-02  4.84472997e-02 -5.15480004e-02\n",
            "  1.26932003e-02  3.08125000e-02 -8.64301026e-02  4.38447995e-03\n",
            " -8.33294019e-02 -3.04249004e-02  7.44151026e-02 -5.30982986e-02\n",
            " -3.10062990e-03  6.78263009e-02  1.91850998e-02 -1.34441000e-03\n",
            "  1.92577997e-03 -8.52672979e-02 -5.89120016e-02  1.26932003e-02\n",
            " -4.68970016e-02  2.67428998e-02  5.27107008e-02 -3.54635008e-02\n",
            " -2.28671003e-02 -2.25764997e-02  3.21689993e-02 -8.29418972e-02\n",
            "  2.30608992e-02  3.72075997e-02 -2.53864005e-02  5.73616996e-02\n",
            " -3.93391997e-02  2.06386000e-02 -3.27504016e-02  1.53093999e-02\n",
            " -2.51925997e-02 -3.99205983e-02  1.24025000e-02 -4.57343012e-02\n",
            " -1.08521998e-01  1.27779995e-03  3.87579016e-02 -7.79033005e-02\n",
            "  6.82139024e-02  2.55801994e-02  9.37941000e-02  1.09491004e-02\n",
            " -1.08521998e-01  2.37392006e-03  2.83416989e-03 -4.74784002e-02\n",
            " -7.90660977e-02 -5.27107008e-02  2.36422997e-02 -2.82931998e-02\n",
            " -2.26734001e-02  4.14224993e-03  8.81742034e-03  2.15105992e-02\n",
            "  3.05217993e-03  3.97267984e-03 -1.68983996e-01  8.68175998e-02\n",
            "  6.82139024e-02 -1.20925002e-01 -4.41839993e-02  8.13914984e-02\n",
            " -1.91850998e-02  3.72075997e-02  2.33516004e-02  2.30608992e-02\n",
            " -8.18760041e-03 -2.40298994e-02  3.00373994e-02  4.39901985e-02\n",
            " -5.27107008e-02 -3.39130983e-02 -5.19355983e-02  7.01517984e-02\n",
            " -3.02310996e-02  7.05393031e-02 -7.05393031e-02 -1.00769997e-01\n",
            " -6.47256970e-02 -8.33294019e-02  4.68970016e-02  3.48821003e-03\n",
            "  6.08499013e-02  2.01540999e-02  1.06100002e-02 -7.13144988e-02\n",
            " -4.68970016e-02 -5.58113009e-02 -8.91430974e-02 -3.77889015e-02\n",
            "  1.79255009e-02  1.36622004e-02 -7.48026967e-02 -1.28385006e-03\n",
            "  8.87555033e-02 -1.51155993e-01 -1.27901003e-01  4.24399003e-02\n",
            "  1.09297000e-01  8.29418972e-02  6.47256970e-02 -2.13168003e-02\n",
            " -1.90882999e-02 -8.48796964e-02  5.03851995e-02  1.43404007e-01\n",
            " -8.21667016e-02 -4.45716009e-02  3.35256010e-02  1.37590002e-02\n",
            " -9.72822979e-02 -8.25543031e-02  5.58113009e-02 -1.85068995e-02\n",
            "  4.12770994e-02 -2.00571995e-02  7.82909021e-02 -1.51156001e-02\n",
            " -6.43381029e-02 -1.28870001e-02  4.14709002e-02 -6.20126016e-02\n",
            "  2.71304995e-02  5.07728010e-02 -6.27878010e-02 -1.91850998e-02\n",
            " -1.11622997e-01 -8.02287981e-02  2.53864005e-02  7.01517984e-02\n",
            " -2.71304999e-03  9.57320035e-02  3.62385996e-02  4.78660017e-02\n",
            "  1.67628005e-02  3.91454995e-02  1.04645997e-01  1.49218002e-02\n",
            " -4.90286984e-02  3.60447988e-02  4.30211984e-02 -4.24399003e-02\n",
            "  7.63529986e-02 -6.62759990e-02  5.38734011e-02  9.38666984e-04\n",
            "  5.76522993e-03  2.84870006e-02  1.31777003e-01  5.46486005e-02\n",
            "  4.49591018e-02 -4.96584980e-04  7.48026967e-02  2.56770989e-03\n",
            " -2.84870006e-02 -3.70137990e-02  2.01540999e-02  2.80994996e-02\n",
            " -2.80994996e-02 -3.75951007e-02  1.41465999e-02  5.59567008e-03\n",
            "  4.99976985e-02  4.67032008e-02  1.47280004e-02  7.94536024e-02\n",
            " -1.67628005e-02  2.53864005e-02 -2.33516004e-02 -6.74386993e-02\n",
            "  2.75180992e-02  1.86037999e-02 -3.95330004e-02  4.94162999e-02\n",
            "  9.92202014e-02  2.69367006e-02  2.65491009e-02  3.12485010e-03\n",
            " -3.97268012e-02  7.24771991e-02 -1.60457999e-01 -9.83481016e-03\n",
            "  5.11603989e-02 -2.04447992e-02 -8.91430955e-03  1.85311004e-03\n",
            " -5.58113009e-02  4.36026007e-02  7.36399963e-02 -3.43006998e-02\n",
            " -3.51243000e-03 -5.03851995e-02  1.11622997e-01 -1.12397999e-01\n",
            " -3.85641009e-02 -3.53665999e-03  1.05420999e-01  1.40043005e-04\n",
            "  1.03096001e-01 -6.27878010e-02 -1.17049001e-01  9.45691988e-02\n",
            " -8.41045976e-02  5.77492006e-02 -4.65094000e-02  1.03193000e-02\n",
            " -7.17021003e-02 -5.89120016e-02  1.81192998e-02  5.01429988e-03\n",
            "  1.18598998e-01  5.69741018e-02  5.91058005e-03  5.23230992e-02\n",
            "  7.17021013e-03 -6.12859009e-03  7.17021003e-02  5.96871004e-02\n",
            " -2.46111993e-02  2.10746005e-03  3.89516987e-02 -8.64301026e-02\n",
            "  1.00769997e-01  1.09975003e-02 -6.78263009e-02  5.23230992e-02\n",
            "  5.30982986e-02 -4.99976985e-02 -5.11603989e-02 -2.45869998e-03\n",
            " -1.80223994e-02 -7.13144988e-02 -6.97641969e-02 -8.62362981e-03\n",
            " -5.58113009e-02  2.66460003e-04  3.24597000e-03  5.65865003e-02\n",
            "  6.16250001e-02  7.67406002e-02 -2.61615999e-02 -8.79803970e-02\n",
            " -7.60623021e-03  5.38734011e-02 -4.59280983e-02  1.29838996e-02\n",
            "  7.28648007e-02  2.18982007e-02 -8.72052014e-02  3.72075997e-02\n",
            "  4.96101007e-02  1.58907007e-02 -5.59567008e-03 -1.03871003e-01\n",
            " -2.29640007e-02 -2.71304995e-02  5.61988987e-02 -7.28648007e-02\n",
            "  1.23055996e-02  1.71504002e-02 -8.62362981e-03 -6.78263009e-02\n",
            "  2.30608992e-02 -1.12397999e-01 -2.63554007e-02 -6.78262999e-03\n",
            " -1.70534998e-02 -6.78263009e-02  8.17791000e-02  4.88349013e-02\n",
            "  4.59280983e-02  4.82535996e-02  3.66262011e-02  2.24795993e-02\n",
            "  7.67406002e-02  1.41465999e-02 -6.24001995e-02  7.12175993e-03\n",
            " -1.51155993e-01  4.68970016e-02  8.33294019e-02  1.33715002e-02\n",
            " -2.77119000e-02  3.35256010e-02  3.75467003e-03  2.94560008e-02]\n",
            "31327\n",
            "Cosine Similarity A and B: 0.6385269714035493\n",
            "Cosine Similarity A and C1: 0.08995157492126402\n",
            "Cosine Similarity C1 and C2: 0.6170221816484741\n"
          ]
        }
      ]
    },
    {
      "cell_type": "markdown",
      "source": [
        "Explore the matrix"
      ],
      "metadata": {
        "id": "JiFJrP6DfKMb"
      }
    },
    {
      "cell_type": "code",
      "source": [
        "embedding_matrix.shape"
      ],
      "metadata": {
        "colab": {
          "base_uri": "https://localhost:8080/"
        },
        "id": "yUQCmJFefKUu",
        "outputId": "dabe4015-f4a8-4867-eab1-229de6003eb0"
      },
      "execution_count": 14,
      "outputs": [
        {
          "output_type": "execute_result",
          "data": {
            "text/plain": [
              "(43982, 300)"
            ]
          },
          "metadata": {},
          "execution_count": 14
        }
      ]
    },
    {
      "cell_type": "code",
      "source": [
        "embedding_matrix[:5, :5]"
      ],
      "metadata": {
        "colab": {
          "base_uri": "https://localhost:8080/"
        },
        "id": "70f5u1GufQ96",
        "outputId": "4fe704b8-b485-4851-fa03-bf78154e8afe"
      },
      "execution_count": 15,
      "outputs": [
        {
          "output_type": "execute_result",
          "data": {
            "text/plain": [
              "array([[ 0.0891758 ,  0.121832  , -0.0671959 ,  0.0477279 , -0.013659  ],\n",
              "       [ 0.0526281 ,  0.013157  , -0.010104  ,  0.0540819 ,  0.0386715 ],\n",
              "       [ 0.0786419 ,  0.0373911 , -0.0131472 ,  0.0347375 ,  0.0288273 ],\n",
              "       [-0.00157585, -0.0564239 ,  0.00320281,  0.0422498 ,  0.15264399],\n",
              "       [ 0.0356899 , -0.00367283, -0.065534  ,  0.0213832 ,  0.00788408]])"
            ]
          },
          "metadata": {},
          "execution_count": 15
        }
      ]
    },
    {
      "cell_type": "markdown",
      "source": [
        "[Return to Top](#returnToTop)  \n",
        "<a id = 'creationOfDataset'></a>\n",
        "## 2. Creation of the Dataset\n",
        "\n",
        "### 2.1 Data Acquisition\n",
        "\n",
        "We will use the IMDB dataset delivered as part of the tensorflow-datasets library, and split into training and test sets. For expedience, we will limit ourselves in terms of train and test examples."
      ],
      "metadata": {
        "id": "gWv5Mu5Nffmj"
      }
    },
    {
      "cell_type": "code",
      "source": [
        "train_data, test_data = tfds.load(\n",
        "    name=\"imdb_reviews\",\n",
        "    split=('train[:80%]', 'test[80%:]'),\n",
        "    as_supervised=True)"
      ],
      "metadata": {
        "colab": {
          "base_uri": "https://localhost:8080/",
          "height": 116,
          "referenced_widgets": [
            "169d3f1ba6424a849fd0b2aa2b7bde16",
            "34e755722dfd43f6b7f16e826e86357d",
            "e3366ffcb78544ad9d02d8b5297ec14e",
            "3a8725d2110d44debc96d49b06e78cf9",
            "9b18c89a03744593bc1de28e34f15174",
            "ec79e2fdfac84e7787ff9d564e332204",
            "1a2b397677e9424abd6020a16ca505ce",
            "e539240287f146d7a79f4f865537b977",
            "ef7fb32cbbf04258a716810f3b214e2d",
            "795b151cc5b94e88819335de849b1384",
            "7f0f12b4bb034fea99234d2dcb281688",
            "c1617be297e44b20ad05c9366087d85a",
            "a271e5b71d1545fe8116fcaa3e45f28b",
            "1b53fb1d0d424166a919a29c99e37191",
            "088bb061166848168bdc6ac4d487d301",
            "53da5877f63542a892b66114e8271037",
            "61ff67a250264b8ebbfd0e30586d6e23",
            "49f15f80e4bc45779c822dc9cefa115a",
            "b91e0bf6a1184feaa521bc352660eb35",
            "b4bb2fa0e46a495fa8923fc15b0de3e7",
            "e7e8616aaf7b4c9bba469d22f372bc0e",
            "2353a03227a64b70aa4063e410039a28",
            "bf55fa14d7b44fa99217c2ba8e68eb7b",
            "fd4d855116954a0eb07f74c90dad9def",
            "2c90e24e297a4bd388645be26a28cfa1",
            "ef300b748628445a9552ebf07a65454b",
            "a1e9f70e5da54d9fb4ee1ca2e0d391f7",
            "45184b9325c544038258e98f3d320e7f",
            "c7904b92e2434828ad9337a17ddbba95",
            "5e02272fbd2349a4879d083211972a9e",
            "c4539ba0d17249b5819966e3c0cef1f6",
            "80be9c5b9f564eb089b75ba48e8139bd",
            "39c64766c1a44d41b05f576105f099cb",
            "4d79ef2471254ccb87ff62956130e246",
            "68e47ef2fb384781af3a277b1a9e1203",
            "1187b82fdff54dcabc0f20cddd5956f1",
            "d33c5b0e1a5c4159999a4e373d1ec788",
            "454b47a7a8f9451da079d175f55ec118",
            "5b9760628cef4942addb2e8cca4eea47",
            "bf2f6a34e297458aa7a6e2701f4db1d2",
            "ae024f03a7514c038e19649e081cee8f",
            "0411c97983ff450c856380288c8900c4",
            "3d09d5c1d72c4cabade6e806ebf2d98c",
            "4ce5cf4dbbe642be8f871c8f6e8e6a2a",
            "5e5450e4a3204946b4462058aeae531d",
            "98729fd9263b40118c5a797eb547cfd6",
            "987f905a0323421f9d5223e97e40eb75",
            "933f96a73c2a4d66925922e5ff9b40e3",
            "3927ed278d734c81995b65ea0aad768a",
            "72899394196c46318d465dc22e6a7c84",
            "e0710c6b8e954e3183f0fe6a7ecb0d80",
            "0b214e8776c049f5ad1b1fbf8496840b",
            "e3e6087b6de44a6abfcdff85f8f05458",
            "21b95835e4f1498e8c3663fc89c65ed0",
            "7e3114f74ed54d529b6f2ae664a52c36",
            "ad77e84d36274f4fb768ad4106531a28",
            "0004ff3e24984795b1fbb5027d4fdf1c",
            "39fbe9ff8b8f4b70afe7f1138ca4419f",
            "0936b36e4ba745e1addcc35a5dcfa3e4",
            "80ad6e9cf7e348cea4020fffba01c073",
            "30dfb30024644b568da1a5eee3427246",
            "4cad3e6b80ec4a428d1e696cb8f917df",
            "333e2a0a31fb4762aae75e6b3b645761",
            "588e301bde334ba48110be0120300144",
            "d31af74b67c14b6da632edb42e322d24",
            "f479c723bd7c4518aa41c3225bcd5fec",
            "47b38c869cb34b078e18aa8799a9a30e",
            "cc91f93f7c004559aaf5e1c12c34234d",
            "1085acb8d6b448efb191bca86be2f05f",
            "657de7ec5c9348c3b51dea1573ebc560",
            "3cba9388b23f4d8a866a7b1076e795a3",
            "c51de8f17ed1495fa1467391a49b8678",
            "4768f4cabdda4f30824b6df3c7b7dc3a",
            "27b66aac4179479780f849291c642b69",
            "60ae9c96c199438dad4c59e64451da82",
            "51ae99071ca34f5d8b3588dcbeb06797",
            "e9e4f95721f84d7c9ff7431b290e5a6e",
            "7c7b1a13737e4a9f8bc4eccd8d9c4421",
            "a44dbcafb5f14ed3b843ec8e484d5cef",
            "8538cc7786774fd5a956c9711491f5d5",
            "e70655aeae354ac19f5ed516c169249a",
            "4fa2f1c08850440e83dcd6a9e889c31b",
            "a41da842386a4afeadc7bf2f1e5dfb19",
            "892bc3a17a71450c9b5f33bd1acc6d93",
            "8a7f15ea825246e381e47634f481c5a2",
            "21120b8ea25e4c1da15fb3c8088bfab1",
            "df2ed50aec44444c8385b6e4dfa0c113",
            "8c797e054c1c476db3b416e3d70e1bf7",
            "8212f69c5d68493d9cd7dd56fbab2089",
            "e690d6e6f891487f9d0203e6a9be6ca6",
            "c2bebc56541f42a99c87a318295cc9bb",
            "87101a0100f441b88c8b296c61a01835",
            "f306ae0257e043228f86393aafb98547",
            "dab8c856de164d70a3624e8fa3f6d4bf",
            "f307279b6b894ca39805f95bebfa0438",
            "c5998fe056c94ba79adff1cad86c74a5",
            "aa408f46e8fb4d0b80e97cae840c7860",
            "536066dbb97f43d4ad5e0e6136a25abf",
            "3aaef980b13d4176883a78d10c7075b4"
          ]
        },
        "id": "x3IAxdwwffuB",
        "outputId": "c60f4740-3bec-4d6f-921d-3d0239090bfc"
      },
      "execution_count": 16,
      "outputs": [
        {
          "output_type": "stream",
          "name": "stdout",
          "text": [
            "Downloading and preparing dataset 80.23 MiB (download: 80.23 MiB, generated: Unknown size, total: 80.23 MiB) to /root/tensorflow_datasets/imdb_reviews/plain_text/1.0.0...\n"
          ]
        },
        {
          "output_type": "display_data",
          "data": {
            "text/plain": [
              "Dl Completed...: 0 url [00:00, ? url/s]"
            ],
            "application/vnd.jupyter.widget-view+json": {
              "version_major": 2,
              "version_minor": 0,
              "model_id": "169d3f1ba6424a849fd0b2aa2b7bde16"
            }
          },
          "metadata": {}
        },
        {
          "output_type": "display_data",
          "data": {
            "text/plain": [
              "Dl Size...: 0 MiB [00:00, ? MiB/s]"
            ],
            "application/vnd.jupyter.widget-view+json": {
              "version_major": 2,
              "version_minor": 0,
              "model_id": "c1617be297e44b20ad05c9366087d85a"
            }
          },
          "metadata": {}
        },
        {
          "output_type": "display_data",
          "data": {
            "text/plain": [
              "Generating splits...:   0%|          | 0/3 [00:00<?, ? splits/s]"
            ],
            "application/vnd.jupyter.widget-view+json": {
              "version_major": 2,
              "version_minor": 0,
              "model_id": "bf55fa14d7b44fa99217c2ba8e68eb7b"
            }
          },
          "metadata": {}
        },
        {
          "output_type": "display_data",
          "data": {
            "text/plain": [
              "Generating train examples...:   0%|          | 0/25000 [00:00<?, ? examples/s]"
            ],
            "application/vnd.jupyter.widget-view+json": {
              "version_major": 2,
              "version_minor": 0,
              "model_id": "4d79ef2471254ccb87ff62956130e246"
            }
          },
          "metadata": {}
        },
        {
          "output_type": "display_data",
          "data": {
            "text/plain": [
              "Shuffling /root/tensorflow_datasets/imdb_reviews/plain_text/1.0.0.incomplete2CFO7V/imdb_reviews-train.tfrecord…"
            ],
            "application/vnd.jupyter.widget-view+json": {
              "version_major": 2,
              "version_minor": 0,
              "model_id": "5e5450e4a3204946b4462058aeae531d"
            }
          },
          "metadata": {}
        },
        {
          "output_type": "display_data",
          "data": {
            "text/plain": [
              "Generating test examples...:   0%|          | 0/25000 [00:00<?, ? examples/s]"
            ],
            "application/vnd.jupyter.widget-view+json": {
              "version_major": 2,
              "version_minor": 0,
              "model_id": "ad77e84d36274f4fb768ad4106531a28"
            }
          },
          "metadata": {}
        },
        {
          "output_type": "display_data",
          "data": {
            "text/plain": [
              "Shuffling /root/tensorflow_datasets/imdb_reviews/plain_text/1.0.0.incomplete2CFO7V/imdb_reviews-test.tfrecord*…"
            ],
            "application/vnd.jupyter.widget-view+json": {
              "version_major": 2,
              "version_minor": 0,
              "model_id": "47b38c869cb34b078e18aa8799a9a30e"
            }
          },
          "metadata": {}
        },
        {
          "output_type": "display_data",
          "data": {
            "text/plain": [
              "Generating unsupervised examples...:   0%|          | 0/50000 [00:00<?, ? examples/s]"
            ],
            "application/vnd.jupyter.widget-view+json": {
              "version_major": 2,
              "version_minor": 0,
              "model_id": "7c7b1a13737e4a9f8bc4eccd8d9c4421"
            }
          },
          "metadata": {}
        },
        {
          "output_type": "display_data",
          "data": {
            "text/plain": [
              "Shuffling /root/tensorflow_datasets/imdb_reviews/plain_text/1.0.0.incomplete2CFO7V/imdb_reviews-unsupervised.t…"
            ],
            "application/vnd.jupyter.widget-view+json": {
              "version_major": 2,
              "version_minor": 0,
              "model_id": "8212f69c5d68493d9cd7dd56fbab2089"
            }
          },
          "metadata": {}
        },
        {
          "output_type": "stream",
          "name": "stdout",
          "text": [
            "Dataset imdb_reviews downloaded and prepared to /root/tensorflow_datasets/imdb_reviews/plain_text/1.0.0. Subsequent calls will reuse this data.\n"
          ]
        }
      ]
    },
    {
      "cell_type": "markdown",
      "source": [
        "train and test load"
      ],
      "metadata": {
        "id": "ROudRkyrWdOA"
      }
    },
    {
      "cell_type": "code",
      "source": [
        "train_examples, train_labels = next(iter(train_data.batch(20000)))\n",
        "test_examples, test_labels = next(iter(test_data.batch(5000)))"
      ],
      "metadata": {
        "id": "tq8P4NxhWdYG"
      },
      "execution_count": 17,
      "outputs": []
    },
    {
      "cell_type": "code",
      "source": [
        "train_examples[:4]"
      ],
      "metadata": {
        "colab": {
          "base_uri": "https://localhost:8080/"
        },
        "id": "lenww3C6Xm4s",
        "outputId": "e1082455-aa6d-4271-96fc-0947792b814d"
      },
      "execution_count": 18,
      "outputs": [
        {
          "output_type": "execute_result",
          "data": {
            "text/plain": [
              "<tf.Tensor: shape=(4,), dtype=string, numpy=\n",
              "array([b\"This was an absolutely terrible movie. Don't be lured in by Christopher Walken or Michael Ironside. Both are great actors, but this must simply be their worst role in history. Even their great acting could not redeem this movie's ridiculous storyline. This movie is an early nineties US propaganda piece. The most pathetic scenes were those when the Columbian rebels were making their cases for revolutions. Maria Conchita Alonso appeared phony, and her pseudo-love affair with Walken was nothing but a pathetic emotional plug in a movie that was devoid of any real meaning. I am disappointed that there are movies like this, ruining actor's like Christopher Walken's good name. I could barely sit through it.\",\n",
              "       b'I have been known to fall asleep during films, but this is usually due to a combination of things including, really tired, being warm and comfortable on the sette and having just eaten a lot. However on this occasion I fell asleep because the film was rubbish. The plot development was constant. Constantly slow and boring. Things seemed to happen, but with no explanation of what was causing them or why. I admit, I may have missed part of the film, but i watched the majority of it and everything just seemed to happen of its own accord without any real concern for anything else. I cant recommend this film at all.',\n",
              "       b'Mann photographs the Alberta Rocky Mountains in a superb fashion, and Jimmy Stewart and Walter Brennan give enjoyable performances as they always seem to do. <br /><br />But come on Hollywood - a Mountie telling the people of Dawson City, Yukon to elect themselves a marshal (yes a marshal!) and to enforce the law themselves, then gunfighters battling it out on the streets for control of the town? <br /><br />Nothing even remotely resembling that happened on the Canadian side of the border during the Klondike gold rush. Mr. Mann and company appear to have mistaken Dawson City for Deadwood, the Canadian North for the American Wild West.<br /><br />Canadian viewers be prepared for a Reefer Madness type of enjoyable howl with this ludicrous plot, or, to shake your head in disgust.',\n",
              "       b'This is the kind of film for a snowy Sunday afternoon when the rest of the world can go ahead with its own business as you descend into a big arm-chair and mellow for a couple of hours. Wonderful performances from Cher and Nicolas Cage (as always) gently row the plot along. There are no rapids to cross, no dangerous waters, just a warm and witty paddle through New York life at its best. A family film in every sense and one that deserves the praise it received.'],\n",
              "      dtype=object)>"
            ]
          },
          "metadata": {},
          "execution_count": 18
        }
      ]
    },
    {
      "cell_type": "code",
      "source": [
        "train_labels[:4]"
      ],
      "metadata": {
        "colab": {
          "base_uri": "https://localhost:8080/"
        },
        "id": "eLkmmB5sX1w2",
        "outputId": "9a5cea75-b842-465b-ad9f-df1e821e27fc"
      },
      "execution_count": 19,
      "outputs": [
        {
          "output_type": "execute_result",
          "data": {
            "text/plain": [
              "<tf.Tensor: shape=(4,), dtype=int64, numpy=array([0, 0, 0, 1])>"
            ]
          },
          "metadata": {},
          "execution_count": 19
        }
      ]
    },
    {
      "cell_type": "markdown",
      "source": [
        "Next, we tokenize the data:"
      ],
      "metadata": {
        "id": "arbA54rPYC3z"
      }
    },
    {
      "cell_type": "code",
      "source": [
        "tokenizer = tf_text.WhitespaceTokenizer()\n",
        "train_tokens = tokenizer.tokenize(train_examples)\n",
        "test_tokens = tokenizer.tokenize(test_examples)"
      ],
      "metadata": {
        "id": "8kWscKxHYDuS"
      },
      "execution_count": 20,
      "outputs": []
    },
    {
      "cell_type": "markdown",
      "source": [
        "Does this look right?"
      ],
      "metadata": {
        "id": "Pb_DglRAYesR"
      }
    },
    {
      "cell_type": "code",
      "source": [
        "train_tokens[0]"
      ],
      "metadata": {
        "colab": {
          "base_uri": "https://localhost:8080/"
        },
        "id": "NncOGd4fYfXN",
        "outputId": "edaf239a-4274-4179-caba-4d988641f2e8"
      },
      "execution_count": 21,
      "outputs": [
        {
          "output_type": "execute_result",
          "data": {
            "text/plain": [
              "<tf.Tensor: shape=(116,), dtype=string, numpy=\n",
              "array([b'This', b'was', b'an', b'absolutely', b'terrible', b'movie.',\n",
              "       b\"Don't\", b'be', b'lured', b'in', b'by', b'Christopher', b'Walken',\n",
              "       b'or', b'Michael', b'Ironside.', b'Both', b'are', b'great',\n",
              "       b'actors,', b'but', b'this', b'must', b'simply', b'be', b'their',\n",
              "       b'worst', b'role', b'in', b'history.', b'Even', b'their', b'great',\n",
              "       b'acting', b'could', b'not', b'redeem', b'this', b\"movie's\",\n",
              "       b'ridiculous', b'storyline.', b'This', b'movie', b'is', b'an',\n",
              "       b'early', b'nineties', b'US', b'propaganda', b'piece.', b'The',\n",
              "       b'most', b'pathetic', b'scenes', b'were', b'those', b'when',\n",
              "       b'the', b'Columbian', b'rebels', b'were', b'making', b'their',\n",
              "       b'cases', b'for', b'revolutions.', b'Maria', b'Conchita',\n",
              "       b'Alonso', b'appeared', b'phony,', b'and', b'her', b'pseudo-love',\n",
              "       b'affair', b'with', b'Walken', b'was', b'nothing', b'but', b'a',\n",
              "       b'pathetic', b'emotional', b'plug', b'in', b'a', b'movie', b'that',\n",
              "       b'was', b'devoid', b'of', b'any', b'real', b'meaning.', b'I',\n",
              "       b'am', b'disappointed', b'that', b'there', b'are', b'movies',\n",
              "       b'like', b'this,', b'ruining', b\"actor's\", b'like', b'Christopher',\n",
              "       b\"Walken's\", b'good', b'name.', b'I', b'could', b'barely', b'sit',\n",
              "       b'through', b'it.'], dtype=object)>"
            ]
          },
          "metadata": {},
          "execution_count": 21
        }
      ]
    },
    {
      "cell_type": "markdown",
      "source": [
        "### 2.2 Data Preparation\n",
        "\n",
        "For the models we will use, we need to define a maximum sequence length (max number of tokens per movie review that we'll feed into our model). We'll cut off any tokens longer than that, and we'll pad shorter movie reviews with zeros at the end."
      ],
      "metadata": {
        "id": "xj7FA25bapbQ"
      }
    },
    {
      "cell_type": "code",
      "source": [
        "MAX_SEQUENCE_LENGTH = 128"
      ],
      "metadata": {
        "id": "X64FlgmHaqxu"
      },
      "execution_count": 22,
      "outputs": []
    },
    {
      "cell_type": "markdown",
      "source": [
        "Next, we define a simple function that converts the tokens of each movie review into their word2vec vocabulary index values.   "
      ],
      "metadata": {
        "id": "jpz07IyLazG4"
      }
    },
    {
      "cell_type": "code",
      "source": [
        "def docs_to_vocab_ids(tokenized_texts_list):\n",
        "    \"\"\"\n",
        "    converting a list of strings to a list of lists of word ids\n",
        "    \"\"\"\n",
        "    texts_vocab_ids = []\n",
        "    for i, token_list in enumerate(tokenized_texts_list):\n",
        "\n",
        "        # Get the vocab id for each token in this doc ([UNK] if not in vocab)\n",
        "        vocab_ids = []\n",
        "        for token in list(token_list.numpy()):\n",
        "            decoded = token.decode('utf-8', errors='ignore')\n",
        "            if decoded in vocab_dict:\n",
        "                vocab_ids.append(vocab_dict[decoded])\n",
        "            else:\n",
        "                vocab_ids.append(vocab_dict['[UNK]'])\n",
        "\n",
        "        # Truncate text to max length, add padding up to max length\n",
        "        vocab_ids = vocab_ids[:MAX_SEQUENCE_LENGTH]\n",
        "        n_padding = (MAX_SEQUENCE_LENGTH - len(vocab_ids))\n",
        "        # For simplicity in this model, we'll just pad with uknown tokens\n",
        "        vocab_ids += [vocab_dict['[UNK]']] * n_padding\n",
        "\n",
        "        # Add this example to the list of converted docs\n",
        "        texts_vocab_ids.append(vocab_ids)\n",
        "\n",
        "        if i % 5000 == 0:\n",
        "            print('Examples processed: ', i)\n",
        "\n",
        "    print('Total examples: ', i)\n",
        "\n",
        "    return np.array(texts_vocab_ids)"
      ],
      "metadata": {
        "id": "0yGhfBF8a0C3"
      },
      "execution_count": 23,
      "outputs": []
    },
    {
      "cell_type": "markdown",
      "source": [
        "Now we can create training and test data that can be fed into the models of interest.\n",
        "\n"
      ],
      "metadata": {
        "id": "WfFCm8qSa6q5"
      }
    },
    {
      "cell_type": "code",
      "source": [
        "train_input = docs_to_vocab_ids(train_tokens)\n",
        "test_input = docs_to_vocab_ids(test_tokens)\n",
        "\n",
        "train_labels = np.array(train_labels)\n",
        "print(\"now test labels\")\n",
        "test_labels = np.array(test_labels)"
      ],
      "metadata": {
        "colab": {
          "base_uri": "https://localhost:8080/"
        },
        "id": "LBJOz_yma60A",
        "outputId": "947ca9cc-be04-4387-a221-d1fa2ff00c8d"
      },
      "execution_count": 24,
      "outputs": [
        {
          "output_type": "stream",
          "name": "stdout",
          "text": [
            "Examples processed:  0\n",
            "Examples processed:  5000\n",
            "Examples processed:  10000\n",
            "Examples processed:  15000\n",
            "Total examples:  19999\n",
            "Examples processed:  0\n",
            "Total examples:  4999\n",
            "now test labels\n"
          ]
        }
      ]
    },
    {
      "cell_type": "markdown",
      "source": [
        "Let's convince ourselves that the data looks correct.  We expect the train data to be an array of integer ids and the labels to be an array of zeroes and ones (since we are learning a binary classifier)."
      ],
      "metadata": {
        "id": "ecQbTaIUb5iw"
      }
    },
    {
      "cell_type": "code",
      "source": [
        "train_input[:2]"
      ],
      "metadata": {
        "colab": {
          "base_uri": "https://localhost:8080/"
        },
        "id": "EnlU2ahFb5sX",
        "outputId": "e4b4c5ed-60df-4b67-db96-e147cec6dff6"
      },
      "execution_count": 25,
      "outputs": [
        {
          "output_type": "execute_result",
          "data": {
            "text/plain": [
              "array([[21531, 25272, 12291,  7427, 37254, 43981,  6891, 12917, 38232,\n",
              "        16915, 12929, 16182, 43981, 20526, 23487, 43981, 23807, 42958,\n",
              "        35058, 43981, 19123, 35029, 41270, 29275, 12917, 32597, 20659,\n",
              "          638, 16915, 43981,   174, 32597, 35058, 39971,  2326,  3636,\n",
              "        22434, 35029, 43981, 33922, 43981, 21531, 34710, 16908, 12291,\n",
              "        36880, 28137,  5376, 28038, 43981, 15402, 29155, 18063, 24951,\n",
              "        17433, 17595,  8856, 14193, 43981, 43248, 17433,  6290, 32597,\n",
              "         9001, 11511, 43981, 21807, 39168, 43981, 16856, 43981, 43981,\n",
              "        23245, 43981,  8889,  1331, 43981, 25272, 31976, 19123, 43981,\n",
              "        18063, 36309, 24099, 16915, 43981, 34710, 36633, 25272, 20413,\n",
              "        43981, 33458, 14926, 43981, 12139, 12289, 39617, 36633,  9483,\n",
              "        42958,  5589,  8092, 43981, 34516, 43981,  8092, 16182, 43981,\n",
              "        39933, 43981, 12139,  2326, 32781, 32467,  7046, 43981, 43981,\n",
              "        43981, 43981, 43981, 43981, 43981, 43981, 43981, 43981, 43981,\n",
              "        43981, 43981],\n",
              "       [12139,  7841, 19666, 31757, 43981, 17853, 25745, 15445, 43981,\n",
              "        19123, 35029, 16908, 21113, 21068, 43981, 43981,  5668, 43981,\n",
              "        33456, 43981, 34554, 43981,  1200, 27498, 43981, 18802, 20514,\n",
              "        14193, 43981, 43981, 23955, 14042, 15400, 43981, 43981, 32334,\n",
              "        20514, 35029,  7870, 12139, 17108, 25745, 43830, 14193, 28743,\n",
              "        25272, 43981, 15402, 17006,   222, 25272, 43981, 43981, 33994,\n",
              "        43981, 43981, 42659, 12375, 43981, 43981, 19123,  1331, 19870,\n",
              "         7816, 43981, 31696, 25272, 23801, 13877, 20526, 43981, 12139,\n",
              "        43981, 12139, 37939,  7841, 24998, 29109, 43981, 14193, 43981,\n",
              "        19123, 16266,  8017, 14193, 43099, 43981, 16909, 43981, 30811,\n",
              "        14042, 12375, 43981, 25574, 43981, 34511, 21851, 14087,  9370,\n",
              "        33458, 14926, 14799, 11511, 12936, 43981, 12139,  5935, 16531,\n",
              "        35029, 28743, 40418, 43981, 43981, 43981, 43981, 43981, 43981,\n",
              "        43981, 43981, 43981, 43981, 43981, 43981, 43981, 43981, 43981,\n",
              "        43981, 43981]])"
            ]
          },
          "metadata": {},
          "execution_count": 25
        }
      ]
    },
    {
      "cell_type": "code",
      "source": [
        "train_labels[:2]"
      ],
      "metadata": {
        "colab": {
          "base_uri": "https://localhost:8080/"
        },
        "id": "9ocHrvAUcFzc",
        "outputId": "ee40ad38-ca38-4397-e187-d7929030e608"
      },
      "execution_count": 26,
      "outputs": [
        {
          "output_type": "execute_result",
          "data": {
            "text/plain": [
              "array([0, 0])"
            ]
          },
          "metadata": {},
          "execution_count": 26
        }
      ]
    },
    {
      "cell_type": "markdown",
      "source": [
        "[Return to Top](#returnToTop)  \n",
        "<a id = 'modeling'></a>\n",
        "## 3. Modeling\n",
        "\n",
        "<a id = 'averagingNetwork'></a>\n",
        "### 3.1 Averaging Network (AN) Model\n",
        "\n",
        "Let us start by defining the embedding layer, then we'll average the embeddings and pass them into our classification layer."
      ],
      "metadata": {
        "id": "cfTry7cjcEyk"
      }
    },
    {
      "cell_type": "code",
      "source": [
        "an_input_layer = tf.keras.layers.Input(shape=(MAX_SEQUENCE_LENGTH,), dtype='int64')"
      ],
      "metadata": {
        "id": "lHn5CbcjcFG4"
      },
      "execution_count": 27,
      "outputs": []
    },
    {
      "cell_type": "code",
      "source": [
        "an_embedding_layer = Embedding(embedding_matrix.shape[0],\n",
        "                               embedding_matrix.shape[1],\n",
        "                               embeddings_initializer=tf.keras.initializers.Constant(embedding_matrix),\n",
        "                               input_length=MAX_SEQUENCE_LENGTH,\n",
        "                               trainable=False)"
      ],
      "metadata": {
        "id": "IAECSXt_clOL"
      },
      "execution_count": 28,
      "outputs": []
    },
    {
      "cell_type": "code",
      "source": [
        "an_embeddings = an_embedding_layer(an_input_layer)"
      ],
      "metadata": {
        "id": "JWxRgH_zc7MQ"
      },
      "execution_count": 29,
      "outputs": []
    },
    {
      "cell_type": "code",
      "source": [
        "an_avg_embeddings = tf.keras.layers.Lambda(lambda x: K.mean(x, axis=1), name='averaging')(an_embeddings)"
      ],
      "metadata": {
        "id": "tOY95piec-Er"
      },
      "execution_count": 30,
      "outputs": []
    },
    {
      "cell_type": "markdown",
      "source": [
        "Finally lets define our output layer.\n",
        "\n"
      ],
      "metadata": {
        "id": "zUSQcKS2c4d5"
      }
    },
    {
      "cell_type": "code",
      "source": [
        "an_classification = tf.keras.layers.Dense(1,\n",
        "                                          activation='sigmoid',\n",
        "                                          name='an_classification')(an_avg_embeddings)"
      ],
      "metadata": {
        "id": "u-wz-5tIdDSR"
      },
      "execution_count": 31,
      "outputs": []
    },
    {
      "cell_type": "code",
      "source": [
        "an_model = tf.keras.models.Model(inputs=an_input_layer, outputs=[an_classification])"
      ],
      "metadata": {
        "id": "fh_hm6aNdT-9"
      },
      "execution_count": 32,
      "outputs": []
    },
    {
      "cell_type": "code",
      "source": [
        "an_model.compile(loss='binary_crossentropy',\n",
        "                 optimizer=tf.keras.optimizers.Adam(learning_rate=0.001,\n",
        "                                                    beta_1=0.9,\n",
        "                                                    beta_2=0.999,\n",
        "                                                    epsilon=1e-07,\n",
        "                                                    amsgrad=False,\n",
        "                                                    name='Adam'),\n",
        "                 metrics='accuracy')"
      ],
      "metadata": {
        "id": "vhhqVk40dXRy"
      },
      "execution_count": 33,
      "outputs": []
    },
    {
      "cell_type": "code",
      "source": [
        "an_model.summary()"
      ],
      "metadata": {
        "colab": {
          "base_uri": "https://localhost:8080/"
        },
        "id": "9BVhbN0NdaxY",
        "outputId": "a3e5ccf9-5da3-47fb-fcc9-bfa7e02a2187"
      },
      "execution_count": 34,
      "outputs": [
        {
          "output_type": "stream",
          "name": "stdout",
          "text": [
            "Model: \"model\"\n",
            "_________________________________________________________________\n",
            " Layer (type)                Output Shape              Param #   \n",
            "=================================================================\n",
            " input_1 (InputLayer)        [(None, 128)]             0         \n",
            "                                                                 \n",
            " embedding (Embedding)       (None, 128, 300)          13194600  \n",
            "                                                                 \n",
            " averaging (Lambda)          (None, 300)               0         \n",
            "                                                                 \n",
            " an_classification (Dense)   (None, 1)                 301       \n",
            "                                                                 \n",
            "=================================================================\n",
            "Total params: 13194901 (50.33 MB)\n",
            "Trainable params: 301 (1.18 KB)\n",
            "Non-trainable params: 13194600 (50.33 MB)\n",
            "_________________________________________________________________\n"
          ]
        }
      ]
    },
    {
      "cell_type": "code",
      "source": [
        "keras.utils.plot_model(an_model, show_shapes=True, dpi=90)"
      ],
      "metadata": {
        "colab": {
          "base_uri": "https://localhost:8080/",
          "height": 397
        },
        "id": "xBsGAJ9nd7Ve",
        "outputId": "48553c6a-35b1-4f11-c138-6f06cf09f81f"
      },
      "execution_count": 35,
      "outputs": [
        {
          "output_type": "execute_result",
          "data": {
            "image/png": "[encoded data removed]",
            "text/plain": [
              "<IPython.core.display.Image object>"
            ]
          },
          "metadata": {},
          "execution_count": 35
        }
      ]
    },
    {
      "cell_type": "markdown",
      "source": [
        "Let's look at the predictions and labels before training. Do those make sense?"
      ],
      "metadata": {
        "id": "LMny2TQgevfA"
      }
    },
    {
      "cell_type": "code",
      "source": [
        "print('predictions:\\n', an_model.predict(train_input[:5]))\n",
        "print('\\n\\nlabels:\\n', train_labels[:5])"
      ],
      "metadata": {
        "colab": {
          "base_uri": "https://localhost:8080/"
        },
        "id": "-mJqj9RNewbX",
        "outputId": "5fc35c91-72ea-4266-f03b-7a199f0289fc"
      },
      "execution_count": 36,
      "outputs": [
        {
          "output_type": "stream",
          "name": "stdout",
          "text": [
            "1/1 [==============================] - 3s 3s/step\n",
            "predictions:\n",
            " [[0.4951862 ]\n",
            " [0.50321597]\n",
            " [0.49672922]\n",
            " [0.49782476]\n",
            " [0.49890384]]\n",
            "\n",
            "\n",
            "labels:\n",
            " [0 0 0 1 1]\n"
          ]
        }
      ]
    },
    {
      "cell_type": "markdown",
      "source": [
        "Let us train"
      ],
      "metadata": {
        "id": "ZQPCJcfme_0N"
      }
    },
    {
      "cell_type": "code",
      "source": [
        "an_history = an_model.fit(train_input,\n",
        "                          train_labels,\n",
        "                          validation_data=(test_input, test_labels),\n",
        "                          batch_size=32,\n",
        "                          epochs=20\n",
        "                          )"
      ],
      "metadata": {
        "colab": {
          "base_uri": "https://localhost:8080/"
        },
        "id": "kBwfTz-RfBSo",
        "outputId": "c9b344dc-f5a9-4384-a420-7e1001b3b040"
      },
      "execution_count": 37,
      "outputs": [
        {
          "output_type": "stream",
          "name": "stdout",
          "text": [
            "Epoch 1/20\n",
            "625/625 [==============================] - 4s 3ms/step - loss: 0.6882 - accuracy: 0.5649 - val_loss: 0.6841 - val_accuracy: 0.6378\n",
            "Epoch 2/20\n",
            "625/625 [==============================] - 2s 3ms/step - loss: 0.6781 - accuracy: 0.6495 - val_loss: 0.6757 - val_accuracy: 0.6470\n",
            "Epoch 3/20\n",
            "625/625 [==============================] - 2s 3ms/step - loss: 0.6693 - accuracy: 0.6611 - val_loss: 0.6685 - val_accuracy: 0.6528\n",
            "Epoch 4/20\n",
            "625/625 [==============================] - 2s 3ms/step - loss: 0.6615 - accuracy: 0.6669 - val_loss: 0.6618 - val_accuracy: 0.6612\n",
            "Epoch 5/20\n",
            "625/625 [==============================] - 3s 4ms/step - loss: 0.6545 - accuracy: 0.6708 - val_loss: 0.6560 - val_accuracy: 0.6584\n",
            "Epoch 6/20\n",
            "625/625 [==============================] - 2s 3ms/step - loss: 0.6482 - accuracy: 0.6769 - val_loss: 0.6504 - val_accuracy: 0.6656\n",
            "Epoch 7/20\n",
            "625/625 [==============================] - 2s 3ms/step - loss: 0.6423 - accuracy: 0.6841 - val_loss: 0.6452 - val_accuracy: 0.6686\n",
            "Epoch 8/20\n",
            "625/625 [==============================] - 2s 3ms/step - loss: 0.6368 - accuracy: 0.6859 - val_loss: 0.6410 - val_accuracy: 0.6742\n",
            "Epoch 9/20\n",
            "625/625 [==============================] - 2s 3ms/step - loss: 0.6318 - accuracy: 0.6916 - val_loss: 0.6359 - val_accuracy: 0.6764\n",
            "Epoch 10/20\n",
            "625/625 [==============================] - 2s 3ms/step - loss: 0.6270 - accuracy: 0.6974 - val_loss: 0.6317 - val_accuracy: 0.6812\n",
            "Epoch 11/20\n",
            "625/625 [==============================] - 3s 4ms/step - loss: 0.6224 - accuracy: 0.6976 - val_loss: 0.6275 - val_accuracy: 0.6866\n",
            "Epoch 12/20\n",
            "625/625 [==============================] - 2s 3ms/step - loss: 0.6181 - accuracy: 0.7028 - val_loss: 0.6234 - val_accuracy: 0.6886\n",
            "Epoch 13/20\n",
            "625/625 [==============================] - 2s 3ms/step - loss: 0.6139 - accuracy: 0.7075 - val_loss: 0.6200 - val_accuracy: 0.6944\n",
            "Epoch 14/20\n",
            "625/625 [==============================] - 2s 3ms/step - loss: 0.6100 - accuracy: 0.7089 - val_loss: 0.6162 - val_accuracy: 0.6964\n",
            "Epoch 15/20\n",
            "625/625 [==============================] - 2s 3ms/step - loss: 0.6061 - accuracy: 0.7121 - val_loss: 0.6125 - val_accuracy: 0.6966\n",
            "Epoch 16/20\n",
            "625/625 [==============================] - 2s 3ms/step - loss: 0.6026 - accuracy: 0.7150 - val_loss: 0.6095 - val_accuracy: 0.7036\n",
            "Epoch 17/20\n",
            "625/625 [==============================] - 2s 3ms/step - loss: 0.5990 - accuracy: 0.7169 - val_loss: 0.6060 - val_accuracy: 0.7032\n",
            "Epoch 18/20\n",
            "625/625 [==============================] - 3s 4ms/step - loss: 0.5957 - accuracy: 0.7206 - val_loss: 0.6030 - val_accuracy: 0.7056\n",
            "Epoch 19/20\n",
            "625/625 [==============================] - 2s 3ms/step - loss: 0.5924 - accuracy: 0.7225 - val_loss: 0.6002 - val_accuracy: 0.7096\n",
            "Epoch 20/20\n",
            "625/625 [==============================] - 2s 3ms/step - loss: 0.5893 - accuracy: 0.7247 - val_loss: 0.5971 - val_accuracy: 0.7120\n"
          ]
        }
      ]
    },
    {
      "cell_type": "markdown",
      "source": [
        "Let us revisit the prediction after training? How does it look now, heh?"
      ],
      "metadata": {
        "id": "HQK4GTQefIDD"
      }
    },
    {
      "cell_type": "code",
      "source": [
        "print('predictions:\\n', an_model.predict(train_input[:5]))\n",
        "print('\\n\\nlabels:\\n', train_labels[:5])"
      ],
      "metadata": {
        "colab": {
          "base_uri": "https://localhost:8080/"
        },
        "id": "6TU8NocXfI9s",
        "outputId": "d75ccabb-3ff3-4f5e-f4d2-abf6faed6192"
      },
      "execution_count": 38,
      "outputs": [
        {
          "output_type": "stream",
          "name": "stdout",
          "text": [
            "1/1 [==============================] - 0s 19ms/step\n",
            "predictions:\n",
            " [[0.32392794]\n",
            " [0.31456986]\n",
            " [0.59421504]\n",
            " [0.63124496]\n",
            " [0.528098  ]]\n",
            "\n",
            "\n",
            "labels:\n",
            " [0 0 0 1 1]\n"
          ]
        }
      ]
    },
    {
      "cell_type": "markdown",
      "source": [
        "That learned somewhat, can we do better?\n",
        "\n",
        "[Return to Top](#returnToTop)  \n",
        "<a id = 'modelDAN'></a>\n",
        "### 3.2. Deep Averaging Network (DAN)\n",
        "\n",
        "Now let's add some hidden layers after the averaging layer, to give our model more depth. The first and last layers are the same as above.\n",
        "\n",
        "We'll also put our model creation code into a function, with variables for the things we can change (in this case, the hidden layers). Then we can try different values later."
      ],
      "metadata": {
        "id": "Tmwr5-jefbmr"
      }
    },
    {
      "cell_type": "code",
      "source": [
        "def build_dan_model(hidden_layer_dims, dropout_rate, embeddings_trainable=False):\n",
        "    dan_input_layer = tf.keras.layers.Input(shape=(MAX_SEQUENCE_LENGTH,), dtype='int64')\n",
        "    dan_embedding_layer = Embedding(embedding_matrix.shape[0],\n",
        "                                    embedding_matrix.shape[1],\n",
        "                                    embeddings_initializer=tf.keras.initializers.Constant(embedding_matrix),\n",
        "                                    input_length=MAX_SEQUENCE_LENGTH,\n",
        "                                    trainable=embeddings_trainable)\n",
        "    dan_embeddings = dan_embedding_layer(dan_input_layer)\n",
        "    dan_avg_embeddings = tf.keras.layers.Lambda(lambda x: K.mean(x, axis=1),\n",
        "                                                name='averaging')(dan_embeddings)\n",
        "    last_hidden_output = dan_avg_embeddings\n",
        "\n",
        "    for i, h_dim in enumerate(hidden_layer_dims):\n",
        "        last_hidden_output = tf.keras.layers.Dense(h_dim, activation='relu',\n",
        "                                                   name='dan_hidden_%d' % i)(last_hidden_output)\n",
        "        last_hidden_output = tf.keras.layers.Dropout(dropout_rate)(last_hidden_output)\n",
        "\n",
        "    dan_classification = tf.keras.layers.Dense(1,\n",
        "                                               activation='sigmoid',\n",
        "                                               name='dan_classification')(last_hidden_output)\n",
        "\n",
        "    dan_model = tf.keras.models.Model(inputs=dan_input_layer, outputs=[dan_classification])\n",
        "    dan_model.compile(loss='binary_crossentropy',\n",
        "                      optimizer=tf.keras.optimizers.Adam(learning_rate=0.001,\n",
        "                                                         beta_1=0.9,\n",
        "                                                         beta_2=0.999,\n",
        "                                                         epsilon=1e-07,\n",
        "                                                         amsgrad=False,\n",
        "                                                         name='Adam'),\n",
        "                      metrics='accuracy')\n",
        "    return dan_model"
      ],
      "metadata": {
        "id": "8JIOdvJZfceW"
      },
      "execution_count": 39,
      "outputs": []
    },
    {
      "cell_type": "markdown",
      "source": [],
      "metadata": {
        "id": "ln_nh2rCfrVh"
      }
    },
    {
      "cell_type": "code",
      "source": [
        "# Now call our function to create a DAN model, and show the model diagram\n",
        "\n",
        "hidden_layer_sizes = [100, 50]\n",
        "dropout_rate = 0.5\n",
        "\n",
        "dan_model = build_dan_model(hidden_layer_sizes, dropout_rate)\n",
        "keras.utils.plot_model(dan_model, show_shapes=True, dpi=90)"
      ],
      "metadata": {
        "colab": {
          "base_uri": "https://localhost:8080/",
          "height": 812
        },
        "id": "qeAzJKTgfreW",
        "outputId": "5090a077-9bae-47f9-d508-8c89a2cfcef7"
      },
      "execution_count": 40,
      "outputs": [
        {
          "output_type": "execute_result",
          "data": {
            "image/png": "[encoded data removed]",
            "text/plain": [
              "<IPython.core.display.Image object>"
            ]
          },
          "metadata": {},
          "execution_count": 40
        }
      ]
    },
    {
      "cell_type": "code",
      "source": [
        "dan_history = dan_model.fit(train_input,\n",
        "                            train_labels,\n",
        "                            validation_data=(test_input, test_labels),\n",
        "                            batch_size=32,\n",
        "                            epochs=20\n",
        "                            )"
      ],
      "metadata": {
        "colab": {
          "base_uri": "https://localhost:8080/"
        },
        "id": "TOmyzeXMgDWb",
        "outputId": "4329d74a-de92-49bd-bb1f-6e3e9f024563"
      },
      "execution_count": 41,
      "outputs": [
        {
          "output_type": "stream",
          "name": "stdout",
          "text": [
            "Epoch 1/20\n",
            "625/625 [==============================] - 4s 4ms/step - loss: 0.6378 - accuracy: 0.6371 - val_loss: 0.5567 - val_accuracy: 0.7212\n",
            "Epoch 2/20\n",
            "625/625 [==============================] - 2s 3ms/step - loss: 0.5322 - accuracy: 0.7421 - val_loss: 0.5077 - val_accuracy: 0.7542\n",
            "Epoch 3/20\n",
            "625/625 [==============================] - 3s 4ms/step - loss: 0.5088 - accuracy: 0.7576 - val_loss: 0.5065 - val_accuracy: 0.7540\n",
            "Epoch 4/20\n",
            "625/625 [==============================] - 3s 4ms/step - loss: 0.4950 - accuracy: 0.7634 - val_loss: 0.4858 - val_accuracy: 0.7636\n",
            "Epoch 5/20\n",
            "625/625 [==============================] - 2s 4ms/step - loss: 0.4881 - accuracy: 0.7677 - val_loss: 0.4789 - val_accuracy: 0.7712\n",
            "Epoch 6/20\n",
            "625/625 [==============================] - 2s 3ms/step - loss: 0.4836 - accuracy: 0.7690 - val_loss: 0.4923 - val_accuracy: 0.7616\n",
            "Epoch 7/20\n",
            "625/625 [==============================] - 2s 4ms/step - loss: 0.4755 - accuracy: 0.7760 - val_loss: 0.4732 - val_accuracy: 0.7698\n",
            "Epoch 8/20\n",
            "625/625 [==============================] - 3s 5ms/step - loss: 0.4708 - accuracy: 0.7795 - val_loss: 0.4804 - val_accuracy: 0.7692\n",
            "Epoch 9/20\n",
            "625/625 [==============================] - 3s 5ms/step - loss: 0.4751 - accuracy: 0.7734 - val_loss: 0.4679 - val_accuracy: 0.7750\n",
            "Epoch 10/20\n",
            "625/625 [==============================] - 2s 4ms/step - loss: 0.4697 - accuracy: 0.7775 - val_loss: 0.4759 - val_accuracy: 0.7752\n",
            "Epoch 11/20\n",
            "625/625 [==============================] - 2s 4ms/step - loss: 0.4720 - accuracy: 0.7781 - val_loss: 0.4674 - val_accuracy: 0.7756\n",
            "Epoch 12/20\n",
            "625/625 [==============================] - 2s 4ms/step - loss: 0.4644 - accuracy: 0.7821 - val_loss: 0.4610 - val_accuracy: 0.7814\n",
            "Epoch 13/20\n",
            "625/625 [==============================] - 2s 3ms/step - loss: 0.4642 - accuracy: 0.7829 - val_loss: 0.4634 - val_accuracy: 0.7792\n",
            "Epoch 14/20\n",
            "625/625 [==============================] - 2s 3ms/step - loss: 0.4649 - accuracy: 0.7814 - val_loss: 0.4632 - val_accuracy: 0.7796\n",
            "Epoch 15/20\n",
            "625/625 [==============================] - 3s 5ms/step - loss: 0.4611 - accuracy: 0.7821 - val_loss: 0.4624 - val_accuracy: 0.7786\n",
            "Epoch 16/20\n",
            "625/625 [==============================] - 2s 3ms/step - loss: 0.4603 - accuracy: 0.7854 - val_loss: 0.4594 - val_accuracy: 0.7804\n",
            "Epoch 17/20\n",
            "625/625 [==============================] - 2s 3ms/step - loss: 0.4619 - accuracy: 0.7822 - val_loss: 0.4633 - val_accuracy: 0.7798\n",
            "Epoch 18/20\n",
            "625/625 [==============================] - 2s 3ms/step - loss: 0.4548 - accuracy: 0.7875 - val_loss: 0.4590 - val_accuracy: 0.7810\n",
            "Epoch 19/20\n",
            "625/625 [==============================] - 2s 3ms/step - loss: 0.4558 - accuracy: 0.7866 - val_loss: 0.4565 - val_accuracy: 0.7836\n",
            "Epoch 20/20\n",
            "625/625 [==============================] - 2s 4ms/step - loss: 0.4547 - accuracy: 0.7875 - val_loss: 0.4619 - val_accuracy: 0.7764\n"
          ]
        }
      ]
    },
    {
      "cell_type": "markdown",
      "source": [
        "Let us compare the two *models*"
      ],
      "metadata": {
        "id": "gpt7aW6QgI74"
      }
    },
    {
      "cell_type": "code",
      "source": [
        "fig, axs = plt.subplots(2, 2)\n",
        "fig.subplots_adjust(left=0.2, wspace=0.6)\n",
        "make_plot(axs,\n",
        "          an_history,\n",
        "          dan_history,\n",
        "          model_1_name='an',\n",
        "          model_2_name='dan')\n",
        "\n",
        "fig.align_ylabels(axs[:, 1])\n",
        "fig.set_size_inches(18.5, 10.5)\n",
        "plt.show()"
      ],
      "metadata": {
        "colab": {
          "base_uri": "https://localhost:8080/",
          "height": 891
        },
        "id": "vu_eu5FfgMU4",
        "outputId": "de351026-c573-4ea3-8aa4-7803e9b67aa3"
      },
      "execution_count": 42,
      "outputs": [
        {
          "output_type": "display_data",
          "data": {
            "text/plain": [
              "<Figure size 1850x1050 with 4 Axes>"
            ],
            "image/png": "[encoded data removed]"
          },
          "metadata": {}
        }
      ]
    },
    {
      "cell_type": "markdown",
      "source": [],
      "metadata": {
        "id": "PBoGhKqPgn3n"
      }
    },
    {
      "cell_type": "code",
      "source": [
        "print('predictions:\\n', dan_model.predict(train_input[:5]))\n",
        "print('\\n\\nlabels:\\n', train_labels[:5])"
      ],
      "metadata": {
        "colab": {
          "base_uri": "https://localhost:8080/"
        },
        "id": "6qusU8QggoAT",
        "outputId": "364e5809-b99e-4876-e61a-c322c162d47d"
      },
      "execution_count": 43,
      "outputs": [
        {
          "output_type": "stream",
          "name": "stdout",
          "text": [
            "1/1 [==============================] - 0s 81ms/step\n",
            "predictions:\n",
            " [[0.00458495]\n",
            " [0.21853893]\n",
            " [0.6062336 ]\n",
            " [0.8863974 ]\n",
            " [0.55013615]]\n",
            "\n",
            "\n",
            "labels:\n",
            " [0 0 0 1 1]\n"
          ]
        }
      ]
    },
    {
      "cell_type": "markdown",
      "source": [
        "[Return to Top](#returnToTop)  \n",
        "<a id = 'modelCNN'></a>\n",
        "### 3.3 CNN Model\n",
        "\n",
        "Next let's build a CNN model. We'll also wrap the model building code in a function that takes some hyperparameters, so that we can adjust things like number of filters and filter sizes later."
      ],
      "metadata": {
        "id": "JF6itqkWhBfv"
      }
    },
    {
      "cell_type": "code",
      "source": [
        "def build_cnn_model(num_filters, kernel_sizes, dense_layer_dims, dropout_rate, embeddings_trainable=False):\n",
        "    cnn_input_layer = tf.keras.layers.Input(shape=(MAX_SEQUENCE_LENGTH,), dtype='int64')\n",
        "    cnn_embedding_layer = Embedding(embedding_matrix.shape[0],\n",
        "                                    embedding_matrix.shape[1],\n",
        "                                    embeddings_initializer=tf.keras.initializers.Constant(embedding_matrix),\n",
        "                                    input_length=MAX_SEQUENCE_LENGTH,\n",
        "                                    trainable=embeddings_trainable)\n",
        "    cnn_embeddings = cnn_embedding_layer(cnn_input_layer)\n",
        "\n",
        "    conv_layers_for_all_kernel_sizes = []\n",
        "    for kernel_size, filters in zip(kernel_sizes, num_filters):\n",
        "        conv_layer = keras.layers.Conv1D(filters=filters, kernel_size=kernel_size, activation='relu')(cnn_embeddings)\n",
        "        conv_layer = keras.layers.GlobalMaxPooling1D()(conv_layer)\n",
        "        conv_layers_for_all_kernel_sizes.append(conv_layer)\n",
        "\n",
        "    conv_output = keras.layers.concatenate(conv_layers_for_all_kernel_sizes, axis=1)\n",
        "    last_hidden_output = keras.layers.Dropout(rate=dropout_rate)(conv_output)\n",
        "\n",
        "    for dense_layer_dim in dense_layer_dims:\n",
        "        last_hidden_output = keras.layers.Dense(dense_layer_dim, activation='relu')(last_hidden_output)\n",
        "\n",
        "    cnn_prediction = keras.layers.Dense(1, activation='sigmoid')(last_hidden_output)\n",
        "\n",
        "    cnn_model = keras.Model(inputs=cnn_input_layer, outputs=cnn_prediction)\n",
        "    cnn_model.compile(optimizer='adam',\n",
        "                      loss='binary_crossentropy',  # From information theory notebooks.\n",
        "                      metrics=['accuracy'])\n",
        "    return cnn_model"
      ],
      "metadata": {
        "id": "vztBJI5DhCOt"
      },
      "execution_count": 44,
      "outputs": []
    },
    {
      "cell_type": "code",
      "source": [
        "# Now specify model hyperparameters and call the function to create a CNN model\n",
        "\n",
        "num_filters = [100, 100, 50, 25]\n",
        "kernel_sizes = [3, 4, 5, 10]\n",
        "dense_layer_dims = [100, 50]\n",
        "dropout_rate = 0.5\n",
        "\n",
        "cnn_model = build_cnn_model(num_filters, kernel_sizes, dense_layer_dims, dropout_rate)"
      ],
      "metadata": {
        "id": "tdsStS3JhfZq"
      },
      "execution_count": 45,
      "outputs": []
    },
    {
      "cell_type": "code",
      "source": [
        "cnn_model.summary()"
      ],
      "metadata": {
        "colab": {
          "base_uri": "https://localhost:8080/"
        },
        "id": "VHjF-g0YhlFx",
        "outputId": "39daa3c2-c0a8-4e7c-edd5-446b4de6907c"
      },
      "execution_count": 46,
      "outputs": [
        {
          "output_type": "stream",
          "name": "stdout",
          "text": [
            "Model: \"model_2\"\n",
            "__________________________________________________________________________________________________\n",
            " Layer (type)                Output Shape                 Param #   Connected to                  \n",
            "==================================================================================================\n",
            " input_3 (InputLayer)        [(None, 128)]                0         []                            \n",
            "                                                                                                  \n",
            " embedding_2 (Embedding)     (None, 128, 300)             1319460   ['input_3[0][0]']             \n",
            "                                                          0                                       \n",
            "                                                                                                  \n",
            " conv1d (Conv1D)             (None, 126, 100)             90100     ['embedding_2[0][0]']         \n",
            "                                                                                                  \n",
            " conv1d_1 (Conv1D)           (None, 125, 100)             120100    ['embedding_2[0][0]']         \n",
            "                                                                                                  \n",
            " conv1d_2 (Conv1D)           (None, 124, 50)              75050     ['embedding_2[0][0]']         \n",
            "                                                                                                  \n",
            " conv1d_3 (Conv1D)           (None, 119, 25)              75025     ['embedding_2[0][0]']         \n",
            "                                                                                                  \n",
            " global_max_pooling1d (Glob  (None, 100)                  0         ['conv1d[0][0]']              \n",
            " alMaxPooling1D)                                                                                  \n",
            "                                                                                                  \n",
            " global_max_pooling1d_1 (Gl  (None, 100)                  0         ['conv1d_1[0][0]']            \n",
            " obalMaxPooling1D)                                                                                \n",
            "                                                                                                  \n",
            " global_max_pooling1d_2 (Gl  (None, 50)                   0         ['conv1d_2[0][0]']            \n",
            " obalMaxPooling1D)                                                                                \n",
            "                                                                                                  \n",
            " global_max_pooling1d_3 (Gl  (None, 25)                   0         ['conv1d_3[0][0]']            \n",
            " obalMaxPooling1D)                                                                                \n",
            "                                                                                                  \n",
            " concatenate (Concatenate)   (None, 275)                  0         ['global_max_pooling1d[0][0]',\n",
            "                                                                     'global_max_pooling1d_1[0][0]\n",
            "                                                                    ',                            \n",
            "                                                                     'global_max_pooling1d_2[0][0]\n",
            "                                                                    ',                            \n",
            "                                                                     'global_max_pooling1d_3[0][0]\n",
            "                                                                    ']                            \n",
            "                                                                                                  \n",
            " dropout_2 (Dropout)         (None, 275)                  0         ['concatenate[0][0]']         \n",
            "                                                                                                  \n",
            " dense (Dense)               (None, 100)                  27600     ['dropout_2[0][0]']           \n",
            "                                                                                                  \n",
            " dense_1 (Dense)             (None, 50)                   5050      ['dense[0][0]']               \n",
            "                                                                                                  \n",
            " dense_2 (Dense)             (None, 1)                    51        ['dense_1[0][0]']             \n",
            "                                                                                                  \n",
            "==================================================================================================\n",
            "Total params: 13587576 (51.83 MB)\n",
            "Trainable params: 392976 (1.50 MB)\n",
            "Non-trainable params: 13194600 (50.33 MB)\n",
            "__________________________________________________________________________________________________\n"
          ]
        }
      ]
    },
    {
      "cell_type": "markdown",
      "source": [
        "KERAS utility prints it better"
      ],
      "metadata": {
        "id": "9KROQlWjhsB0"
      }
    },
    {
      "cell_type": "code",
      "source": [
        "keras.utils.plot_model(cnn_model, show_shapes=True, dpi=90)"
      ],
      "metadata": {
        "colab": {
          "base_uri": "https://localhost:8080/",
          "height": 784
        },
        "id": "OvQtcAEUhsRr",
        "outputId": "78a54e60-4a66-469e-81ec-7cd50a687869"
      },
      "execution_count": 47,
      "outputs": [
        {
          "output_type": "execute_result",
          "data": {
            "image/png": "[encoded data removed]",
            "text/plain": [
              "<IPython.core.display.Image object>"
            ]
          },
          "metadata": {},
          "execution_count": 47
        }
      ]
    },
    {
      "cell_type": "markdown",
      "source": [
        "train CNN model"
      ],
      "metadata": {
        "id": "_q3BPadch0JM"
      }
    },
    {
      "cell_type": "code",
      "source": [
        "cnn_history = cnn_model.fit(train_input,\n",
        "                            train_labels,\n",
        "                            validation_data=(test_input, test_labels),\n",
        "                            batch_size=32,\n",
        "                            epochs=5\n",
        "                            )"
      ],
      "metadata": {
        "colab": {
          "base_uri": "https://localhost:8080/"
        },
        "id": "2FsIMe5lh0Y7",
        "outputId": "168b2a14-7347-4eb1-fa50-3f021385d57e"
      },
      "execution_count": 48,
      "outputs": [
        {
          "output_type": "stream",
          "name": "stdout",
          "text": [
            "Epoch 1/5\n",
            "625/625 [==============================] - 14s 8ms/step - loss: 0.5422 - accuracy: 0.7069 - val_loss: 0.4497 - val_accuracy: 0.7836\n",
            "Epoch 2/5\n",
            "625/625 [==============================] - 4s 6ms/step - loss: 0.4221 - accuracy: 0.8076 - val_loss: 0.4070 - val_accuracy: 0.8152\n",
            "Epoch 3/5\n",
            "625/625 [==============================] - 4s 6ms/step - loss: 0.3682 - accuracy: 0.8368 - val_loss: 0.3959 - val_accuracy: 0.8184\n",
            "Epoch 4/5\n",
            "625/625 [==============================] - 4s 7ms/step - loss: 0.3231 - accuracy: 0.8612 - val_loss: 0.4093 - val_accuracy: 0.8166\n",
            "Epoch 5/5\n",
            "625/625 [==============================] - 4s 7ms/step - loss: 0.2773 - accuracy: 0.8829 - val_loss: 0.4120 - val_accuracy: 0.8142\n"
          ]
        }
      ]
    },
    {
      "cell_type": "markdown",
      "source": [
        "Compare DAN and CNN model"
      ],
      "metadata": {
        "id": "Dxa2BZtPh4bW"
      }
    },
    {
      "cell_type": "code",
      "source": [
        "fig, axs = plt.subplots(2, 2)\n",
        "fig.subplots_adjust(left=0.2, wspace=0.6)\n",
        "make_plot(axs,\n",
        "          dan_history,\n",
        "          cnn_history,\n",
        "          model_1_name='dan',\n",
        "          model_2_name='cnn')\n",
        "\n",
        "fig.align_ylabels(axs[:, 1])\n",
        "fig.set_size_inches(18.5, 10.5)\n",
        "plt.show()"
      ],
      "metadata": {
        "colab": {
          "base_uri": "https://localhost:8080/",
          "height": 891
        },
        "id": "8F4SGkWIh4ki",
        "outputId": "7af86958-77dd-44ef-adb7-36ed3e89b0cd"
      },
      "execution_count": 49,
      "outputs": [
        {
          "output_type": "display_data",
          "data": {
            "text/plain": [
              "<Figure size 1850x1050 with 4 Axes>"
            ],
            "image/png": "[encoded data removed]"
          },
          "metadata": {}
        }
      ]
    },
    {
      "cell_type": "markdown",
      "source": [],
      "metadata": {
        "id": "3yywD6tFlXpk"
      }
    },
    {
      "cell_type": "code",
      "source": [
        "print('predictions:\\n', cnn_model.predict(train_input[:5]))\n",
        "print('\\n\\nlabels:\\n', train_labels[:5])"
      ],
      "metadata": {
        "id": "6ptrfKN0lX5C",
        "outputId": "3735fe98-8cbf-40b7-ab90-21e8f40caa2a",
        "colab": {
          "base_uri": "https://localhost:8080/"
        }
      },
      "execution_count": 50,
      "outputs": [
        {
          "output_type": "stream",
          "name": "stdout",
          "text": [
            "1/1 [==============================] - 0s 235ms/step\n",
            "predictions:\n",
            " [[0.00096005]\n",
            " [0.0382301 ]\n",
            " [0.0965616 ]\n",
            " [0.95230323]\n",
            " [0.79806834]]\n",
            "\n",
            "\n",
            "labels:\n",
            " [0 0 0 1 1]\n"
          ]
        }
      ]
    },
    {
      "cell_type": "markdown",
      "source": [
        "[Return to Top](#returnToTop)  \n",
        "<a id = 'modelRNN'></a>\n",
        "### 3.4 Recurrent Neural Network (RNN)\n",
        "\n",
        "We now will now look at RNNs. We will first use a simple example to look at the structure of the model, and then use it also for classification of the same dataset that we used above.\n",
        "\n",
        "#### 3.4.1. Basic Tests\n",
        "\n",
        "Here is a very simple LSTM model with Keras.  For more details on much more complex uses of RNNs, see [this Keras guide](https://keras.io/guides/working_with_rnns/)."
      ],
      "metadata": {
        "id": "2POLiLLmPwjU"
      }
    },
    {
      "cell_type": "code",
      "source": [
        "def build_basic_rnn_model(max_length,\n",
        "                          rnn_dim,\n",
        "                          return_sequences,\n",
        "                          return_state):\n",
        "    \"\"\"\n",
        "    max_length:         maximum input length\n",
        "    rnn_dim:            dimension of the rnn\n",
        "    return_sequences:   should the entire sequence of output vectors for each time step be returned?\n",
        "    return_state:       should the final cell states get returned?\n",
        "    \"\"\"\n",
        "\n",
        "    # inputs - comprised of - for each example in mini-batch:\n",
        "    #             - (<max_length>) x_t, each of dim <rnn_dim>,\n",
        "    #.            - the initial 2 x 3d state (h and c)\n",
        "\n",
        "    in_x = tf.keras.layers.Input(shape=(max_length, rnn_dim), name=\"in_id\")\n",
        "    in_state_h = tf.keras.layers.Input(shape=(rnn_dim,), name=\"in_state_h\")\n",
        "    in_state_c = tf.keras.layers.Input(shape=(rnn_dim,), name=\"in_state_c\")\n",
        "\n",
        "    # define a very simple lstm layer, acting on the input\n",
        "\n",
        "    lstm_output = tf.keras.layers.LSTM(rnn_dim, return_sequences=return_sequences, return_state=return_state)\\\n",
        "            (in_x, initial_state=[in_state_h, in_state_c])\n",
        "\n",
        "    model = tf.keras.models.Model(inputs=[in_x, in_state_h, in_state_c], outputs=lstm_output)\n",
        "\n",
        "    return model"
      ],
      "metadata": {
        "id": "6uV5WUJMPwx7"
      },
      "execution_count": null,
      "outputs": []
    }
  ]
}