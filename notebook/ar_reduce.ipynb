{
 "cells": [
  {
   "cell_type": "code",
   "execution_count": 1,
   "id": "e856c66c-66a5-4f4f-a922-a704305b3a09",
   "metadata": {},
   "outputs": [],
   "source": [
    "import cv2\n",
    "import os\n",
    "import os.path as osp\n",
    "import matplotlib.pyplot as plt\n",
    "import numpy as np\n",
    "import pickle\n",
    "import pandas as pd"
   ]
  },
  {
   "cell_type": "code",
   "execution_count": 2,
   "id": "a7334c8c-6dfa-4841-a6e6-7aef06c02e01",
   "metadata": {},
   "outputs": [],
   "source": [
    "def get_frames(path, fps=None):\n",
    "    cap = cv2.VideoCapture(path)\n",
    "\n",
    "    time_increment = (\n",
    "        1/fps \n",
    "        if fps is not None \n",
    "        else None\n",
    "    )\n",
    "\n",
    "    res = []\n",
    "    success = 1\n",
    "    sec = 0\n",
    "    while success:\n",
    "        if time_increment is not None:\n",
    "            sec += time_increment\n",
    "            cap.set(cv2.CAP_PROP_POS_MSEC, 1000*sec)\n",
    "        success, image = cap.read()\n",
    "        if success:\n",
    "            res.append(image)\n",
    "\n",
    "    return res\n",
    "\n",
    "\n",
    "def save_frames(\n",
    "    frames, \n",
    "    dir, \n",
    "    prefix=\"frame\"\n",
    "):\n",
    "    for i, frame in enumerate(frames):\n",
    "        cv2.imwrite(str(osp.join(dir, f\"{prefix}_{i}.jpg\")), frame)\n",
    "\n",
    "\n",
    "def to_gray(frames):\n",
    "    res = [cv2.cvtColor(f, cv2.COLOR_BGR2GRAY) for f in frames]\n",
    "    return res\n",
    "\n",
    "\n",
    "def to_scale(frames, scale=0.5):\n",
    "    res = []\n",
    "    for f in frames:\n",
    "        width = int(f.shape[1] * scale)\n",
    "        height = int(f.shape[0] * scale)\n",
    "        dim = (width, height)\n",
    "        resized = cv2.resize(f, dim, interpolation=cv2.INTER_AREA)\n",
    "        res.append(resized)\n",
    "        \n",
    "    return res\n",
    "\n",
    "\n",
    "def read_pickle(dir):\n",
    "    with open(dir, 'rb') as handle:\n",
    "        b = pickle.load(handle)\n",
    "    return b\n",
    "\n",
    "\n",
    "def write_pickle(dir, data):\n",
    "    with open(dir, 'wb') as handle:\n",
    "        pickle.dump(data, handle, protocol=pickle.HIGHEST_PROTOCOL)\n",
    "        \n",
    "\n",
    "def to_pickle_name(file):\n",
    "    return file.split(\".\")[0] + \".pkl\"\n",
    "\n",
    "\n",
    "def flatten(frames):\n",
    "    return [f.flatten() for f in frames]"
   ]
  },
  {
   "cell_type": "code",
   "execution_count": 3,
   "id": "fd65b08b-b746-40ee-8c84-5195ca8e9d85",
   "metadata": {},
   "outputs": [],
   "source": [
    "def to_fps_gray_scale(\n",
    "    base_dir,\n",
    "    save_dir,\n",
    "    files,\n",
    "    fps,\n",
    "    scale,\n",
    "    overwrite=False,\n",
    "):\n",
    "    count = len(files)\n",
    "    prev_progress = 0\n",
    "    for i, file in enumerate(files):\n",
    "        save_file = osp.join(save_dir, to_pickle_name(file))\n",
    "        if osp.exists(save_file) and not overwrite:\n",
    "            continue\n",
    "        \n",
    "        path = osp.join(base_dir, file)\n",
    "        res = get_frames(path, fps)\n",
    "        gray = to_gray(res)\n",
    "        resized_gray = to_scale(gray, scale)\n",
    "        \n",
    "        write_pickle(save_file, resized_gray)\n",
    "        \n",
    "        cur_progress = int((i+1)*100/count)\n",
    "        if cur_progress >= prev_progress + 2:\n",
    "            print(f\"progress: {cur_progress}%\")\n",
    "            prev_progress = cur_progress\n",
    "        \n",
    "\n",
    "def get_files(dir, format=\"mp4\"):\n",
    "    res = []\n",
    "    for filename in os.listdir(dir):\n",
    "        if filename.split(\".\")[-1] == format:\n",
    "            res.append(filename)\n",
    "    return res\n",
    "\n",
    "\n",
    "def to_actions(f):\n",
    "    words = f.split(\"_\")\n",
    "    res = []\n",
    "    for w in words:\n",
    "        if w.startswith(\"y\") and w[1:].isnumeric():\n",
    "            break\n",
    "        res.append(w)\n",
    "    \n",
    "    return res\n",
    "\n",
    "\n",
    "def to_df(\n",
    "    pickle_dir,\n",
    "    pickle_files\n",
    "):\n",
    "    res = []\n",
    "    for f in pickle_files:\n",
    "        frames = read_pickle(osp.join(pickle_dir, f))\n",
    "        frames = flatten(frames)\n",
    "        actions = to_actions(f)\n",
    "        count = len(actions)\n",
    "        res.append((frames, actions, count))\n",
    "\n",
    "    df = pd.DataFrame(data=dict(zip([\"embedding\", \"label\", \"count\"], np.transpose(res))))\n",
    "    df.to_pickle(save_path)\n",
    "    \n",
    "    return df"
   ]
  },
  {
   "cell_type": "code",
   "execution_count": 4,
   "id": "b196d910-e668-4ceb-ac44-a7c5969b4b85",
   "metadata": {},
   "outputs": [],
   "source": [
    "base_dir = \"C:/Users/aphri/Documents/t0002/pycharm/data/action_dataset0003\"\n",
    "save_dir = \"C:/Users/aphri/Documents/t0002/pycharm/data/ar_fps10_gray_scale3/pickle\""
   ]
  },
  {
   "cell_type": "code",
   "execution_count": null,
   "id": "cc14bb79-3ec2-4ac5-bb76-7d3ff632ec49",
   "metadata": {},
   "outputs": [
    {
     "name": "stdout",
     "output_type": "stream",
     "text": [
      "progress: 2%\n",
      "progress: 4%\n",
      "progress: 6%\n",
      "progress: 8%\n",
      "progress: 10%\n",
      "progress: 12%\n",
      "progress: 14%\n",
      "progress: 16%\n",
      "progress: 18%\n",
      "progress: 20%\n",
      "progress: 22%\n",
      "progress: 24%\n",
      "progress: 26%\n",
      "progress: 28%\n",
      "progress: 30%\n",
      "progress: 32%\n",
      "progress: 34%\n",
      "progress: 36%\n",
      "progress: 38%\n",
      "progress: 40%\n",
      "progress: 42%\n",
      "progress: 44%\n",
      "progress: 46%\n",
      "progress: 48%\n",
      "progress: 50%\n"
     ]
    }
   ],
   "source": [
    "files = get_files(base_dir)\n",
    "    \n",
    "to_fps_gray_scale(\n",
    "    base_dir=base_dir,\n",
    "    save_dir=save_dir,\n",
    "    files=files,\n",
    "    fps=10,\n",
    "    scale=0.3,\n",
    ")"
   ]
  },
  {
   "cell_type": "code",
   "execution_count": null,
   "id": "c36da849-3f0d-4714-a9df-1dad7266d733",
   "metadata": {},
   "outputs": [],
   "source": [
    "save_path = \"C:/Users/aphri/Documents/t0002/pycharm/data/ar_fps10_gray_scale3/df.pkl\"\n",
    "pickle_files = get_files(save_dir, \"pkl\")\n",
    "\n",
    "df = to_df(\n",
    "    save_dir,\n",
    "    pickle_files\n",
    ")"
   ]
  },
  {
   "cell_type": "code",
   "execution_count": null,
   "id": "cf0893ff-12ba-4374-9c8d-de857d0015e5",
   "metadata": {},
   "outputs": [],
   "source": [
    "df.head()"
   ]
  },
  {
   "cell_type": "code",
   "execution_count": null,
   "id": "6d6b4609-e7e1-4e7f-b9d1-92411cdbd872",
   "metadata": {},
   "outputs": [],
   "source": [
    "df.tail()"
   ]
  },
  {
   "cell_type": "code",
   "execution_count": null,
   "id": "7c972c61-fde0-4a56-9a26-572076199e98",
   "metadata": {},
   "outputs": [],
   "source": [
    "df.to_pickle(save_path)"
   ]
  },
  {
   "cell_type": "code",
   "execution_count": null,
   "id": "5a81790c-34d4-4538-8340-3146b7f4be53",
   "metadata": {},
   "outputs": [],
   "source": [
    "df2 = pd.read_pickle(save_path)"
   ]
  },
  {
   "cell_type": "code",
   "execution_count": null,
   "id": "771ba7a5-f07b-4d97-b137-ea1eef7a5ab6",
   "metadata": {},
   "outputs": [],
   "source": [
    "df2.head()"
   ]
  },
  {
   "cell_type": "code",
   "execution_count": null,
   "id": "c4cec1dc-6113-4dd3-917f-f032b1db9262",
   "metadata": {},
   "outputs": [],
   "source": [
    "df2.tail()"
   ]
  },
  {
   "cell_type": "code",
   "execution_count": null,
   "id": "e1e0f491-6203-4758-b226-30c2d83c8023",
   "metadata": {},
   "outputs": [],
   "source": [
    "df2[\"embedding\"][0][0].shape"
   ]
  },
  {
   "cell_type": "code",
   "execution_count": null,
   "id": "9311a5a3-4079-4fba-9661-34c73114828a",
   "metadata": {},
   "outputs": [],
   "source": []
  }
 ],
 "metadata": {
  "kernelspec": {
   "display_name": "Python 3 (ipykernel)",
   "language": "python",
   "name": "python3"
  },
  "language_info": {
   "codemirror_mode": {
    "name": "ipython",
    "version": 3
   },
   "file_extension": ".py",
   "mimetype": "text/x-python",
   "name": "python",
   "nbconvert_exporter": "python",
   "pygments_lexer": "ipython3",
   "version": "3.9.1"
  }
 },
 "nbformat": 4,
 "nbformat_minor": 5
}
