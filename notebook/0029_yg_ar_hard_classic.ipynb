{
 "cells": [
  {
   "cell_type": "code",
   "execution_count": 42,
   "id": "5b21268a-5c59-4575-a591-afcd0fa11b51",
   "metadata": {},
   "outputs": [],
   "source": [
    "import pandas as pd\n",
    "from nebula.data.yg_ar.setup_data_image_hard import read_data\n",
    "from nebula.common import to_scale_one, write_pickle, read_pickle\n",
    "from sklearn import svm\n",
    "from sklearn.linear_model import LogisticRegression\n",
    "from sklearn.ensemble import GradientBoostingClassifier\n",
    "import os\n",
    "import os.path as osp\n",
    "import numpy as np"
   ]
  },
  {
   "cell_type": "code",
   "execution_count": 4,
   "id": "6d6aa2df-d80c-403c-b0a9-33557679ae7c",
   "metadata": {},
   "outputs": [],
   "source": [
    "def create_label_map(labels):\n",
    "    label_set = set()\n",
    "    for lt in labels:\n",
    "        label_set.add(lt)\n",
    "\n",
    "    label_map = {}\n",
    "    count = 0\n",
    "    for l in label_set:\n",
    "        label_map[l] = count\n",
    "        count += 1\n",
    "        \n",
    "    return label_map"
   ]
  },
  {
   "cell_type": "code",
   "execution_count": 15,
   "id": "88a61a52-7118-41fe-a695-77ff63c615a7",
   "metadata": {},
   "outputs": [],
   "source": [
    "df_path = \"C:/Users/aphri/Documents/t0002/pycharm/data/yg_ar/image_hard_df.pkl\"\n",
    "random_seed = 1\n",
    "df, train_df, test_df, valid_df = read_data(df_path, random_seed)"
   ]
  },
  {
   "cell_type": "code",
   "execution_count": 16,
   "id": "4fc61b87-7a63-4008-9d1e-9d7e6d488e39",
   "metadata": {},
   "outputs": [
    {
     "data": {
      "text/plain": [
       "1760"
      ]
     },
     "execution_count": 16,
     "metadata": {},
     "output_type": "execute_result"
    }
   ],
   "source": [
    "len(valid_df)"
   ]
  },
  {
   "cell_type": "code",
   "execution_count": 29,
   "id": "99b999c1-de4d-4244-9acc-7b791049f8e0",
   "metadata": {},
   "outputs": [],
   "source": [
    "label_map_a = create_label_map(df[\"label_a\"])\n",
    "label_map_at = create_label_map(df[\"label_at\"])"
   ]
  },
  {
   "cell_type": "code",
   "execution_count": 30,
   "id": "10b5333e-481d-4823-8d7c-a59d49837640",
   "metadata": {},
   "outputs": [
    {
     "data": {
      "text/plain": [
       "{'lord_of_the_dance': 0,\n",
       " 'warrior_II': 1,\n",
       " 'lotus': 2,\n",
       " 'chair': 3,\n",
       " 'upward_dog': 4,\n",
       " 'warrior_III': 5,\n",
       " 'thunderbolt': 6,\n",
       " 'childs': 7,\n",
       " 'triangle': 8,\n",
       " 'camel': 9}"
      ]
     },
     "execution_count": 30,
     "metadata": {},
     "output_type": "execute_result"
    }
   ],
   "source": [
    "label_map_a"
   ]
  },
  {
   "cell_type": "code",
   "execution_count": 31,
   "id": "fbc37c29-9b20-4b21-9303-91cc599be704",
   "metadata": {},
   "outputs": [
    {
     "data": {
      "text/plain": [
       "{'upward_dog_3': 0,\n",
       " 'lotus_2': 1,\n",
       " 'camel_2': 2,\n",
       " 'thunderbolt_1': 3,\n",
       " 'triangle_4': 4,\n",
       " 'thunderbolt_4': 5,\n",
       " 'chair_3': 6,\n",
       " 'triangle_1': 7,\n",
       " 'thunderbolt_3': 8,\n",
       " 'childs_2': 9,\n",
       " 'warrior_III_3': 10,\n",
       " 'lotus_4': 11,\n",
       " 'camel_4': 12,\n",
       " 'triangle_3': 13,\n",
       " 'warrior_II_2': 14,\n",
       " 'chair_4': 15,\n",
       " 'lord_of_the_dance_2': 16,\n",
       " 'warrior_II_1': 17,\n",
       " 'camel_3': 18,\n",
       " 'chair_1': 19,\n",
       " 'warrior_III_2': 20,\n",
       " 'warrior_III_4': 21,\n",
       " 'childs_1': 22,\n",
       " 'lord_of_the_dance_1': 23,\n",
       " 'childs_4': 24,\n",
       " 'chair_2': 25,\n",
       " 'triangle_2': 26,\n",
       " 'lotus_3': 27,\n",
       " 'lotus_1': 28,\n",
       " 'upward_dog_2': 29,\n",
       " 'thunderbolt_2': 30,\n",
       " 'upward_dog_1': 31,\n",
       " 'upward_dog_4': 32,\n",
       " 'childs_3': 33,\n",
       " 'camel_1': 34,\n",
       " 'lord_of_the_dance_3': 35,\n",
       " 'warrior_II_4': 36,\n",
       " 'warrior_III_1': 37,\n",
       " 'lord_of_the_dance_4': 38,\n",
       " 'warrior_II_3': 39}"
      ]
     },
     "execution_count": 31,
     "metadata": {},
     "output_type": "execute_result"
    }
   ],
   "source": [
    "label_map_at"
   ]
  },
  {
   "cell_type": "code",
   "execution_count": 32,
   "id": "bce63941-c9fc-4c11-9fbf-4947ee998238",
   "metadata": {},
   "outputs": [],
   "source": [
    "train_x = train_df[\"image\"].apply(lambda x: to_scale_one(x, scale=0.2).flatten()).to_list()"
   ]
  },
  {
   "cell_type": "code",
   "execution_count": 33,
   "id": "9fd5319f-95ee-4a1a-a056-c755af2930bd",
   "metadata": {},
   "outputs": [],
   "source": [
    "train_y_a = train_df[\"label_a\"].map(label_map_a).to_list()\n",
    "train_y_at = train_df[\"label_at\"].map(label_map_at).to_list()"
   ]
  },
  {
   "cell_type": "code",
   "execution_count": 34,
   "id": "f21f1acf-b2c2-4f1d-87f8-093f2da21874",
   "metadata": {},
   "outputs": [],
   "source": [
    "test_x = test_df[\"image\"].apply(lambda x: to_scale_one(x, scale=0.2).flatten()).to_list()"
   ]
  },
  {
   "cell_type": "code",
   "execution_count": 35,
   "id": "fefefe69-772d-4d2a-ae8f-88c4f158a291",
   "metadata": {},
   "outputs": [],
   "source": [
    "test_y_a = test_df[\"label_a\"].map(label_map_a).to_list()\n",
    "test_y_at = test_df[\"label_at\"].map(label_map_at).to_list()"
   ]
  },
  {
   "cell_type": "code",
   "execution_count": 36,
   "id": "6b2c2f26-4604-47b8-9ca8-403a0d7e69d8",
   "metadata": {},
   "outputs": [],
   "source": [
    "def train_svm(data_x, data_y):\n",
    "    clf = svm.SVC()\n",
    "    clf.fit(data_x, data_y)\n",
    "    return clf\n",
    "\n",
    "\n",
    "def train_logistic(data_x, data_y):\n",
    "    clf = LogisticRegression(random_state=0)\n",
    "    clf.fit(data_x, data_y)\n",
    "    return clf\n",
    "\n",
    "\n",
    "def train_gbt_n10_m1(data_x, data_y):\n",
    "    clf = GradientBoostingClassifier(\n",
    "        n_estimators=10,\n",
    "        learning_rate=1,\n",
    "        max_depth=1,\n",
    "        random_state=0\n",
    "    )\n",
    "    clf.fit(data_x, data_y)\n",
    "    return clf\n",
    "\n",
    "\n",
    "def evaluate(model, test_x, test_y):\n",
    "    res = model.predict(test_x)\n",
    "    correct = res == test_y\n",
    "    accuracy = correct.sum() / len(res)\n",
    "    return res, accuracy\n",
    "\n",
    "\n",
    "def load_or_train(train_x, train_y, test_x, test_y, train_func, label_map, path):\n",
    "    \n",
    "    if osp.exists(path):\n",
    "        return read_pickle(path)\n",
    "    \n",
    "    trained_model = train_func(train_x, train_y)\n",
    "    predictions, accuracy = evaluate(trained_model, test_x, test_y)\n",
    "    \n",
    "    df, df_incorrect, df_correct = format_results(predictions, test_y, label_map)\n",
    "    \n",
    "    write_pickle(path, (trained_model, predictions, accuracy, df, df_incorrect, df_correct, label_map)) \n",
    "    \n",
    "    return trained_model, predictions, accuracy, df, df_incorrect, df_correct, label_map\n",
    "\n",
    "\n",
    "def format_results(predictions, labels, label_map):\n",
    "    df = pd.DataFrame(\n",
    "        data={\n",
    "            \"prediction\": predictions,\n",
    "            \"label\": labels\n",
    "        }\n",
    "    )\n",
    "    df[\"check\"] = df[\"prediction\"] == df[\"label\"]\n",
    "\n",
    "    label_map_reverse = {v:k for k, v in label_map.items()}\n",
    "\n",
    "    df[\"prediction_name\"] = df.prediction.map(label_map_reverse)\n",
    "    df[\"label_name\"] = df.label.map(label_map_reverse)\n",
    "\n",
    "    df_incorrect = df[~df.check]\n",
    "    df_correct = df[df.check]\n",
    "\n",
    "    return df, df_incorrect, df_correct"
   ]
  },
  {
   "cell_type": "code",
   "execution_count": 43,
   "id": "9a42d41d-2ee1-4d85-90eb-1acc3756f7b3",
   "metadata": {},
   "outputs": [
    {
     "name": "stdout",
     "output_type": "stream",
     "text": [
      "0.14305555555555555\n",
      "   prediction  label  check prediction_name  label_name\n",
      "0           7      4  False          childs  upward_dog\n",
      "2           6      4  False     thunderbolt  upward_dog\n",
      "3           5      4  False     warrior_III  upward_dog\n",
      "4           7      4  False          childs  upward_dog\n",
      "5           6      4  False     thunderbolt  upward_dog\n"
     ]
    }
   ],
   "source": [
    "save_path = \"C:/Users/aphri/Documents/t0002/pycharm/data/yg_ar/classic_models_hard/gbt_a.pkl\"\n",
    "(\n",
    "    trained_gbt_a, \n",
    "    predictions_gbt_a, \n",
    "    accuracy_gbt_a, \n",
    "    df_gbt_a, \n",
    "    df_incorrect_gbt_a, \n",
    "    df_correct_gbt_a,\n",
    "    label_map_gbt_a\n",
    ")= load_or_train(\n",
    "    train_x, \n",
    "    train_y_a, \n",
    "    test_x, \n",
    "    test_y_a, \n",
    "    train_gbt_n10_m1, \n",
    "    label_map_a, \n",
    "    save_path\n",
    ")\n",
    "print(accuracy_gbt_a)\n",
    "print(df_incorrect_gbt_a.head())"
   ]
  },
  {
   "cell_type": "code",
   "execution_count": 44,
   "id": "c8b0ffa3-259e-4416-83b0-8858b8829ddf",
   "metadata": {},
   "outputs": [
    {
     "data": {
      "text/plain": [
       "51"
      ]
     },
     "execution_count": 44,
     "metadata": {},
     "output_type": "execute_result"
    }
   ],
   "source": [
    "trained_gbt_a.feature_importances_.argmax()"
   ]
  },
  {
   "cell_type": "code",
   "execution_count": 45,
   "id": "153283a7-7d48-4d24-9334-88ccfc20e36e",
   "metadata": {},
   "outputs": [
    {
     "data": {
      "text/plain": [
       "array([733, 644, 850, 570, 805, 597, 479, 749, 762,  51], dtype=int64)"
      ]
     },
     "execution_count": 45,
     "metadata": {},
     "output_type": "execute_result"
    }
   ],
   "source": [
    "np.argpartition(trained_gbt_a.feature_importances_, -10)[-10:]"
   ]
  },
  {
   "cell_type": "code",
   "execution_count": 46,
   "id": "8603de31-98c7-4e2f-86ae-c75779e47953",
   "metadata": {},
   "outputs": [
    {
     "data": {
      "text/plain": [
       "array([0.01987777, 0.0199064 , 0.02024128, 0.02312961, 0.02066384,\n",
       "       0.02147911, 0.02502272, 0.02827686, 0.03089271, 0.03573809])"
      ]
     },
     "execution_count": 46,
     "metadata": {},
     "output_type": "execute_result"
    }
   ],
   "source": [
    "trained_gbt_a.feature_importances_[np.argpartition(trained_gbt_a.feature_importances_, -10)[-10:],]"
   ]
  },
  {
   "cell_type": "code",
   "execution_count": 48,
   "id": "ef772774-57ea-4817-9bab-851d06ab1e40",
   "metadata": {},
   "outputs": [
    {
     "data": {
      "text/plain": [
       "count    961.000000\n",
       "mean       0.001041\n",
       "std        0.003803\n",
       "min        0.000000\n",
       "50%        0.000000\n",
       "90%        0.000000\n",
       "91%        0.000000\n",
       "92%        0.005919\n",
       "93%        0.007710\n",
       "94%        0.008206\n",
       "95%        0.008920\n",
       "96%        0.010007\n",
       "97%        0.010935\n",
       "98%        0.015920\n",
       "99%        0.019875\n",
       "99.8%      0.028486\n",
       "max        0.035738\n",
       "dtype: float64"
      ]
     },
     "execution_count": 48,
     "metadata": {},
     "output_type": "execute_result"
    }
   ],
   "source": [
    "pd.Series(trained_gbt_a.feature_importances_).describe(list(np.arange(0.9,1,0.01)) + [0.998] )"
   ]
  },
  {
   "cell_type": "code",
   "execution_count": 50,
   "id": "20f38dd9-b491-48bb-adff-bd7c0b59b7db",
   "metadata": {},
   "outputs": [
    {
     "name": "stdout",
     "output_type": "stream",
     "text": [
      "0.03194444444444444\n",
      "   prediction  label  check prediction_name    label_name\n",
      "0          28      0  False         lotus_1  upward_dog_3\n",
      "1          28      0  False         lotus_1  upward_dog_3\n",
      "2          28      0  False         lotus_1  upward_dog_3\n",
      "3          28      0  False         lotus_1  upward_dog_3\n",
      "4          28      0  False         lotus_1  upward_dog_3\n"
     ]
    }
   ],
   "source": [
    "save_path = \"C:/Users/aphri/Documents/t0002/pycharm/data/yg_ar/classic_models_hard/gbt_at.pkl\"\n",
    "(\n",
    "    trained_gbt_at, \n",
    "    predictions_gbt_at, \n",
    "    accuracy_gbt_at, \n",
    "    df_gbt_at, \n",
    "    df_incorrect_gbt_at, \n",
    "    df_correct_gbt_at,\n",
    "    label_map_gbt_at\n",
    ")= load_or_train(\n",
    "    train_x, \n",
    "    train_y_at, \n",
    "    test_x, \n",
    "    test_y_at, \n",
    "    train_gbt_n10_m1, \n",
    "    label_map_at, \n",
    "    save_path\n",
    ")\n",
    "print(accuracy_gbt_at)\n",
    "print(df_incorrect_gbt_at.head())"
   ]
  },
  {
   "cell_type": "code",
   "execution_count": 51,
   "id": "07de2998-8e41-4921-a595-d1096dfa7952",
   "metadata": {},
   "outputs": [
    {
     "name": "stdout",
     "output_type": "stream",
     "text": [
      "0.1625\n",
      "   prediction  label  check prediction_name  label_name\n",
      "0           7      4  False          childs  upward_dog\n",
      "1           8      4  False        triangle  upward_dog\n",
      "2           9      4  False           camel  upward_dog\n",
      "3           9      4  False           camel  upward_dog\n",
      "4           3      4  False           chair  upward_dog\n"
     ]
    }
   ],
   "source": [
    "save_path = \"C:/Users/aphri/Documents/t0002/pycharm/data/yg_ar/classic_models_hard/svm_a.pkl\"\n",
    "(\n",
    "    trained_svm_a, \n",
    "    predictions_svm_a, \n",
    "    accuracy_svm_a, \n",
    "    df_svm_a, \n",
    "    df_incorrect_svm_a, \n",
    "    df_correct_svm_a,\n",
    "    label_map_svm_a\n",
    ")= load_or_train(\n",
    "    train_x, \n",
    "    train_y_a, \n",
    "    test_x, \n",
    "    test_y_a, \n",
    "    train_svm, \n",
    "    label_map_a, \n",
    "    save_path\n",
    ")\n",
    "print(accuracy_svm_a)\n",
    "print(df_incorrect_svm_a.head())"
   ]
  },
  {
   "cell_type": "code",
   "execution_count": 52,
   "id": "66359b0a-dfe3-40b8-b97c-d1af8342f837",
   "metadata": {},
   "outputs": [
    {
     "name": "stdout",
     "output_type": "stream",
     "text": [
      "0.041666666666666664\n",
      "   prediction  label  check prediction_name    label_name\n",
      "0           9      0  False        childs_2  upward_dog_3\n",
      "1          34      0  False         camel_1  upward_dog_3\n",
      "2          30      0  False   thunderbolt_2  upward_dog_3\n",
      "3          34      0  False         camel_1  upward_dog_3\n",
      "4          12      0  False         camel_4  upward_dog_3\n"
     ]
    }
   ],
   "source": [
    "save_path = \"C:/Users/aphri/Documents/t0002/pycharm/data/yg_ar/classic_models/svm_at.pkl\"\n",
    "(\n",
    "    trained_svm_at, \n",
    "    predictions_svm_at, \n",
    "    accuracy_svm_at, \n",
    "    df_svm_at,\n",
    "    df_incorrect_svm_at, \n",
    "    df_correct_svm_at,\n",
    "    label_map_svm_at\n",
    ")= load_or_train(\n",
    "    train_x, \n",
    "    train_y_at, \n",
    "    test_x, \n",
    "    test_y_at, \n",
    "    train_svm, \n",
    "    label_map_at, \n",
    "    save_path\n",
    ")\n",
    "print(accuracy_svm_at)\n",
    "print(df_incorrect_svm_at.head())"
   ]
  },
  {
   "cell_type": "code",
   "execution_count": 99,
   "id": "98a75f18-62af-48c3-aed8-c9dc7196d1e1",
   "metadata": {},
   "outputs": [
    {
     "name": "stdout",
     "output_type": "stream",
     "text": [
      "1.0\n",
      "Empty DataFrame\n",
      "Columns: [prediction, label, check, prediction_name, label_name]\n",
      "Index: []\n"
     ]
    }
   ],
   "source": [
    "save_path = \"C:/Users/aphri/Documents/t0002/pycharm/data/yg_ar/classic_models/logistic.pkl\"\n",
    "(\n",
    "    trained_logistic, \n",
    "    predictions_logistic, \n",
    "    accuracy_logistic, \n",
    "    df_logistic,\n",
    "    df_incorrect_logistic, \n",
    "    df_correct_logistic,\n",
    "    label_map_logistic\n",
    ")= load_or_train(\n",
    "    train_x, \n",
    "    train_y, \n",
    "    test_x, \n",
    "    test_y, \n",
    "    train_logistic, \n",
    "    label_map, \n",
    "    save_path\n",
    ")\n",
    "print(accuracy_logistic)\n",
    "print(df_incorrect_logistic.head())"
   ]
  },
  {
   "cell_type": "code",
   "execution_count": 114,
   "id": "fcdd6cdd-447d-413d-ba6d-bba3da009afb",
   "metadata": {},
   "outputs": [
    {
     "data": {
      "text/plain": [
       "663"
      ]
     },
     "execution_count": 114,
     "metadata": {},
     "output_type": "execute_result"
    }
   ],
   "source": [
    "trained_logistic.coef_[0].argmax()"
   ]
  },
  {
   "cell_type": "code",
   "execution_count": 120,
   "id": "54fc380f-b86e-48a6-a33b-d7cb30a64fc8",
   "metadata": {},
   "outputs": [
    {
     "name": "stdout",
     "output_type": "stream",
     "text": [
      "663\n",
      "667\n",
      "789\n",
      "760\n",
      "663\n",
      "789\n",
      "605\n",
      "572\n",
      "664\n",
      "543\n"
     ]
    }
   ],
   "source": [
    "for i in range(len(trained_logistic.coef_)):\n",
    "    print(trained_logistic.coef_[i].argmax())"
   ]
  },
  {
   "cell_type": "code",
   "execution_count": 115,
   "id": "2d0d8333-95f9-4133-bf77-a1d5015e64eb",
   "metadata": {},
   "outputs": [
    {
     "data": {
      "text/plain": [
       "0.04047882481582151"
      ]
     },
     "execution_count": 115,
     "metadata": {},
     "output_type": "execute_result"
    }
   ],
   "source": [
    "trained_logistic.coef_[0][663]"
   ]
  },
  {
   "cell_type": "code",
   "execution_count": 100,
   "id": "7c02bb52-29e4-4650-9336-4a9a406395df",
   "metadata": {},
   "outputs": [
    {
     "name": "stdout",
     "output_type": "stream",
     "text": [
      "0.9980851063829788\n",
      "      prediction  label  check prediction_name     label_name\n",
      "2625           0      7  False      triangle_1     triangle_3\n",
      "2740           0      7  False      triangle_1     triangle_3\n",
      "4149          21     24  False   thunderbolt_3  thunderbolt_4\n",
      "4297           5     12  False        childs_3       childs_1\n",
      "4452           5     12  False        childs_3       childs_1\n"
     ]
    }
   ],
   "source": [
    "save_path = \"C:/Users/aphri/Documents/t0002/pycharm/data/yg_ar/classic_models/logistic_t.pkl\"\n",
    "(\n",
    "    trained_logistic_t, \n",
    "    predictions_logistic_t, \n",
    "    accuracy_logistic_t, \n",
    "    df_logistic_t,\n",
    "    df_incorrect_logistic_t, \n",
    "    df_correct_logistic_t,\n",
    "    label_map_logistic_t\n",
    ")= load_or_train(\n",
    "    train_x, \n",
    "    train_y_t, \n",
    "    test_x, \n",
    "    test_y_t, \n",
    "    train_logistic, \n",
    "    label_t_map, \n",
    "    save_path\n",
    ")\n",
    "print(accuracy_logistic_t)\n",
    "print(df_incorrect_logistic_t.head())"
   ]
  },
  {
   "cell_type": "code",
   "execution_count": 101,
   "id": "aee440c5-c2b1-4bd4-9227-c3b26bcf125e",
   "metadata": {},
   "outputs": [
    {
     "name": "stdout",
     "output_type": "stream",
     "text": [
      "0.9631914893617022\n",
      "      prediction  label  check prediction_name label_name\n",
      "779           92    151  False       chair_1_2  chair_3_2\n",
      "1414         156     61  False       lotus_3_2  lotus_4_0\n",
      "1422         116    130  False       lotus_4_2  lotus_4_1\n",
      "1428          43    135  False       lotus_2_1  lotus_3_1\n",
      "1436         135    156  False       lotus_3_1  lotus_3_2\n"
     ]
    },
    {
     "name": "stderr",
     "output_type": "stream",
     "text": [
      "c:\\users\\aphri\\miniconda3\\lib\\site-packages\\sklearn\\linear_model\\_logistic.py:458: ConvergenceWarning: lbfgs failed to converge (status=1):\n",
      "STOP: TOTAL NO. of ITERATIONS REACHED LIMIT.\n",
      "\n",
      "Increase the number of iterations (max_iter) or scale the data as shown in:\n",
      "    https://scikit-learn.org/stable/modules/preprocessing.html\n",
      "Please also refer to the documentation for alternative solver options:\n",
      "    https://scikit-learn.org/stable/modules/linear_model.html#logistic-regression\n",
      "  n_iter_i = _check_optimize_result(\n"
     ]
    }
   ],
   "source": [
    "save_path = \"C:/Users/aphri/Documents/t0002/pycharm/data/yg_ar/classic_models/logistic_th.pkl\"\n",
    "(\n",
    "    trained_logistic_th, \n",
    "    predictions_logistic_th, \n",
    "    accuracy_logistic_th, \n",
    "    df_logistic_th,\n",
    "    df_incorrect_logistic_th, \n",
    "    df_correct_logistic_th,\n",
    "    label_map_logistic_th\n",
    ")= load_or_train(\n",
    "    train_x, \n",
    "    train_y_th, \n",
    "    test_x, \n",
    "    test_y_th, \n",
    "    train_logistic, \n",
    "    label_th_map, \n",
    "    save_path\n",
    ")\n",
    "print(accuracy_logistic_th)\n",
    "print(df_incorrect_logistic_th.head())"
   ]
  },
  {
   "cell_type": "code",
   "execution_count": 102,
   "id": "fecc7a42-73ec-408f-bca7-9a9268b70086",
   "metadata": {},
   "outputs": [
    {
     "name": "stdout",
     "output_type": "stream",
     "text": [
      "0.9131914893617021\n",
      "    prediction  label  check    prediction_name         label_name\n",
      "16         254    582  False  warrior_III_2_0_2  warrior_III_2_0_3\n",
      "51         335    132  False  warrior_III_1_1_2  warrior_III_1_1_3\n",
      "52         396    117  False  warrior_III_2_2_2  warrior_III_2_2_3\n",
      "53         638    380  False  warrior_III_3_0_3  warrior_III_3_1_3\n",
      "56         335    132  False  warrior_III_1_1_2  warrior_III_1_1_3\n"
     ]
    },
    {
     "name": "stderr",
     "output_type": "stream",
     "text": [
      "c:\\users\\aphri\\miniconda3\\lib\\site-packages\\sklearn\\linear_model\\_logistic.py:458: ConvergenceWarning: lbfgs failed to converge (status=1):\n",
      "STOP: TOTAL NO. of ITERATIONS REACHED LIMIT.\n",
      "\n",
      "Increase the number of iterations (max_iter) or scale the data as shown in:\n",
      "    https://scikit-learn.org/stable/modules/preprocessing.html\n",
      "Please also refer to the documentation for alternative solver options:\n",
      "    https://scikit-learn.org/stable/modules/linear_model.html#logistic-regression\n",
      "  n_iter_i = _check_optimize_result(\n"
     ]
    }
   ],
   "source": [
    "save_path = \"C:/Users/aphri/Documents/t0002/pycharm/data/yg_ar/classic_models/logistic_thc.pkl\"\n",
    "(\n",
    "    trained_logistic_thc, \n",
    "    predictions_logistic_thc, \n",
    "    accuracy_logistic_thc, \n",
    "    df_logistic_thc,\n",
    "    df_incorrect_logistic_thc, \n",
    "    df_correct_logistic_thc,\n",
    "    label_map_logistic_thc\n",
    ")= load_or_train(\n",
    "    train_x, \n",
    "    train_y_thc, \n",
    "    test_x, \n",
    "    test_y_thc, \n",
    "    train_logistic, \n",
    "    label_thc_map, \n",
    "    save_path\n",
    ")\n",
    "print(accuracy_logistic_thc)\n",
    "print(df_incorrect_logistic_thc.head())"
   ]
  },
  {
   "cell_type": "code",
   "execution_count": 103,
   "id": "8056bb8c-87dd-4230-aefe-18e41c921a01",
   "metadata": {},
   "outputs": [
    {
     "name": "stderr",
     "output_type": "stream",
     "text": [
      "c:\\users\\aphri\\miniconda3\\lib\\site-packages\\sklearn\\linear_model\\_logistic.py:458: ConvergenceWarning: lbfgs failed to converge (status=1):\n",
      "STOP: TOTAL NO. of ITERATIONS REACHED LIMIT.\n",
      "\n",
      "Increase the number of iterations (max_iter) or scale the data as shown in:\n",
      "    https://scikit-learn.org/stable/modules/preprocessing.html\n",
      "Please also refer to the documentation for alternative solver options:\n",
      "    https://scikit-learn.org/stable/modules/linear_model.html#logistic-regression\n",
      "  n_iter_i = _check_optimize_result(\n"
     ]
    },
    {
     "name": "stdout",
     "output_type": "stream",
     "text": [
      "0.5974468085106382\n",
      "    prediction  label  check      prediction_name           label_name\n",
      "0          836   1188  False  warrior_III_1_1_3_1  warrior_III_1_0_3_1\n",
      "5         2409   1978  False  warrior_III_3_1_1_2  warrior_III_3_2_1_2\n",
      "6         1551   1998  False  warrior_III_2_0_2_3  warrior_III_2_0_3_3\n",
      "9         1998   1551  False  warrior_III_2_0_3_3  warrior_III_2_0_2_3\n",
      "13        1825   2221  False  warrior_III_3_1_1_3  warrior_III_3_2_1_0\n"
     ]
    }
   ],
   "source": [
    "save_path = \"C:/Users/aphri/Documents/t0002/pycharm/data/yg_ar/classic_models/logistic_thcp.pkl\"\n",
    "(\n",
    "    trained_logistic_thcp, \n",
    "    predictions_logistic_thcp, \n",
    "    accuracy_logistic_thcp, \n",
    "    df_logistic_thcp,\n",
    "    df_incorrect_logistic_thcp, \n",
    "    df_correct_logistic_thcp,\n",
    "    label_map_logistic_thcp\n",
    ")= load_or_train(\n",
    "    train_x, \n",
    "    train_y_thcp, \n",
    "    test_x, \n",
    "    test_y_thcp, \n",
    "    train_logistic, \n",
    "    label_thcp_map, \n",
    "    save_path\n",
    ")\n",
    "print(accuracy_logistic_thcp)\n",
    "print(df_incorrect_logistic_thcp.head())"
   ]
  },
  {
   "cell_type": "code",
   "execution_count": null,
   "id": "8528673a-2149-40e0-9a2c-0ca6db4fef0a",
   "metadata": {},
   "outputs": [],
   "source": []
  }
 ],
 "metadata": {
  "kernelspec": {
   "display_name": "Python 3 (ipykernel)",
   "language": "python",
   "name": "python3"
  },
  "language_info": {
   "codemirror_mode": {
    "name": "ipython",
    "version": 3
   },
   "file_extension": ".py",
   "mimetype": "text/x-python",
   "name": "python",
   "nbconvert_exporter": "python",
   "pygments_lexer": "ipython3",
   "version": "3.9.1"
  }
 },
 "nbformat": 4,
 "nbformat_minor": 5
}
