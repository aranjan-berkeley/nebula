{
 "cells": [
  {
   "cell_type": "code",
   "execution_count": 1,
   "id": "5b21268a-5c59-4575-a591-afcd0fa11b51",
   "metadata": {},
   "outputs": [
    {
     "name": "stderr",
     "output_type": "stream",
     "text": [
      "c:\\users\\aphri\\miniconda3\\lib\\site-packages\\torchvision\\io\\image.py:13: UserWarning: Failed to load image Python extension: [WinError 127] The specified procedure could not be found\n",
      "  warn(f\"Failed to load image Python extension: {e}\")\n"
     ]
    }
   ],
   "source": [
    "import pandas as pd\n",
    "from nebula.data.yg_ar.setup_data_image_hard import read_data\n",
    "from nebula.common import to_scale_one, write_pickle, read_pickle\n",
    "from sklearn import svm\n",
    "from sklearn.linear_model import LogisticRegression\n",
    "from sklearn.ensemble import GradientBoostingClassifier\n",
    "import os\n",
    "import os.path as osp\n",
    "import numpy as np"
   ]
  },
  {
   "cell_type": "code",
   "execution_count": 2,
   "id": "6d6aa2df-d80c-403c-b0a9-33557679ae7c",
   "metadata": {},
   "outputs": [],
   "source": [
    "def create_label_map(labels):\n",
    "    label_set = set()\n",
    "    for lt in labels:\n",
    "        label_set.add(lt)\n",
    "\n",
    "    label_map = {}\n",
    "    count = 0\n",
    "    for l in label_set:\n",
    "        label_map[l] = count\n",
    "        count += 1\n",
    "        \n",
    "    return label_map"
   ]
  },
  {
   "cell_type": "code",
   "execution_count": 3,
   "id": "88a61a52-7118-41fe-a695-77ff63c615a7",
   "metadata": {},
   "outputs": [],
   "source": [
    "df_path = \"C:/Users/aphri/Documents/t0002/pycharm/data/yg_ar/image_medium_df.pkl\"\n",
    "random_seed = 1\n",
    "df, train_df, test_df, valid_df = read_data(df_path, random_seed)"
   ]
  },
  {
   "cell_type": "code",
   "execution_count": 4,
   "id": "4fc61b87-7a63-4008-9d1e-9d7e6d488e39",
   "metadata": {},
   "outputs": [
    {
     "data": {
      "text/plain": [
       "1760"
      ]
     },
     "execution_count": 4,
     "metadata": {},
     "output_type": "execute_result"
    }
   ],
   "source": [
    "len(valid_df)"
   ]
  },
  {
   "cell_type": "code",
   "execution_count": 5,
   "id": "99b999c1-de4d-4244-9acc-7b791049f8e0",
   "metadata": {},
   "outputs": [],
   "source": [
    "label_map_a = create_label_map(df[\"label_a\"])\n",
    "label_map_at = create_label_map(df[\"label_at\"])"
   ]
  },
  {
   "cell_type": "code",
   "execution_count": 6,
   "id": "10b5333e-481d-4823-8d7c-a59d49837640",
   "metadata": {},
   "outputs": [
    {
     "data": {
      "text/plain": [
       "{'chair': 0,\n",
       " 'thunderbolt': 1,\n",
       " 'lotus': 2,\n",
       " 'upward_dog': 3,\n",
       " 'childs': 4,\n",
       " 'warrior_III': 5,\n",
       " 'triangle': 6,\n",
       " 'warrior_II': 7,\n",
       " 'camel': 8,\n",
       " 'lord_of_the_dance': 9}"
      ]
     },
     "execution_count": 6,
     "metadata": {},
     "output_type": "execute_result"
    }
   ],
   "source": [
    "label_map_a"
   ]
  },
  {
   "cell_type": "code",
   "execution_count": 7,
   "id": "fbc37c29-9b20-4b21-9303-91cc599be704",
   "metadata": {},
   "outputs": [
    {
     "data": {
      "text/plain": [
       "{'childs_2': 0,\n",
       " 'warrior_III_2': 1,\n",
       " 'lord_of_the_dance_1': 2,\n",
       " 'triangle_1': 3,\n",
       " 'triangle_2': 4,\n",
       " 'upward_dog_3': 5,\n",
       " 'chair_4': 6,\n",
       " 'triangle_4': 7,\n",
       " 'childs_3': 8,\n",
       " 'warrior_II_2': 9,\n",
       " 'childs_4': 10,\n",
       " 'lord_of_the_dance_3': 11,\n",
       " 'childs_1': 12,\n",
       " 'thunderbolt_3': 13,\n",
       " 'thunderbolt_4': 14,\n",
       " 'camel_2': 15,\n",
       " 'warrior_III_4': 16,\n",
       " 'camel_3': 17,\n",
       " 'lotus_1': 18,\n",
       " 'upward_dog_2': 19,\n",
       " 'triangle_3': 20,\n",
       " 'upward_dog_4': 21,\n",
       " 'thunderbolt_2': 22,\n",
       " 'chair_2': 23,\n",
       " 'camel_4': 24,\n",
       " 'warrior_II_4': 25,\n",
       " 'warrior_III_3': 26,\n",
       " 'warrior_II_1': 27,\n",
       " 'lotus_3': 28,\n",
       " 'lord_of_the_dance_2': 29,\n",
       " 'chair_1': 30,\n",
       " 'chair_3': 31,\n",
       " 'lotus_4': 32,\n",
       " 'upward_dog_1': 33,\n",
       " 'warrior_III_1': 34,\n",
       " 'warrior_II_3': 35,\n",
       " 'camel_1': 36,\n",
       " 'lotus_2': 37,\n",
       " 'lord_of_the_dance_4': 38,\n",
       " 'thunderbolt_1': 39}"
      ]
     },
     "execution_count": 7,
     "metadata": {},
     "output_type": "execute_result"
    }
   ],
   "source": [
    "label_map_at"
   ]
  },
  {
   "cell_type": "code",
   "execution_count": 8,
   "id": "bce63941-c9fc-4c11-9fbf-4947ee998238",
   "metadata": {},
   "outputs": [],
   "source": [
    "train_x = train_df[\"image\"].apply(lambda x: to_scale_one(x, scale=0.2).flatten()).to_list()"
   ]
  },
  {
   "cell_type": "code",
   "execution_count": 9,
   "id": "9fd5319f-95ee-4a1a-a056-c755af2930bd",
   "metadata": {},
   "outputs": [],
   "source": [
    "train_y_a = train_df[\"label_a\"].map(label_map_a).to_list()\n",
    "train_y_at = train_df[\"label_at\"].map(label_map_at).to_list()"
   ]
  },
  {
   "cell_type": "code",
   "execution_count": 10,
   "id": "f21f1acf-b2c2-4f1d-87f8-093f2da21874",
   "metadata": {},
   "outputs": [],
   "source": [
    "test_x = test_df[\"image\"].apply(lambda x: to_scale_one(x, scale=0.2).flatten()).to_list()"
   ]
  },
  {
   "cell_type": "code",
   "execution_count": 11,
   "id": "fefefe69-772d-4d2a-ae8f-88c4f158a291",
   "metadata": {},
   "outputs": [],
   "source": [
    "test_y_a = test_df[\"label_a\"].map(label_map_a).to_list()\n",
    "test_y_at = test_df[\"label_at\"].map(label_map_at).to_list()"
   ]
  },
  {
   "cell_type": "code",
   "execution_count": 12,
   "id": "6b2c2f26-4604-47b8-9ca8-403a0d7e69d8",
   "metadata": {},
   "outputs": [],
   "source": [
    "def train_svm(data_x, data_y):\n",
    "    clf = svm.SVC()\n",
    "    clf.fit(data_x, data_y)\n",
    "    return clf\n",
    "\n",
    "\n",
    "def train_logistic(data_x, data_y):\n",
    "    clf = LogisticRegression(random_state=0)\n",
    "    clf.fit(data_x, data_y)\n",
    "    return clf\n",
    "\n",
    "\n",
    "def train_gbt_n10_m1(data_x, data_y):\n",
    "    clf = GradientBoostingClassifier(\n",
    "        n_estimators=10,\n",
    "        learning_rate=1,\n",
    "        max_depth=1,\n",
    "        random_state=0\n",
    "    )\n",
    "    clf.fit(data_x, data_y)\n",
    "    return clf\n",
    "\n",
    "\n",
    "def evaluate(model, test_x, test_y):\n",
    "    res = model.predict(test_x)\n",
    "    correct = res == test_y\n",
    "    accuracy = correct.sum() / len(res)\n",
    "    return res, accuracy\n",
    "\n",
    "\n",
    "def load_or_train(train_x, train_y, test_x, test_y, train_func, label_map, path):\n",
    "    \n",
    "    if osp.exists(path):\n",
    "        return read_pickle(path)\n",
    "    \n",
    "    trained_model = train_func(train_x, train_y)\n",
    "    predictions, accuracy = evaluate(trained_model, test_x, test_y)\n",
    "    \n",
    "    df, df_incorrect, df_correct = format_results(predictions, test_y, label_map)\n",
    "    \n",
    "    write_pickle(path, (trained_model, predictions, accuracy, df, df_incorrect, df_correct, label_map)) \n",
    "    \n",
    "    return trained_model, predictions, accuracy, df, df_incorrect, df_correct, label_map\n",
    "\n",
    "\n",
    "def format_results(predictions, labels, label_map):\n",
    "    df = pd.DataFrame(\n",
    "        data={\n",
    "            \"prediction\": predictions,\n",
    "            \"label\": labels\n",
    "        }\n",
    "    )\n",
    "    df[\"check\"] = df[\"prediction\"] == df[\"label\"]\n",
    "\n",
    "    label_map_reverse = {v:k for k, v in label_map.items()}\n",
    "\n",
    "    df[\"prediction_name\"] = df.prediction.map(label_map_reverse)\n",
    "    df[\"label_name\"] = df.label.map(label_map_reverse)\n",
    "\n",
    "    df_incorrect = df[~df.check]\n",
    "    df_correct = df[df.check]\n",
    "\n",
    "    return df, df_incorrect, df_correct"
   ]
  },
  {
   "cell_type": "code",
   "execution_count": 13,
   "id": "9a42d41d-2ee1-4d85-90eb-1acc3756f7b3",
   "metadata": {},
   "outputs": [
    {
     "name": "stdout",
     "output_type": "stream",
     "text": [
      "0.21157407407407408\n",
      "   prediction  label  check prediction_name label_name\n",
      "0           5      4  False     warrior_III     childs\n",
      "1           1      4  False     thunderbolt     childs\n",
      "2           0      4  False           chair     childs\n",
      "3           0      4  False           chair     childs\n",
      "4           5      4  False     warrior_III     childs\n"
     ]
    }
   ],
   "source": [
    "save_path = \"C:/Users/aphri/Documents/t0002/pycharm/data/yg_ar/classic_models_medium/gbt_a.pkl\"\n",
    "(\n",
    "    trained_gbt_a, \n",
    "    predictions_gbt_a, \n",
    "    accuracy_gbt_a, \n",
    "    df_gbt_a, \n",
    "    df_incorrect_gbt_a, \n",
    "    df_correct_gbt_a,\n",
    "    label_map_gbt_a\n",
    ")= load_or_train(\n",
    "    train_x, \n",
    "    train_y_a, \n",
    "    test_x, \n",
    "    test_y_a, \n",
    "    train_gbt_n10_m1, \n",
    "    label_map_a, \n",
    "    save_path\n",
    ")\n",
    "print(accuracy_gbt_a)\n",
    "print(df_incorrect_gbt_a.head())"
   ]
  },
  {
   "cell_type": "code",
   "execution_count": 14,
   "id": "c8b0ffa3-259e-4416-83b0-8858b8829ddf",
   "metadata": {},
   "outputs": [
    {
     "data": {
      "text/plain": [
       "924"
      ]
     },
     "execution_count": 14,
     "metadata": {},
     "output_type": "execute_result"
    }
   ],
   "source": [
    "trained_gbt_a.feature_importances_.argmax()"
   ]
  },
  {
   "cell_type": "code",
   "execution_count": 15,
   "id": "153283a7-7d48-4d24-9334-88ccfc20e36e",
   "metadata": {},
   "outputs": [
    {
     "data": {
      "text/plain": [
       "array([ 16, 814, 860, 783,  10, 926, 910, 795, 624, 924], dtype=int64)"
      ]
     },
     "execution_count": 15,
     "metadata": {},
     "output_type": "execute_result"
    }
   ],
   "source": [
    "np.argpartition(trained_gbt_a.feature_importances_, -10)[-10:]"
   ]
  },
  {
   "cell_type": "code",
   "execution_count": 16,
   "id": "8603de31-98c7-4e2f-86ae-c75779e47953",
   "metadata": {},
   "outputs": [
    {
     "data": {
      "text/plain": [
       "array([0.00350457, 0.00361017, 0.00386851, 0.00424821, 0.23092255,\n",
       "       0.04050694, 0.00671047, 0.02636861, 0.00585017, 0.61658604])"
      ]
     },
     "execution_count": 16,
     "metadata": {},
     "output_type": "execute_result"
    }
   ],
   "source": [
    "trained_gbt_a.feature_importances_[np.argpartition(trained_gbt_a.feature_importances_, -10)[-10:],]"
   ]
  },
  {
   "cell_type": "code",
   "execution_count": 17,
   "id": "ef772774-57ea-4817-9bab-851d06ab1e40",
   "metadata": {},
   "outputs": [
    {
     "data": {
      "text/plain": [
       "count    961.000000\n",
       "mean       0.001041\n",
       "std        0.021288\n",
       "min        0.000000\n",
       "50%        0.000000\n",
       "90%        0.000000\n",
       "91%        0.000000\n",
       "92%        0.000000\n",
       "93%        0.000000\n",
       "94%        0.000000\n",
       "95%        0.000000\n",
       "96%        0.001147\n",
       "97%        0.001584\n",
       "98%        0.001782\n",
       "99%        0.003395\n",
       "99.8%      0.055740\n",
       "max        0.616586\n",
       "dtype: float64"
      ]
     },
     "execution_count": 17,
     "metadata": {},
     "output_type": "execute_result"
    }
   ],
   "source": [
    "pd.Series(trained_gbt_a.feature_importances_).describe(list(np.arange(0.9,1,0.01)) + [0.998] )"
   ]
  },
  {
   "cell_type": "code",
   "execution_count": 18,
   "id": "20f38dd9-b491-48bb-adff-bd7c0b59b7db",
   "metadata": {},
   "outputs": [
    {
     "name": "stdout",
     "output_type": "stream",
     "text": [
      "0.05277777777777778\n",
      "   prediction  label  check prediction_name label_name\n",
      "0          13      0  False   thunderbolt_3   childs_2\n",
      "1          39      0  False   thunderbolt_1   childs_2\n",
      "2          28      0  False         lotus_3   childs_2\n",
      "3          24      0  False         camel_4   childs_2\n",
      "4          23      0  False         chair_2   childs_2\n"
     ]
    }
   ],
   "source": [
    "save_path = \"C:/Users/aphri/Documents/t0002/pycharm/data/yg_ar/classic_models_medium/gbt_at.pkl\"\n",
    "(\n",
    "    trained_gbt_at, \n",
    "    predictions_gbt_at, \n",
    "    accuracy_gbt_at, \n",
    "    df_gbt_at, \n",
    "    df_incorrect_gbt_at, \n",
    "    df_correct_gbt_at,\n",
    "    label_map_gbt_at\n",
    ")= load_or_train(\n",
    "    train_x, \n",
    "    train_y_at, \n",
    "    test_x, \n",
    "    test_y_at, \n",
    "    train_gbt_n10_m1, \n",
    "    label_map_at, \n",
    "    save_path\n",
    ")\n",
    "print(accuracy_gbt_at)\n",
    "print(df_incorrect_gbt_at.head())"
   ]
  },
  {
   "cell_type": "code",
   "execution_count": 19,
   "id": "07de2998-8e41-4921-a595-d1096dfa7952",
   "metadata": {},
   "outputs": [
    {
     "name": "stdout",
     "output_type": "stream",
     "text": [
      "0.3925925925925926\n",
      "   prediction  label  check prediction_name label_name\n",
      "2           6      4  False        triangle     childs\n",
      "5           2      4  False           lotus     childs\n",
      "7           6      4  False        triangle     childs\n",
      "8           8      4  False           camel     childs\n",
      "9           3      4  False      upward_dog     childs\n"
     ]
    }
   ],
   "source": [
    "save_path = \"C:/Users/aphri/Documents/t0002/pycharm/data/yg_ar/classic_models_medium/svm_a.pkl\"\n",
    "(\n",
    "    trained_svm_a, \n",
    "    predictions_svm_a, \n",
    "    accuracy_svm_a, \n",
    "    df_svm_a, \n",
    "    df_incorrect_svm_a, \n",
    "    df_correct_svm_a,\n",
    "    label_map_svm_a\n",
    ")= load_or_train(\n",
    "    train_x, \n",
    "    train_y_a, \n",
    "    test_x, \n",
    "    test_y_a, \n",
    "    train_svm, \n",
    "    label_map_a, \n",
    "    save_path\n",
    ")\n",
    "print(accuracy_svm_a)\n",
    "print(df_incorrect_svm_a.head())"
   ]
  },
  {
   "cell_type": "code",
   "execution_count": 20,
   "id": "66359b0a-dfe3-40b8-b97c-d1af8342f837",
   "metadata": {},
   "outputs": [
    {
     "name": "stdout",
     "output_type": "stream",
     "text": [
      "0.08842592592592592\n",
      "   prediction  label  check prediction_name label_name\n",
      "0          32      0  False         lotus_4   childs_2\n",
      "1          28      0  False         lotus_3   childs_2\n",
      "2           8      0  False        childs_3   childs_2\n",
      "3           6      0  False         chair_4   childs_2\n",
      "5          14      0  False   thunderbolt_4   childs_2\n"
     ]
    }
   ],
   "source": [
    "save_path = \"C:/Users/aphri/Documents/t0002/pycharm/data/yg_ar/classic_models_medium/svm_at.pkl\"\n",
    "(\n",
    "    trained_svm_at, \n",
    "    predictions_svm_at, \n",
    "    accuracy_svm_at, \n",
    "    df_svm_at,\n",
    "    df_incorrect_svm_at, \n",
    "    df_correct_svm_at,\n",
    "    label_map_svm_at\n",
    ")= load_or_train(\n",
    "    train_x, \n",
    "    train_y_at, \n",
    "    test_x, \n",
    "    test_y_at, \n",
    "    train_svm, \n",
    "    label_map_at, \n",
    "    save_path\n",
    ")\n",
    "print(accuracy_svm_at)\n",
    "print(df_incorrect_svm_at.head())"
   ]
  },
  {
   "cell_type": "code",
   "execution_count": 21,
   "id": "98a75f18-62af-48c3-aed8-c9dc7196d1e1",
   "metadata": {},
   "outputs": [
    {
     "name": "stdout",
     "output_type": "stream",
     "text": [
      "0.2111111111111111\n",
      "   prediction  label  check prediction_name label_name\n",
      "1           2      4  False           lotus     childs\n",
      "2           6      4  False        triangle     childs\n",
      "5           0      4  False           chair     childs\n",
      "7           2      4  False           lotus     childs\n",
      "8           5      4  False     warrior_III     childs\n"
     ]
    },
    {
     "name": "stderr",
     "output_type": "stream",
     "text": [
      "c:\\users\\aphri\\miniconda3\\lib\\site-packages\\sklearn\\linear_model\\_logistic.py:458: ConvergenceWarning: lbfgs failed to converge (status=1):\n",
      "STOP: TOTAL NO. of ITERATIONS REACHED LIMIT.\n",
      "\n",
      "Increase the number of iterations (max_iter) or scale the data as shown in:\n",
      "    https://scikit-learn.org/stable/modules/preprocessing.html\n",
      "Please also refer to the documentation for alternative solver options:\n",
      "    https://scikit-learn.org/stable/modules/linear_model.html#logistic-regression\n",
      "  n_iter_i = _check_optimize_result(\n"
     ]
    }
   ],
   "source": [
    "save_path = \"C:/Users/aphri/Documents/t0002/pycharm/data/yg_ar/classic_models_medium/logistic_a.pkl\"\n",
    "(\n",
    "    trained_logistic_a, \n",
    "    predictions_logistic_a, \n",
    "    accuracy_logistic_a, \n",
    "    df_logistic_a,\n",
    "    df_incorrect_logistic_a, \n",
    "    df_correct_logistic_a,\n",
    "    label_map_logistic_a\n",
    ")= load_or_train(\n",
    "    train_x, \n",
    "    train_y_a, \n",
    "    test_x, \n",
    "    test_y_a, \n",
    "    train_logistic, \n",
    "    label_map_a, \n",
    "    save_path\n",
    ")\n",
    "print(accuracy_logistic_a)\n",
    "print(df_incorrect_logistic_a.head())"
   ]
  },
  {
   "cell_type": "code",
   "execution_count": 23,
   "id": "fcdd6cdd-447d-413d-ba6d-bba3da009afb",
   "metadata": {},
   "outputs": [
    {
     "data": {
      "text/plain": [
       "558"
      ]
     },
     "execution_count": 23,
     "metadata": {},
     "output_type": "execute_result"
    }
   ],
   "source": [
    "trained_logistic_a.coef_[0].argmax()"
   ]
  },
  {
   "cell_type": "code",
   "execution_count": 26,
   "id": "54fc380f-b86e-48a6-a33b-d7cb30a64fc8",
   "metadata": {},
   "outputs": [
    {
     "name": "stdout",
     "output_type": "stream",
     "text": [
      "558\n",
      "924\n",
      "749\n",
      "403\n",
      "341\n",
      "558\n",
      "785\n",
      "589\n",
      "309\n",
      "10\n"
     ]
    }
   ],
   "source": [
    "for i in range(len(trained_logistic_a.coef_)):\n",
    "    print(trained_logistic_a.coef_[i].argmax())"
   ]
  },
  {
   "cell_type": "code",
   "execution_count": 27,
   "id": "2d0d8333-95f9-4133-bf77-a1d5015e64eb",
   "metadata": {},
   "outputs": [
    {
     "data": {
      "text/plain": [
       "0.00030255454799611145"
      ]
     },
     "execution_count": 27,
     "metadata": {},
     "output_type": "execute_result"
    }
   ],
   "source": [
    "trained_logistic_a.coef_[0][663]"
   ]
  },
  {
   "cell_type": "code",
   "execution_count": 28,
   "id": "7c02bb52-29e4-4650-9336-4a9a406395df",
   "metadata": {},
   "outputs": [
    {
     "name": "stdout",
     "output_type": "stream",
     "text": [
      "0.059722222222222225\n",
      "   prediction  label  check prediction_name label_name\n",
      "0          12      0  False        childs_1   childs_2\n",
      "1           5      0  False    upward_dog_3   childs_2\n",
      "2          12      0  False        childs_1   childs_2\n",
      "3          21      0  False    upward_dog_4   childs_2\n",
      "5          31      0  False         chair_3   childs_2\n"
     ]
    },
    {
     "name": "stderr",
     "output_type": "stream",
     "text": [
      "c:\\users\\aphri\\miniconda3\\lib\\site-packages\\sklearn\\linear_model\\_logistic.py:458: ConvergenceWarning: lbfgs failed to converge (status=1):\n",
      "STOP: TOTAL NO. of ITERATIONS REACHED LIMIT.\n",
      "\n",
      "Increase the number of iterations (max_iter) or scale the data as shown in:\n",
      "    https://scikit-learn.org/stable/modules/preprocessing.html\n",
      "Please also refer to the documentation for alternative solver options:\n",
      "    https://scikit-learn.org/stable/modules/linear_model.html#logistic-regression\n",
      "  n_iter_i = _check_optimize_result(\n"
     ]
    }
   ],
   "source": [
    "save_path = \"C:/Users/aphri/Documents/t0002/pycharm/data/yg_ar/classic_models_medium/logistic_at.pkl\"\n",
    "(\n",
    "    trained_logistic_at, \n",
    "    predictions_logistic_at, \n",
    "    accuracy_logistic_at, \n",
    "    df_logistic_at,\n",
    "    df_incorrect_logistic_at, \n",
    "    df_correct_logistic_at,\n",
    "    label_map_logistic_at\n",
    ")= load_or_train(\n",
    "    train_x, \n",
    "    train_y_at, \n",
    "    test_x, \n",
    "    test_y_at, \n",
    "    train_logistic, \n",
    "    label_map_at, \n",
    "    save_path\n",
    ")\n",
    "print(accuracy_logistic_at)\n",
    "print(df_incorrect_logistic_at.head())"
   ]
  },
  {
   "cell_type": "code",
   "execution_count": null,
   "id": "8528673a-2149-40e0-9a2c-0ca6db4fef0a",
   "metadata": {},
   "outputs": [],
   "source": []
  }
 ],
 "metadata": {
  "kernelspec": {
   "display_name": "Python 3 (ipykernel)",
   "language": "python",
   "name": "python3"
  },
  "language_info": {
   "codemirror_mode": {
    "name": "ipython",
    "version": 3
   },
   "file_extension": ".py",
   "mimetype": "text/x-python",
   "name": "python",
   "nbconvert_exporter": "python",
   "pygments_lexer": "ipython3",
   "version": "3.9.1"
  }
 },
 "nbformat": 4,
 "nbformat_minor": 5
}
