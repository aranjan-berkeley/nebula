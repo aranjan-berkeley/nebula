{
 "cells": [
  {
   "cell_type": "code",
   "execution_count": 79,
   "id": "5b21268a-5c59-4575-a591-afcd0fa11b51",
   "metadata": {},
   "outputs": [],
   "source": [
    "import pandas as pd\n",
    "from nebula.data.yg_ar.setup_data_image import read_data\n",
    "from nebula.common import to_scale_one, write_pickle, read_pickle\n",
    "from sklearn import svm\n",
    "from sklearn.linear_model import LogisticRegression\n",
    "from sklearn.ensemble import GradientBoostingClassifier\n",
    "import os\n",
    "import os.path as osp"
   ]
  },
  {
   "cell_type": "code",
   "execution_count": 80,
   "id": "6d6aa2df-d80c-403c-b0a9-33557679ae7c",
   "metadata": {},
   "outputs": [],
   "source": [
    "def create_label_map(labels):\n",
    "    label_set = set()\n",
    "    for lt in labels:\n",
    "        label_set.add(lt)\n",
    "\n",
    "    label_map = {}\n",
    "    count = 0\n",
    "    for l in label_set:\n",
    "        label_map[l] = count\n",
    "        count += 1\n",
    "        \n",
    "    return label_map"
   ]
  },
  {
   "cell_type": "code",
   "execution_count": 81,
   "id": "88a61a52-7118-41fe-a695-77ff63c615a7",
   "metadata": {},
   "outputs": [],
   "source": [
    "df_path = \"C:/Users/aphri/Documents/t0002/pycharm/data/yg_ar/image_df.pkl\"\n",
    "random_seed = 1\n",
    "df, train_df, test_df, valid_df = read_data(df_path, random_seed)"
   ]
  },
  {
   "cell_type": "code",
   "execution_count": 82,
   "id": "4fc61b87-7a63-4008-9d1e-9d7e6d488e39",
   "metadata": {},
   "outputs": [
    {
     "data": {
      "text/html": [
       "<div>\n",
       "<style scoped>\n",
       "    .dataframe tbody tr th:only-of-type {\n",
       "        vertical-align: middle;\n",
       "    }\n",
       "\n",
       "    .dataframe tbody tr th {\n",
       "        vertical-align: top;\n",
       "    }\n",
       "\n",
       "    .dataframe thead th {\n",
       "        text-align: right;\n",
       "    }\n",
       "</style>\n",
       "<table border=\"1\" class=\"dataframe\">\n",
       "  <thead>\n",
       "    <tr style=\"text-align: right;\">\n",
       "      <th></th>\n",
       "      <th>image</th>\n",
       "      <th>orientation</th>\n",
       "      <th>xangle</th>\n",
       "      <th>yangle</th>\n",
       "      <th>pants</th>\n",
       "      <th>cloth</th>\n",
       "      <th>hair</th>\n",
       "      <th>action_type</th>\n",
       "      <th>label</th>\n",
       "      <th>label_t</th>\n",
       "      <th>label_th</th>\n",
       "      <th>label_thc</th>\n",
       "      <th>label_thcp</th>\n",
       "    </tr>\n",
       "  </thead>\n",
       "  <tbody>\n",
       "    <tr>\n",
       "      <th>0</th>\n",
       "      <td>[[116, 116, 116, 116, 116, 116, 116, 116, 116,...</td>\n",
       "      <td>pp</td>\n",
       "      <td>x00</td>\n",
       "      <td>y00</td>\n",
       "      <td>0</td>\n",
       "      <td>0</td>\n",
       "      <td>0</td>\n",
       "      <td>1</td>\n",
       "      <td>camel</td>\n",
       "      <td>camel_1</td>\n",
       "      <td>camel_1_0</td>\n",
       "      <td>camel_1_0_0</td>\n",
       "      <td>camel_1_0_0_0</td>\n",
       "    </tr>\n",
       "    <tr>\n",
       "      <th>1</th>\n",
       "      <td>[[133, 133, 134, 134, 134, 134, 134, 134, 134,...</td>\n",
       "      <td>pp</td>\n",
       "      <td>x05</td>\n",
       "      <td>y00</td>\n",
       "      <td>0</td>\n",
       "      <td>0</td>\n",
       "      <td>0</td>\n",
       "      <td>1</td>\n",
       "      <td>camel</td>\n",
       "      <td>camel_1</td>\n",
       "      <td>camel_1_0</td>\n",
       "      <td>camel_1_0_0</td>\n",
       "      <td>camel_1_0_0_0</td>\n",
       "    </tr>\n",
       "    <tr>\n",
       "      <th>2</th>\n",
       "      <td>[[116, 116, 116, 116, 116, 116, 116, 116, 116,...</td>\n",
       "      <td>np</td>\n",
       "      <td>x00</td>\n",
       "      <td>y05</td>\n",
       "      <td>0</td>\n",
       "      <td>0</td>\n",
       "      <td>0</td>\n",
       "      <td>1</td>\n",
       "      <td>camel</td>\n",
       "      <td>camel_1</td>\n",
       "      <td>camel_1_0</td>\n",
       "      <td>camel_1_0_0</td>\n",
       "      <td>camel_1_0_0_0</td>\n",
       "    </tr>\n",
       "    <tr>\n",
       "      <th>3</th>\n",
       "      <td>[[116, 116, 116, 116, 116, 116, 116, 116, 116,...</td>\n",
       "      <td>pp</td>\n",
       "      <td>x00</td>\n",
       "      <td>y05</td>\n",
       "      <td>0</td>\n",
       "      <td>0</td>\n",
       "      <td>0</td>\n",
       "      <td>1</td>\n",
       "      <td>camel</td>\n",
       "      <td>camel_1</td>\n",
       "      <td>camel_1_0</td>\n",
       "      <td>camel_1_0_0</td>\n",
       "      <td>camel_1_0_0_0</td>\n",
       "    </tr>\n",
       "    <tr>\n",
       "      <th>4</th>\n",
       "      <td>[[134, 134, 134, 134, 134, 134, 134, 134, 134,...</td>\n",
       "      <td>np</td>\n",
       "      <td>x05</td>\n",
       "      <td>y05</td>\n",
       "      <td>0</td>\n",
       "      <td>0</td>\n",
       "      <td>0</td>\n",
       "      <td>1</td>\n",
       "      <td>camel</td>\n",
       "      <td>camel_1</td>\n",
       "      <td>camel_1_0</td>\n",
       "      <td>camel_1_0_0</td>\n",
       "      <td>camel_1_0_0_0</td>\n",
       "    </tr>\n",
       "  </tbody>\n",
       "</table>\n",
       "</div>"
      ],
      "text/plain": [
       "                                               image orientation xangle  \\\n",
       "0  [[116, 116, 116, 116, 116, 116, 116, 116, 116,...          pp    x00   \n",
       "1  [[133, 133, 134, 134, 134, 134, 134, 134, 134,...          pp    x05   \n",
       "2  [[116, 116, 116, 116, 116, 116, 116, 116, 116,...          np    x00   \n",
       "3  [[116, 116, 116, 116, 116, 116, 116, 116, 116,...          pp    x00   \n",
       "4  [[134, 134, 134, 134, 134, 134, 134, 134, 134,...          np    x05   \n",
       "\n",
       "  yangle pants cloth hair action_type  label  label_t   label_th    label_thc  \\\n",
       "0    y00     0     0    0           1  camel  camel_1  camel_1_0  camel_1_0_0   \n",
       "1    y00     0     0    0           1  camel  camel_1  camel_1_0  camel_1_0_0   \n",
       "2    y05     0     0    0           1  camel  camel_1  camel_1_0  camel_1_0_0   \n",
       "3    y05     0     0    0           1  camel  camel_1  camel_1_0  camel_1_0_0   \n",
       "4    y05     0     0    0           1  camel  camel_1  camel_1_0  camel_1_0_0   \n",
       "\n",
       "      label_thcp  \n",
       "0  camel_1_0_0_0  \n",
       "1  camel_1_0_0_0  \n",
       "2  camel_1_0_0_0  \n",
       "3  camel_1_0_0_0  \n",
       "4  camel_1_0_0_0  "
      ]
     },
     "execution_count": 82,
     "metadata": {},
     "output_type": "execute_result"
    }
   ],
   "source": [
    "df.head()"
   ]
  },
  {
   "cell_type": "code",
   "execution_count": 83,
   "id": "99b999c1-de4d-4244-9acc-7b791049f8e0",
   "metadata": {},
   "outputs": [],
   "source": [
    "label_map = create_label_map(df[\"label\"])\n",
    "label_t_map = create_label_map(df[\"label_t\"])\n",
    "label_th_map = create_label_map(df[\"label_th\"])\n",
    "label_thc_map = create_label_map(df[\"label_thc\"])\n",
    "label_thcp_map = create_label_map(df[\"label_thcp\"])"
   ]
  },
  {
   "cell_type": "code",
   "execution_count": 84,
   "id": "10b5333e-481d-4823-8d7c-a59d49837640",
   "metadata": {},
   "outputs": [
    {
     "data": {
      "text/plain": [
       "{'warrior_III': 0,\n",
       " 'chair': 1,\n",
       " 'warrior_II': 2,\n",
       " 'lotus': 3,\n",
       " 'lord_of_the_dance': 4,\n",
       " 'triangle': 5,\n",
       " 'upward_dog': 6,\n",
       " 'camel': 7,\n",
       " 'thunderbolt': 8,\n",
       " 'childs': 9}"
      ]
     },
     "execution_count": 84,
     "metadata": {},
     "output_type": "execute_result"
    }
   ],
   "source": [
    "label_map"
   ]
  },
  {
   "cell_type": "code",
   "execution_count": 85,
   "id": "fbc37c29-9b20-4b21-9303-91cc599be704",
   "metadata": {},
   "outputs": [
    {
     "data": {
      "text/plain": [
       "{'triangle_1': 0,\n",
       " 'upward_dog_1': 1,\n",
       " 'chair_4': 2,\n",
       " 'warrior_II_2': 3,\n",
       " 'lord_of_the_dance_1': 4,\n",
       " 'childs_3': 5,\n",
       " 'lotus_4': 6,\n",
       " 'triangle_3': 7,\n",
       " 'lotus_2': 8,\n",
       " 'warrior_III_4': 9,\n",
       " 'lord_of_the_dance_4': 10,\n",
       " 'upward_dog_2': 11,\n",
       " 'childs_1': 12,\n",
       " 'warrior_II_1': 13,\n",
       " 'childs_2': 14,\n",
       " 'warrior_III_2': 15,\n",
       " 'chair_2': 16,\n",
       " 'warrior_II_4': 17,\n",
       " 'triangle_2': 18,\n",
       " 'camel_1': 19,\n",
       " 'thunderbolt_2': 20,\n",
       " 'thunderbolt_3': 21,\n",
       " 'lotus_1': 22,\n",
       " 'chair_3': 23,\n",
       " 'thunderbolt_4': 24,\n",
       " 'camel_4': 25,\n",
       " 'camel_2': 26,\n",
       " 'warrior_II_3': 27,\n",
       " 'warrior_III_3': 28,\n",
       " 'childs_4': 29,\n",
       " 'chair_1': 30,\n",
       " 'camel_3': 31,\n",
       " 'thunderbolt_1': 32,\n",
       " 'triangle_4': 33,\n",
       " 'lotus_3': 34,\n",
       " 'warrior_III_1': 35,\n",
       " 'upward_dog_3': 36,\n",
       " 'lord_of_the_dance_3': 37,\n",
       " 'lord_of_the_dance_2': 38,\n",
       " 'upward_dog_4': 39}"
      ]
     },
     "execution_count": 85,
     "metadata": {},
     "output_type": "execute_result"
    }
   ],
   "source": [
    "label_t_map"
   ]
  },
  {
   "cell_type": "code",
   "execution_count": 86,
   "id": "bce63941-c9fc-4c11-9fbf-4947ee998238",
   "metadata": {},
   "outputs": [],
   "source": [
    "train_x = train_df[\"image\"].apply(lambda x: to_scale_one(x, scale=0.2).flatten()).to_list()"
   ]
  },
  {
   "cell_type": "code",
   "execution_count": 87,
   "id": "9fd5319f-95ee-4a1a-a056-c755af2930bd",
   "metadata": {},
   "outputs": [],
   "source": [
    "train_y = train_df[\"label\"].map(label_map).to_list()\n",
    "train_y_t = train_df[\"label_t\"].map(label_t_map).to_list()\n",
    "train_y_th = train_df[\"label_th\"].map(label_th_map).to_list()\n",
    "train_y_thc = train_df[\"label_thc\"].map(label_thc_map).to_list()\n",
    "train_y_thcp = train_df[\"label_thcp\"].map(label_thcp_map).to_list()"
   ]
  },
  {
   "cell_type": "code",
   "execution_count": 88,
   "id": "f21f1acf-b2c2-4f1d-87f8-093f2da21874",
   "metadata": {},
   "outputs": [],
   "source": [
    "test_x = test_df[\"image\"].apply(lambda x: to_scale_one(x, scale=0.2).flatten()).to_list()"
   ]
  },
  {
   "cell_type": "code",
   "execution_count": 89,
   "id": "fefefe69-772d-4d2a-ae8f-88c4f158a291",
   "metadata": {},
   "outputs": [],
   "source": [
    "test_y = test_df[\"label\"].map(label_map).to_list()\n",
    "test_y_t = test_df[\"label_t\"].map(label_t_map).to_list()\n",
    "test_y_th = test_df[\"label_th\"].map(label_th_map).to_list()\n",
    "test_y_thc = test_df[\"label_thc\"].map(label_thc_map).to_list()\n",
    "test_y_thcp = test_df[\"label_thcp\"].map(label_thcp_map).to_list()"
   ]
  },
  {
   "cell_type": "code",
   "execution_count": 90,
   "id": "6b2c2f26-4604-47b8-9ca8-403a0d7e69d8",
   "metadata": {},
   "outputs": [],
   "source": [
    "def train_svm(data_x, data_y):\n",
    "    clf = svm.SVC()\n",
    "    clf.fit(data_x, data_y)\n",
    "    return clf\n",
    "\n",
    "\n",
    "def train_logistic(data_x, data_y):\n",
    "    clf = LogisticRegression(random_state=0)\n",
    "    clf.fit(data_x, data_y)\n",
    "    return clf\n",
    "\n",
    "\n",
    "def train_gbt_n10_m1(data_x, data_y):\n",
    "    clf = GradientBoostingClassifier(\n",
    "        n_estimators=10,\n",
    "        learning_rate=1,\n",
    "        max_depth=1,\n",
    "        random_state=0\n",
    "    )\n",
    "    clf.fit(data_x, data_y)\n",
    "    return clf\n",
    "\n",
    "\n",
    "def evaluate(model, test_x, test_y):\n",
    "    res = model.predict(test_x)\n",
    "    correct = res == test_y\n",
    "    accuracy = correct.sum() / len(res)\n",
    "    return res, accuracy\n",
    "\n",
    "\n",
    "def load_or_train(train_x, train_y, test_x, test_y, train_func, label_map, path):\n",
    "    \n",
    "    if osp.exists(path):\n",
    "        return read_pickle(path)\n",
    "    \n",
    "    trained_model = train_func(train_x, train_y)\n",
    "    predictions, accuracy = evaluate(trained_model, test_x, test_y)\n",
    "    \n",
    "    df, df_incorrect, df_correct = format_results(predictions, test_y, label_map)\n",
    "    \n",
    "    write_pickle(path, (trained_model, predictions, accuracy, df, df_incorrect, df_correct, label_map)) \n",
    "    \n",
    "    return trained_model, predictions, accuracy, df, df_incorrect, df_correct, label_map\n",
    "\n",
    "\n",
    "def format_results(predictions, labels, label_map):\n",
    "    df = pd.DataFrame(\n",
    "        data={\n",
    "            \"prediction\": predictions,\n",
    "            \"label\": labels\n",
    "        }\n",
    "    )\n",
    "    df[\"check\"] = df[\"prediction\"] == df[\"label\"]\n",
    "\n",
    "    label_map_reverse = {v:k for k, v in label_map.items()}\n",
    "\n",
    "    df[\"prediction_name\"] = df.prediction.map(label_map_reverse)\n",
    "    df[\"label_name\"] = df.label.map(label_map_reverse)\n",
    "\n",
    "    df_incorrect = df[~df.check]\n",
    "    df_correct = df[df.check]\n",
    "\n",
    "    return df, df_incorrect, df_correct"
   ]
  },
  {
   "cell_type": "code",
   "execution_count": 91,
   "id": "9a42d41d-2ee1-4d85-90eb-1acc3756f7b3",
   "metadata": {},
   "outputs": [
    {
     "name": "stdout",
     "output_type": "stream",
     "text": [
      "0.997872340425532\n",
      "      prediction  label  check prediction_name   label_name\n",
      "48             1      0  False           chair  warrior_III\n",
      "148            7      0  False           camel  warrior_III\n",
      "176            7      0  False           camel  warrior_III\n",
      "978            9      2  False          childs   warrior_II\n",
      "1202           1      2  False           chair   warrior_II\n"
     ]
    }
   ],
   "source": [
    "save_path = \"C:/Users/aphri/Documents/t0002/pycharm/data/yg_ar/classic_models/gbt.pkl\"\n",
    "(\n",
    "    trained_gbt, \n",
    "    predictions_gbt, \n",
    "    accuracy_gbt, \n",
    "    df_gbt, \n",
    "    df_incorrect_gbt, \n",
    "    df_correct_gbt,\n",
    "    label_map_gbt\n",
    ")= load_or_train(\n",
    "    train_x, \n",
    "    train_y, \n",
    "    test_x, \n",
    "    test_y, \n",
    "    train_gbt_n10_m1, \n",
    "    label_map, \n",
    "    save_path\n",
    ")\n",
    "print(accuracy_gbt)\n",
    "print(df_incorrect_gbt.head())"
   ]
  },
  {
   "cell_type": "code",
   "execution_count": 92,
   "id": "20f38dd9-b491-48bb-adff-bd7c0b59b7db",
   "metadata": {},
   "outputs": [
    {
     "name": "stdout",
     "output_type": "stream",
     "text": [
      "0.007659574468085106\n",
      "   prediction  label  check prediction_name     label_name\n",
      "0          29     35  False        childs_4  warrior_III_1\n",
      "1          29     35  False        childs_4  warrior_III_1\n",
      "2          29     28  False        childs_4  warrior_III_3\n",
      "3          29     15  False        childs_4  warrior_III_2\n",
      "4          29      9  False        childs_4  warrior_III_4\n"
     ]
    }
   ],
   "source": [
    "save_path = \"C:/Users/aphri/Documents/t0002/pycharm/data/yg_ar/classic_models/gbt_t.pkl\"\n",
    "(\n",
    "    trained_gbt_t, \n",
    "    predictions_gbt_t, \n",
    "    accuracy_gbt_t, \n",
    "    df_gbt_t, \n",
    "    df_incorrect_gbt_t, \n",
    "    df_correct_gbt_t,\n",
    "    label_map_gbt_t\n",
    ")= load_or_train(\n",
    "    train_x, \n",
    "    train_y_t, \n",
    "    test_x, \n",
    "    test_y_t, \n",
    "    train_gbt_n10_m1, \n",
    "    label_t_map, \n",
    "    save_path\n",
    ")\n",
    "print(accuracy_gbt_t)\n",
    "print(df_incorrect_gbt_t.head())"
   ]
  },
  {
   "cell_type": "code",
   "execution_count": 93,
   "id": "f674799d-0b36-485c-8de3-8b975682e5ee",
   "metadata": {},
   "outputs": [
    {
     "name": "stdout",
     "output_type": "stream",
     "text": [
      "0.010851063829787235\n",
      "   prediction  label  check prediction_name       label_name\n",
      "0          63     72  False  warrior_II_4_2  warrior_III_1_0\n",
      "1          63     55  False  warrior_II_4_2  warrior_III_1_1\n",
      "2          63    114  False  warrior_II_4_2  warrior_III_3_2\n",
      "3          63    101  False  warrior_II_4_2  warrior_III_2_0\n",
      "4          63    127  False  warrior_II_4_2  warrior_III_4_0\n"
     ]
    }
   ],
   "source": [
    "save_path = \"C:/Users/aphri/Documents/t0002/pycharm/data/yg_ar/classic_models/gbt_th.pkl\"\n",
    "(\n",
    "    trained_gbt_th, \n",
    "    predictions_gbt_th, \n",
    "    accuracy_gbt_th, \n",
    "    df_gbt_th, \n",
    "    df_incorrect_gbt_th, \n",
    "    df_correct_gbt_th,\n",
    "    label_map_gbt_th\n",
    ")= load_or_train(\n",
    "    train_x, \n",
    "    train_y_th, \n",
    "    test_x, \n",
    "    test_y_th, \n",
    "    train_gbt_n10_m1, \n",
    "    label_th_map, \n",
    "    save_path\n",
    ")\n",
    "print(accuracy_gbt_th)\n",
    "print(df_incorrect_gbt_th.head())"
   ]
  },
  {
   "cell_type": "code",
   "execution_count": 78,
   "id": "67645d40-f07e-4473-916e-edf23cfcc3d9",
   "metadata": {},
   "outputs": [],
   "source": [
    "save_path = \"C:/Users/aphri/Documents/t0002/pycharm/data/yg_ar/classic_models/gbt_thc.pkl\"\n",
    "(\n",
    "    trained_gbt_thc, \n",
    "    predictions_gbt_thc, \n",
    "    accuracy_gbt_thc, \n",
    "    df_gbt_thc, \n",
    "    df_incorrect_gbt_thc, \n",
    "    df_correct_gbt_thc,\n",
    "    label_map_gbt_thc\n",
    ")= load_or_train(\n",
    "    train_x, \n",
    "    train_y_thc, \n",
    "    test_x, \n",
    "    test_y_thc, \n",
    "    train_gbt_n10_m1, \n",
    "    label_thc_map, \n",
    "    save_path\n",
    ")\n",
    "print(accuracy_gbt_thc)\n",
    "print(df_incorrect_gbt_thc.head())"
   ]
  },
  {
   "cell_type": "code",
   "execution_count": null,
   "id": "80e7c85f-29d8-436b-90ed-dcf6b7f6583e",
   "metadata": {},
   "outputs": [],
   "source": [
    "save_path = \"C:/Users/aphri/Documents/t0002/pycharm/data/yg_ar/classic_models/gbt_thcp.pkl\"\n",
    "(\n",
    "    trained_gbt_thcp, \n",
    "    predictions_gbt_thcp, \n",
    "    accuracy_gbt_thcp, \n",
    "    df_gbt_thcp, \n",
    "    df_incorrect_gbt_thcp, \n",
    "    df_correct_gbt_thcp,\n",
    "    label_map_gbt_thcp\n",
    ")= load_or_train(\n",
    "    train_x, \n",
    "    train_y_thcp, \n",
    "    test_x, \n",
    "    test_y_thcp, \n",
    "    train_gbt_n10_m1, \n",
    "    label_thcp_map, \n",
    "    save_path\n",
    ")\n",
    "print(accuracy_gbt_thcp)\n",
    "print(df_incorrect_gbt_thcp.head())"
   ]
  },
  {
   "cell_type": "code",
   "execution_count": 94,
   "id": "07de2998-8e41-4921-a595-d1096dfa7952",
   "metadata": {},
   "outputs": [
    {
     "name": "stdout",
     "output_type": "stream",
     "text": [
      "1.0\n",
      "Empty DataFrame\n",
      "Columns: [prediction, label, check, prediction_name, label_name]\n",
      "Index: []\n"
     ]
    }
   ],
   "source": [
    "save_path = \"C:/Users/aphri/Documents/t0002/pycharm/data/yg_ar/classic_models/svm.pkl\"\n",
    "(\n",
    "    trained_svm, \n",
    "    predictions_svm, \n",
    "    accuracy_svm, \n",
    "    df_svm, \n",
    "    df_incorrect_svm, \n",
    "    df_correct_svm,\n",
    "    label_map_svm\n",
    ")= load_or_train(\n",
    "    train_x, \n",
    "    train_y, \n",
    "    test_x, \n",
    "    test_y, \n",
    "    train_svm, \n",
    "    label_map, \n",
    "    save_path\n",
    ")\n",
    "print(accuracy_svm)\n",
    "print(df_incorrect_svm.head())"
   ]
  },
  {
   "cell_type": "code",
   "execution_count": 95,
   "id": "66359b0a-dfe3-40b8-b97c-d1af8342f837",
   "metadata": {},
   "outputs": [
    {
     "name": "stdout",
     "output_type": "stream",
     "text": [
      "1.0\n",
      "Empty DataFrame\n",
      "Columns: [prediction, label, check, prediction_name, label_name]\n",
      "Index: []\n"
     ]
    }
   ],
   "source": [
    "save_path = \"C:/Users/aphri/Documents/t0002/pycharm/data/yg_ar/classic_models/svm_t.pkl\"\n",
    "(\n",
    "    trained_svm_t, \n",
    "    predictions_svm_t, \n",
    "    accuracy_svm_t, \n",
    "    df_svm_t,\n",
    "    df_incorrect_svm_t, \n",
    "    df_correct_svm_t,\n",
    "    label_map_svm_t\n",
    ")= load_or_train(\n",
    "    train_x, \n",
    "    train_y_t, \n",
    "    test_x, \n",
    "    test_y_t, \n",
    "    train_svm, \n",
    "    label_t_map, \n",
    "    save_path\n",
    ")\n",
    "print(accuracy_svm_t)\n",
    "print(df_incorrect_svm_t.head())"
   ]
  },
  {
   "cell_type": "code",
   "execution_count": 96,
   "id": "08c0888b-6c6b-4809-8eed-839c5c22dca9",
   "metadata": {},
   "outputs": [
    {
     "name": "stdout",
     "output_type": "stream",
     "text": [
      "0.9751063829787234\n",
      "      prediction  label  check prediction_name      label_name\n",
      "952           63    102  False  warrior_II_4_2  warrior_II_4_1\n",
      "993          149      9  False  warrior_II_3_2  warrior_II_3_1\n",
      "1085         149      9  False  warrior_II_3_2  warrior_II_3_1\n",
      "1177          63    102  False  warrior_II_4_2  warrior_II_4_1\n",
      "1268          63    102  False  warrior_II_4_2  warrior_II_4_1\n"
     ]
    }
   ],
   "source": [
    "save_path = \"C:/Users/aphri/Documents/t0002/pycharm/data/yg_ar/classic_models/svm_th.pkl\"\n",
    "(\n",
    "    trained_svm_th, \n",
    "    predictions_svm_th, \n",
    "    accuracy_svm_th, \n",
    "    df_svm_th,\n",
    "    df_incorrect_svm_th, \n",
    "    df_correct_svm_th,\n",
    "    label_map_svm_th\n",
    ")= load_or_train(\n",
    "    train_x, \n",
    "    train_y_th, \n",
    "    test_x, \n",
    "    test_y_th, \n",
    "    train_svm, \n",
    "    label_th_map, \n",
    "    save_path\n",
    ")\n",
    "print(accuracy_svm_th)\n",
    "print(df_incorrect_svm_th.head())"
   ]
  },
  {
   "cell_type": "code",
   "execution_count": 97,
   "id": "b376c95c-cfd9-4d37-9ad7-8ee6ced3ad31",
   "metadata": {},
   "outputs": [
    {
     "name": "stdout",
     "output_type": "stream",
     "text": [
      "0.7012765957446808\n",
      "    prediction  label  check    prediction_name         label_name\n",
      "0          132    262  False  warrior_III_1_1_3  warrior_III_1_0_3\n",
      "16         254    582  False  warrior_III_2_0_2  warrior_III_2_0_3\n",
      "17          97    358  False  warrior_III_2_1_0  warrior_III_2_2_0\n",
      "27          97    358  False  warrior_III_2_1_0  warrior_III_2_2_0\n",
      "30         533    262  False  warrior_III_1_0_2  warrior_III_1_0_3\n"
     ]
    }
   ],
   "source": [
    "save_path = \"C:/Users/aphri/Documents/t0002/pycharm/data/yg_ar/classic_models/svm_thc.pkl\"\n",
    "(\n",
    "    trained_svm_thc, \n",
    "    predictions_svm_thc, \n",
    "    accuracy_svm_thc, \n",
    "    df_svm_thc,\n",
    "    df_incorrect_svm_thc, \n",
    "    df_correct_svm_thc,\n",
    "    label_map_svm_thc\n",
    ")= load_or_train(\n",
    "    train_x, \n",
    "    train_y_thc, \n",
    "    test_x, \n",
    "    test_y_thc, \n",
    "    train_svm, \n",
    "    label_thc_map, \n",
    "    save_path\n",
    ")\n",
    "print(accuracy_svm_thc)\n",
    "print(df_incorrect_svm_thc.head())"
   ]
  },
  {
   "cell_type": "code",
   "execution_count": 98,
   "id": "3f2a36ce-ca93-4cd1-adef-c00bd6ecc122",
   "metadata": {},
   "outputs": [
    {
     "name": "stdout",
     "output_type": "stream",
     "text": [
      "0.11808510638297873\n",
      "   prediction  label  check      prediction_name           label_name\n",
      "0         836   1188  False  warrior_III_1_1_3_1  warrior_III_1_0_3_1\n",
      "1        2111   1274  False  warrior_III_1_0_0_3  warrior_III_1_1_0_3\n",
      "2        1016   2221  False  warrior_III_3_1_1_0  warrior_III_3_2_1_0\n",
      "3         510    980  False  warrior_III_2_2_3_0  warrior_III_2_0_3_0\n",
      "4        2034   2058  False  warrior_III_4_0_1_1  warrior_III_4_0_0_1\n"
     ]
    }
   ],
   "source": [
    "save_path = \"C:/Users/aphri/Documents/t0002/pycharm/data/yg_ar/classic_models/svm_thcp.pkl\"\n",
    "(\n",
    "    trained_svm_thcp, \n",
    "    predictions_svm_thcp, \n",
    "    accuracy_svm_thcp, \n",
    "    df_svm_thcp,\n",
    "    df_incorrect_svm_thcp, \n",
    "    df_correct_svm_thcp,\n",
    "    label_map_svm_thcp\n",
    ")= load_or_train(\n",
    "    train_x, \n",
    "    train_y_thcp, \n",
    "    test_x, \n",
    "    test_y_thcp, \n",
    "    train_svm, \n",
    "    label_thcp_map, \n",
    "    save_path\n",
    ")\n",
    "print(accuracy_svm_thcp)\n",
    "print(df_incorrect_svm_thcp.head())"
   ]
  },
  {
   "cell_type": "code",
   "execution_count": 99,
   "id": "98a75f18-62af-48c3-aed8-c9dc7196d1e1",
   "metadata": {},
   "outputs": [
    {
     "name": "stdout",
     "output_type": "stream",
     "text": [
      "1.0\n",
      "Empty DataFrame\n",
      "Columns: [prediction, label, check, prediction_name, label_name]\n",
      "Index: []\n"
     ]
    }
   ],
   "source": [
    "save_path = \"C:/Users/aphri/Documents/t0002/pycharm/data/yg_ar/classic_models/logistic.pkl\"\n",
    "(\n",
    "    trained_logistic, \n",
    "    predictions_logistic, \n",
    "    accuracy_logistic, \n",
    "    df_logistic,\n",
    "    df_incorrect_logistic, \n",
    "    df_correct_logistic,\n",
    "    label_map_logistic\n",
    ")= load_or_train(\n",
    "    train_x, \n",
    "    train_y, \n",
    "    test_x, \n",
    "    test_y, \n",
    "    train_logistic, \n",
    "    label_map, \n",
    "    save_path\n",
    ")\n",
    "print(accuracy_logistic)\n",
    "print(df_incorrect_logistic.head())"
   ]
  },
  {
   "cell_type": "code",
   "execution_count": 100,
   "id": "7c02bb52-29e4-4650-9336-4a9a406395df",
   "metadata": {},
   "outputs": [
    {
     "name": "stdout",
     "output_type": "stream",
     "text": [
      "0.9980851063829788\n",
      "      prediction  label  check prediction_name     label_name\n",
      "2625           0      7  False      triangle_1     triangle_3\n",
      "2740           0      7  False      triangle_1     triangle_3\n",
      "4149          21     24  False   thunderbolt_3  thunderbolt_4\n",
      "4297           5     12  False        childs_3       childs_1\n",
      "4452           5     12  False        childs_3       childs_1\n"
     ]
    }
   ],
   "source": [
    "save_path = \"C:/Users/aphri/Documents/t0002/pycharm/data/yg_ar/classic_models/logistic_t.pkl\"\n",
    "(\n",
    "    trained_logistic_t, \n",
    "    predictions_logistic_t, \n",
    "    accuracy_logistic_t, \n",
    "    df_logistic_t,\n",
    "    df_incorrect_logistic_t, \n",
    "    df_correct_logistic_t,\n",
    "    label_map_logistic_t\n",
    ")= load_or_train(\n",
    "    train_x, \n",
    "    train_y_t, \n",
    "    test_x, \n",
    "    test_y_t, \n",
    "    train_logistic, \n",
    "    label_t_map, \n",
    "    save_path\n",
    ")\n",
    "print(accuracy_logistic_t)\n",
    "print(df_incorrect_logistic_t.head())"
   ]
  },
  {
   "cell_type": "code",
   "execution_count": 101,
   "id": "aee440c5-c2b1-4bd4-9227-c3b26bcf125e",
   "metadata": {},
   "outputs": [
    {
     "name": "stdout",
     "output_type": "stream",
     "text": [
      "0.9631914893617022\n",
      "      prediction  label  check prediction_name label_name\n",
      "779           92    151  False       chair_1_2  chair_3_2\n",
      "1414         156     61  False       lotus_3_2  lotus_4_0\n",
      "1422         116    130  False       lotus_4_2  lotus_4_1\n",
      "1428          43    135  False       lotus_2_1  lotus_3_1\n",
      "1436         135    156  False       lotus_3_1  lotus_3_2\n"
     ]
    },
    {
     "name": "stderr",
     "output_type": "stream",
     "text": [
      "c:\\users\\aphri\\miniconda3\\lib\\site-packages\\sklearn\\linear_model\\_logistic.py:458: ConvergenceWarning: lbfgs failed to converge (status=1):\n",
      "STOP: TOTAL NO. of ITERATIONS REACHED LIMIT.\n",
      "\n",
      "Increase the number of iterations (max_iter) or scale the data as shown in:\n",
      "    https://scikit-learn.org/stable/modules/preprocessing.html\n",
      "Please also refer to the documentation for alternative solver options:\n",
      "    https://scikit-learn.org/stable/modules/linear_model.html#logistic-regression\n",
      "  n_iter_i = _check_optimize_result(\n"
     ]
    }
   ],
   "source": [
    "save_path = \"C:/Users/aphri/Documents/t0002/pycharm/data/yg_ar/classic_models/logistic_th.pkl\"\n",
    "(\n",
    "    trained_logistic_th, \n",
    "    predictions_logistic_th, \n",
    "    accuracy_logistic_th, \n",
    "    df_logistic_th,\n",
    "    df_incorrect_logistic_th, \n",
    "    df_correct_logistic_th,\n",
    "    label_map_logistic_th\n",
    ")= load_or_train(\n",
    "    train_x, \n",
    "    train_y_th, \n",
    "    test_x, \n",
    "    test_y_th, \n",
    "    train_logistic, \n",
    "    label_th_map, \n",
    "    save_path\n",
    ")\n",
    "print(accuracy_logistic_th)\n",
    "print(df_incorrect_logistic_th.head())"
   ]
  },
  {
   "cell_type": "code",
   "execution_count": 102,
   "id": "fecc7a42-73ec-408f-bca7-9a9268b70086",
   "metadata": {},
   "outputs": [
    {
     "name": "stdout",
     "output_type": "stream",
     "text": [
      "0.9131914893617021\n",
      "    prediction  label  check    prediction_name         label_name\n",
      "16         254    582  False  warrior_III_2_0_2  warrior_III_2_0_3\n",
      "51         335    132  False  warrior_III_1_1_2  warrior_III_1_1_3\n",
      "52         396    117  False  warrior_III_2_2_2  warrior_III_2_2_3\n",
      "53         638    380  False  warrior_III_3_0_3  warrior_III_3_1_3\n",
      "56         335    132  False  warrior_III_1_1_2  warrior_III_1_1_3\n"
     ]
    },
    {
     "name": "stderr",
     "output_type": "stream",
     "text": [
      "c:\\users\\aphri\\miniconda3\\lib\\site-packages\\sklearn\\linear_model\\_logistic.py:458: ConvergenceWarning: lbfgs failed to converge (status=1):\n",
      "STOP: TOTAL NO. of ITERATIONS REACHED LIMIT.\n",
      "\n",
      "Increase the number of iterations (max_iter) or scale the data as shown in:\n",
      "    https://scikit-learn.org/stable/modules/preprocessing.html\n",
      "Please also refer to the documentation for alternative solver options:\n",
      "    https://scikit-learn.org/stable/modules/linear_model.html#logistic-regression\n",
      "  n_iter_i = _check_optimize_result(\n"
     ]
    }
   ],
   "source": [
    "save_path = \"C:/Users/aphri/Documents/t0002/pycharm/data/yg_ar/classic_models/logistic_thc.pkl\"\n",
    "(\n",
    "    trained_logistic_thc, \n",
    "    predictions_logistic_thc, \n",
    "    accuracy_logistic_thc, \n",
    "    df_logistic_thc,\n",
    "    df_incorrect_logistic_thc, \n",
    "    df_correct_logistic_thc,\n",
    "    label_map_logistic_thc\n",
    ")= load_or_train(\n",
    "    train_x, \n",
    "    train_y_thc, \n",
    "    test_x, \n",
    "    test_y_thc, \n",
    "    train_logistic, \n",
    "    label_thc_map, \n",
    "    save_path\n",
    ")\n",
    "print(accuracy_logistic_thc)\n",
    "print(df_incorrect_logistic_thc.head())"
   ]
  },
  {
   "cell_type": "code",
   "execution_count": 103,
   "id": "8056bb8c-87dd-4230-aefe-18e41c921a01",
   "metadata": {},
   "outputs": [
    {
     "name": "stderr",
     "output_type": "stream",
     "text": [
      "c:\\users\\aphri\\miniconda3\\lib\\site-packages\\sklearn\\linear_model\\_logistic.py:458: ConvergenceWarning: lbfgs failed to converge (status=1):\n",
      "STOP: TOTAL NO. of ITERATIONS REACHED LIMIT.\n",
      "\n",
      "Increase the number of iterations (max_iter) or scale the data as shown in:\n",
      "    https://scikit-learn.org/stable/modules/preprocessing.html\n",
      "Please also refer to the documentation for alternative solver options:\n",
      "    https://scikit-learn.org/stable/modules/linear_model.html#logistic-regression\n",
      "  n_iter_i = _check_optimize_result(\n"
     ]
    },
    {
     "name": "stdout",
     "output_type": "stream",
     "text": [
      "0.5974468085106382\n",
      "    prediction  label  check      prediction_name           label_name\n",
      "0          836   1188  False  warrior_III_1_1_3_1  warrior_III_1_0_3_1\n",
      "5         2409   1978  False  warrior_III_3_1_1_2  warrior_III_3_2_1_2\n",
      "6         1551   1998  False  warrior_III_2_0_2_3  warrior_III_2_0_3_3\n",
      "9         1998   1551  False  warrior_III_2_0_3_3  warrior_III_2_0_2_3\n",
      "13        1825   2221  False  warrior_III_3_1_1_3  warrior_III_3_2_1_0\n"
     ]
    }
   ],
   "source": [
    "save_path = \"C:/Users/aphri/Documents/t0002/pycharm/data/yg_ar/classic_models/logistic_thcp.pkl\"\n",
    "(\n",
    "    trained_logistic_thcp, \n",
    "    predictions_logistic_thcp, \n",
    "    accuracy_logistic_thcp, \n",
    "    df_logistic_thcp,\n",
    "    df_incorrect_logistic_thcp, \n",
    "    df_correct_logistic_thcp,\n",
    "    label_map_logistic_thcp\n",
    ")= load_or_train(\n",
    "    train_x, \n",
    "    train_y_thcp, \n",
    "    test_x, \n",
    "    test_y_thcp, \n",
    "    train_logistic, \n",
    "    label_thcp_map, \n",
    "    save_path\n",
    ")\n",
    "print(accuracy_logistic_thcp)\n",
    "print(df_incorrect_logistic_thcp.head())"
   ]
  },
  {
   "cell_type": "code",
   "execution_count": null,
   "id": "8528673a-2149-40e0-9a2c-0ca6db4fef0a",
   "metadata": {},
   "outputs": [],
   "source": []
  }
 ],
 "metadata": {
  "kernelspec": {
   "display_name": "Python 3 (ipykernel)",
   "language": "python",
   "name": "python3"
  },
  "language_info": {
   "codemirror_mode": {
    "name": "ipython",
    "version": 3
   },
   "file_extension": ".py",
   "mimetype": "text/x-python",
   "name": "python",
   "nbconvert_exporter": "python",
   "pygments_lexer": "ipython3",
   "version": "3.9.1"
  }
 },
 "nbformat": 4,
 "nbformat_minor": 5
}
